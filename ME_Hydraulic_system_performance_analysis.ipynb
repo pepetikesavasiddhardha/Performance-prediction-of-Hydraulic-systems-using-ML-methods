{
  "nbformat": 4,
  "nbformat_minor": 0,
  "metadata": {
    "colab": {
      "provenance": [],
      "collapsed_sections": [
        "nW6W-H0AlG1M",
        "u9OwQ86MmiTr",
        "bDK_ywu1n1-P"
      ]
    },
    "kernelspec": {
      "name": "python3",
      "display_name": "Python 3"
    },
    "language_info": {
      "name": "python"
    }
  },
  "cells": [
    {
      "cell_type": "markdown",
      "source": [
        "#Basic data Preprocessing and feature extraction"
      ],
      "metadata": {
        "id": "0G2A4yiBpCrr"
      }
    },
    {
      "cell_type": "code",
      "execution_count": null,
      "metadata": {
        "id": "qfjTR3n8Jyx2"
      },
      "outputs": [],
      "source": [
        "from typing import Iterable, List, Dict, Callable\n",
        "import os\n",
        "import gc"
      ]
    },
    {
      "cell_type": "code",
      "source": [
        "!pip install sklearn_relief"
      ],
      "metadata": {
        "colab": {
          "base_uri": "https://localhost:8080/"
        },
        "id": "-cOilKgl3k-P",
        "outputId": "87debe07-2761-4216-cf35-10d281a2adcb"
      },
      "execution_count": null,
      "outputs": [
        {
          "output_type": "stream",
          "name": "stdout",
          "text": [
            "Looking in indexes: https://pypi.org/simple, https://us-python.pkg.dev/colab-wheels/public/simple/\n",
            "Collecting sklearn_relief\n",
            "  Downloading sklearn_relief-1.0.0b2-py3-none-any.whl (8.7 kB)\n",
            "Requirement already satisfied: numpy>=1.13.3 in /usr/local/lib/python3.7/dist-packages (from sklearn_relief) (1.21.6)\n",
            "Requirement already satisfied: scikit-learn>=0.19.1 in /usr/local/lib/python3.7/dist-packages (from sklearn_relief) (1.0.2)\n",
            "Requirement already satisfied: scipy>=1.0.0 in /usr/local/lib/python3.7/dist-packages (from sklearn_relief) (1.7.3)\n",
            "Requirement already satisfied: threadpoolctl>=2.0.0 in /usr/local/lib/python3.7/dist-packages (from scikit-learn>=0.19.1->sklearn_relief) (3.1.0)\n",
            "Requirement already satisfied: joblib>=0.11 in /usr/local/lib/python3.7/dist-packages (from scikit-learn>=0.19.1->sklearn_relief) (1.1.0)\n",
            "Installing collected packages: sklearn-relief\n",
            "Successfully installed sklearn-relief-1.0.0b2\n"
          ]
        }
      ]
    },
    {
      "cell_type": "code",
      "source": [
        "import pandas as pd\n",
        "import numpy as np\n",
        "import matplotlib.pyplot as plt\n",
        "import seaborn as sns\n",
        "import math\n",
        "import statistics\n",
        "from sklearn.svm import SVC\n",
        "from sklearn.metrics import classification_report, confusion_matrix\n",
        "from scipy.stats import kurtosis\n",
        "from scipy.stats import skew\n",
        "import sklearn_relief as relief\n",
        "from sklearn.metrics import accuracy_score"
      ],
      "metadata": {
        "id": "xigSecmxM72Z"
      },
      "execution_count": null,
      "outputs": []
    },
    {
      "cell_type": "code",
      "source": [
        "! pip install kaggle"
      ],
      "metadata": {
        "id": "YH25mc0NM-aW",
        "colab": {
          "base_uri": "https://localhost:8080/"
        },
        "outputId": "4785ffba-e5d3-4982-a8af-2ecd4aadc7dd"
      },
      "execution_count": null,
      "outputs": [
        {
          "output_type": "stream",
          "name": "stdout",
          "text": [
            "Looking in indexes: https://pypi.org/simple, https://us-python.pkg.dev/colab-wheels/public/simple/\n",
            "Requirement already satisfied: kaggle in /usr/local/lib/python3.7/dist-packages (1.5.12)\n",
            "Requirement already satisfied: six>=1.10 in /usr/local/lib/python3.7/dist-packages (from kaggle) (1.15.0)\n",
            "Requirement already satisfied: certifi in /usr/local/lib/python3.7/dist-packages (from kaggle) (2022.6.15)\n",
            "Requirement already satisfied: python-dateutil in /usr/local/lib/python3.7/dist-packages (from kaggle) (2.8.2)\n",
            "Requirement already satisfied: python-slugify in /usr/local/lib/python3.7/dist-packages (from kaggle) (6.1.2)\n",
            "Requirement already satisfied: requests in /usr/local/lib/python3.7/dist-packages (from kaggle) (2.23.0)\n",
            "Requirement already satisfied: urllib3 in /usr/local/lib/python3.7/dist-packages (from kaggle) (1.24.3)\n",
            "Requirement already satisfied: tqdm in /usr/local/lib/python3.7/dist-packages (from kaggle) (4.64.1)\n",
            "Requirement already satisfied: text-unidecode>=1.3 in /usr/local/lib/python3.7/dist-packages (from python-slugify->kaggle) (1.3)\n",
            "Requirement already satisfied: chardet<4,>=3.0.2 in /usr/local/lib/python3.7/dist-packages (from requests->kaggle) (3.0.4)\n",
            "Requirement already satisfied: idna<3,>=2.5 in /usr/local/lib/python3.7/dist-packages (from requests->kaggle) (2.10)\n"
          ]
        }
      ]
    },
    {
      "cell_type": "code",
      "source": [
        "! mkdir ~/.kaggle"
      ],
      "metadata": {
        "id": "ZDnfR7cvM-c6"
      },
      "execution_count": null,
      "outputs": []
    },
    {
      "cell_type": "code",
      "source": [
        "! cp kaggle.json ~/.kaggle/"
      ],
      "metadata": {
        "id": "Q-te6Mi9M-h3"
      },
      "execution_count": null,
      "outputs": []
    },
    {
      "cell_type": "code",
      "source": [
        "! chmod 600 ~/.kaggle/kaggle.json"
      ],
      "metadata": {
        "id": "3p0LpbgYM-k3"
      },
      "execution_count": null,
      "outputs": []
    },
    {
      "cell_type": "code",
      "source": [
        "! kaggle datasets download jjacostupa/condition-monitoring-of-hydraulic-systems"
      ],
      "metadata": {
        "id": "WLxwQnOPM-n1",
        "colab": {
          "base_uri": "https://localhost:8080/"
        },
        "outputId": "d5b1b5f6-ad03-4469-fa54-adbfe4b621c6"
      },
      "execution_count": null,
      "outputs": [
        {
          "output_type": "stream",
          "name": "stdout",
          "text": [
            "Downloading condition-monitoring-of-hydraulic-systems.zip to /content\n",
            " 89% 81.0M/91.1M [00:01<00:00, 75.5MB/s]\n",
            "100% 91.1M/91.1M [00:01<00:00, 48.1MB/s]\n"
          ]
        }
      ]
    },
    {
      "cell_type": "code",
      "source": [
        "! unzip condition-monitoring-of-hydraulic-systems"
      ],
      "metadata": {
        "id": "juBZqcRzM-sw",
        "colab": {
          "base_uri": "https://localhost:8080/"
        },
        "outputId": "47668837-bdb8-4479-968c-e0f777786f6b"
      },
      "execution_count": null,
      "outputs": [
        {
          "output_type": "stream",
          "name": "stdout",
          "text": [
            "Archive:  condition-monitoring-of-hydraulic-systems.zip\n",
            "  inflating: CE.txt                  \n",
            "  inflating: CP.txt                  \n",
            "  inflating: EPS1.txt                \n",
            "  inflating: FS1.txt                 \n",
            "  inflating: FS2.txt                 \n",
            "  inflating: PS1.txt                 \n",
            "  inflating: PS2.txt                 \n",
            "  inflating: PS3.txt                 \n",
            "  inflating: PS4.txt                 \n",
            "  inflating: PS5.txt                 \n",
            "  inflating: PS6.txt                 \n",
            "  inflating: SE.txt                  \n",
            "  inflating: TS1.txt                 \n",
            "  inflating: TS2.txt                 \n",
            "  inflating: TS3.txt                 \n",
            "  inflating: TS4.txt                 \n",
            "  inflating: VS1.txt                 \n",
            "  inflating: description.txt         \n",
            "  inflating: documentation.txt       \n",
            "  inflating: profile.txt             \n"
          ]
        }
      ]
    },
    {
      "cell_type": "code",
      "source": [
        "ps1 = pd.read_csv('PS1.txt',delim_whitespace = True,header = None)\n",
        "ps2 = pd.read_csv('PS2.txt',delim_whitespace = True,header = None)\n",
        "ps3 = pd.read_csv('PS3.txt',delim_whitespace = True,header = None)\n",
        "ps4 = pd.read_csv('PS3.txt',delim_whitespace = True,header = None)\n",
        "ps5 = pd.read_csv('PS5.txt',delim_whitespace = True,header = None)\n",
        "ps6 = pd.read_csv('PS6.txt',delim_whitespace = True,header = None)"
      ],
      "metadata": {
        "id": "XqDh9IWYM-uZ"
      },
      "execution_count": null,
      "outputs": []
    },
    {
      "cell_type": "code",
      "source": [
        "target = pd.read_csv(\"profile.txt\",delim_whitespace = True,header = None)"
      ],
      "metadata": {
        "id": "ZRkoBUKMNcJr"
      },
      "execution_count": null,
      "outputs": []
    },
    {
      "cell_type": "code",
      "source": [
        "TARGET_VALUES_MAP = {\n",
        "    \"cooler\": {\n",
        "        3: \"close to total failure\",\n",
        "        20: \"reduced effifiency\",\n",
        "        100: \"full efficiency\",\n",
        "    },\n",
        "    \"valve\": {\n",
        "        100:\"optimal switching behavior\",\n",
        "        90: \"small lag\",\n",
        "        80: \"severe lag\",\n",
        "        73: \"close to total failure\",\n",
        "    }, \n",
        "    \"leakage\": {\n",
        "        0: \"no\",\n",
        "\t    1: \"weak\",\n",
        "\t    2: \"severe\",\n",
        "    },\n",
        "    \"accumulator\": {\n",
        "        130: \"optimal pressure\",\n",
        "    \t115: \"slightly reduced pressure\",\n",
        "\t    100: \"severely reduced pressure\",\n",
        "\t    90:  \"close to total failure\",\n",
        "     },\n",
        "     \"stable\":{\n",
        "        0: \"yes\",\n",
        "\t    1: \"not\",\n",
        "     }\n",
        "}"
      ],
      "metadata": {
        "id": "S_WmYirZ3MD4"
      },
      "execution_count": null,
      "outputs": []
    },
    {
      "cell_type": "code",
      "source": [
        "target.head()"
      ],
      "metadata": {
        "id": "zbkd0Y_7NcMf",
        "colab": {
          "base_uri": "https://localhost:8080/",
          "height": 206
        },
        "outputId": "18ee9651-4eaf-4b71-dbba-3b7f082a525f"
      },
      "execution_count": null,
      "outputs": [
        {
          "output_type": "execute_result",
          "data": {
            "text/plain": [
              "   0    1  2    3  4\n",
              "0  3  100  0  130  1\n",
              "1  3  100  0  130  1\n",
              "2  3  100  0  130  1\n",
              "3  3  100  0  130  1\n",
              "4  3  100  0  130  1"
            ],
            "text/html": [
              "\n",
              "  <div id=\"df-337f258b-68e3-49cb-935d-ccc5d7679e38\">\n",
              "    <div class=\"colab-df-container\">\n",
              "      <div>\n",
              "<style scoped>\n",
              "    .dataframe tbody tr th:only-of-type {\n",
              "        vertical-align: middle;\n",
              "    }\n",
              "\n",
              "    .dataframe tbody tr th {\n",
              "        vertical-align: top;\n",
              "    }\n",
              "\n",
              "    .dataframe thead th {\n",
              "        text-align: right;\n",
              "    }\n",
              "</style>\n",
              "<table border=\"1\" class=\"dataframe\">\n",
              "  <thead>\n",
              "    <tr style=\"text-align: right;\">\n",
              "      <th></th>\n",
              "      <th>0</th>\n",
              "      <th>1</th>\n",
              "      <th>2</th>\n",
              "      <th>3</th>\n",
              "      <th>4</th>\n",
              "    </tr>\n",
              "  </thead>\n",
              "  <tbody>\n",
              "    <tr>\n",
              "      <th>0</th>\n",
              "      <td>3</td>\n",
              "      <td>100</td>\n",
              "      <td>0</td>\n",
              "      <td>130</td>\n",
              "      <td>1</td>\n",
              "    </tr>\n",
              "    <tr>\n",
              "      <th>1</th>\n",
              "      <td>3</td>\n",
              "      <td>100</td>\n",
              "      <td>0</td>\n",
              "      <td>130</td>\n",
              "      <td>1</td>\n",
              "    </tr>\n",
              "    <tr>\n",
              "      <th>2</th>\n",
              "      <td>3</td>\n",
              "      <td>100</td>\n",
              "      <td>0</td>\n",
              "      <td>130</td>\n",
              "      <td>1</td>\n",
              "    </tr>\n",
              "    <tr>\n",
              "      <th>3</th>\n",
              "      <td>3</td>\n",
              "      <td>100</td>\n",
              "      <td>0</td>\n",
              "      <td>130</td>\n",
              "      <td>1</td>\n",
              "    </tr>\n",
              "    <tr>\n",
              "      <th>4</th>\n",
              "      <td>3</td>\n",
              "      <td>100</td>\n",
              "      <td>0</td>\n",
              "      <td>130</td>\n",
              "      <td>1</td>\n",
              "    </tr>\n",
              "  </tbody>\n",
              "</table>\n",
              "</div>\n",
              "      <button class=\"colab-df-convert\" onclick=\"convertToInteractive('df-337f258b-68e3-49cb-935d-ccc5d7679e38')\"\n",
              "              title=\"Convert this dataframe to an interactive table.\"\n",
              "              style=\"display:none;\">\n",
              "        \n",
              "  <svg xmlns=\"http://www.w3.org/2000/svg\" height=\"24px\"viewBox=\"0 0 24 24\"\n",
              "       width=\"24px\">\n",
              "    <path d=\"M0 0h24v24H0V0z\" fill=\"none\"/>\n",
              "    <path d=\"M18.56 5.44l.94 2.06.94-2.06 2.06-.94-2.06-.94-.94-2.06-.94 2.06-2.06.94zm-11 1L8.5 8.5l.94-2.06 2.06-.94-2.06-.94L8.5 2.5l-.94 2.06-2.06.94zm10 10l.94 2.06.94-2.06 2.06-.94-2.06-.94-.94-2.06-.94 2.06-2.06.94z\"/><path d=\"M17.41 7.96l-1.37-1.37c-.4-.4-.92-.59-1.43-.59-.52 0-1.04.2-1.43.59L10.3 9.45l-7.72 7.72c-.78.78-.78 2.05 0 2.83L4 21.41c.39.39.9.59 1.41.59.51 0 1.02-.2 1.41-.59l7.78-7.78 2.81-2.81c.8-.78.8-2.07 0-2.86zM5.41 20L4 18.59l7.72-7.72 1.47 1.35L5.41 20z\"/>\n",
              "  </svg>\n",
              "      </button>\n",
              "      \n",
              "  <style>\n",
              "    .colab-df-container {\n",
              "      display:flex;\n",
              "      flex-wrap:wrap;\n",
              "      gap: 12px;\n",
              "    }\n",
              "\n",
              "    .colab-df-convert {\n",
              "      background-color: #E8F0FE;\n",
              "      border: none;\n",
              "      border-radius: 50%;\n",
              "      cursor: pointer;\n",
              "      display: none;\n",
              "      fill: #1967D2;\n",
              "      height: 32px;\n",
              "      padding: 0 0 0 0;\n",
              "      width: 32px;\n",
              "    }\n",
              "\n",
              "    .colab-df-convert:hover {\n",
              "      background-color: #E2EBFA;\n",
              "      box-shadow: 0px 1px 2px rgba(60, 64, 67, 0.3), 0px 1px 3px 1px rgba(60, 64, 67, 0.15);\n",
              "      fill: #174EA6;\n",
              "    }\n",
              "\n",
              "    [theme=dark] .colab-df-convert {\n",
              "      background-color: #3B4455;\n",
              "      fill: #D2E3FC;\n",
              "    }\n",
              "\n",
              "    [theme=dark] .colab-df-convert:hover {\n",
              "      background-color: #434B5C;\n",
              "      box-shadow: 0px 1px 3px 1px rgba(0, 0, 0, 0.15);\n",
              "      filter: drop-shadow(0px 1px 2px rgba(0, 0, 0, 0.3));\n",
              "      fill: #FFFFFF;\n",
              "    }\n",
              "  </style>\n",
              "\n",
              "      <script>\n",
              "        const buttonEl =\n",
              "          document.querySelector('#df-337f258b-68e3-49cb-935d-ccc5d7679e38 button.colab-df-convert');\n",
              "        buttonEl.style.display =\n",
              "          google.colab.kernel.accessAllowed ? 'block' : 'none';\n",
              "\n",
              "        async function convertToInteractive(key) {\n",
              "          const element = document.querySelector('#df-337f258b-68e3-49cb-935d-ccc5d7679e38');\n",
              "          const dataTable =\n",
              "            await google.colab.kernel.invokeFunction('convertToInteractive',\n",
              "                                                     [key], {});\n",
              "          if (!dataTable) return;\n",
              "\n",
              "          const docLinkHtml = 'Like what you see? Visit the ' +\n",
              "            '<a target=\"_blank\" href=https://colab.research.google.com/notebooks/data_table.ipynb>data table notebook</a>'\n",
              "            + ' to learn more about interactive tables.';\n",
              "          element.innerHTML = '';\n",
              "          dataTable['output_type'] = 'display_data';\n",
              "          await google.colab.output.renderOutput(dataTable, element);\n",
              "          const docLink = document.createElement('div');\n",
              "          docLink.innerHTML = docLinkHtml;\n",
              "          element.appendChild(docLink);\n",
              "        }\n",
              "      </script>\n",
              "    </div>\n",
              "  </div>\n",
              "  "
            ]
          },
          "metadata": {},
          "execution_count": 13
        }
      ]
    },
    {
      "cell_type": "code",
      "source": [
        "ps1_new = ps1.mean(axis = 1)\n",
        "ps2_new = ps2.mean(axis = 1)\n",
        "ps3_new = ps3.mean(axis = 1)\n",
        "ps4_new = ps4.mean(axis = 1)\n",
        "ps5_new = ps5.mean(axis = 1)\n",
        "ps6_new = ps6.mean(axis = 1)"
      ],
      "metadata": {
        "id": "2vjtsM1uNcPK"
      },
      "execution_count": null,
      "outputs": []
    },
    {
      "cell_type": "code",
      "source": [
        "def rmsValue(arr, n):\n",
        "    square = 0\n",
        "    mean = 0.0\n",
        "    root = 0.0\n",
        "     \n",
        "    #Calculate square\n",
        "    for i in range(0,n):\n",
        "        square += (arr[i]**2)\n",
        "     \n",
        "    #Calculate Mean\n",
        "    mean = (square / (float)(n))\n",
        "     \n",
        "    #Calculate Root\n",
        "    root = math.sqrt(mean)\n",
        "     \n",
        "    return root"
      ],
      "metadata": {
        "id": "NPOnML5lNcSk"
      },
      "execution_count": null,
      "outputs": []
    },
    {
      "cell_type": "code",
      "source": [
        "rms_list=[]\n",
        "std_list=[]\n",
        "kurtosis_list=[]\n",
        "skew_list=[]\n",
        "for i in range(0,2205):\n",
        "   df_new=ps1.iloc[i]\n",
        "   temp_list=df_new.values.tolist();\n",
        "   arr=df_new.to_numpy()\n",
        "   rms_list.append(rmsValue(temp_list,len(temp_list)))\n",
        "   std_list.append(statistics.pstdev(temp_list))\n",
        "   kurtosis_list.append(kurtosis(arr))\n",
        "   skew_list.append(skew(arr,axis=0,bias=True))"
      ],
      "metadata": {
        "id": "16kwS11w43UQ"
      },
      "execution_count": null,
      "outputs": []
    },
    {
      "cell_type": "code",
      "source": [
        "rms_list2=[]\n",
        "std_list2=[]\n",
        "kurtosis_list2=[]\n",
        "skew_list2=[]\n",
        "for i in range(0,2205):\n",
        "   df_new=ps2.iloc[i]\n",
        "   temp_list=df_new.values.tolist();\n",
        "   arr=df_new.to_numpy()\n",
        "   rms_list2.append(rmsValue(temp_list,len(temp_list)))\n",
        "   std_list2.append(statistics.pstdev(temp_list))\n",
        "   kurtosis_list2.append(kurtosis(arr))\n",
        "   skew_list2.append(skew(arr,axis=0,bias=True))"
      ],
      "metadata": {
        "id": "YmXuRWOyLIim"
      },
      "execution_count": null,
      "outputs": []
    },
    {
      "cell_type": "code",
      "source": [
        "rms_list3=[]\n",
        "std_list3=[]\n",
        "kurtosis_list3=[]\n",
        "skew_list3=[]\n",
        "for i in range(0,2205):\n",
        "   df_new=ps3.iloc[i]\n",
        "   temp_list=df_new.values.tolist();\n",
        "   arr=df_new.to_numpy()\n",
        "   rms_list3.append(rmsValue(temp_list,len(temp_list)))\n",
        "   std_list3.append(statistics.pstdev(temp_list))\n",
        "   kurtosis_list3.append(kurtosis(arr))\n",
        "   skew_list3.append(skew(arr,axis=0,bias=True))"
      ],
      "metadata": {
        "id": "Om5daeR-LLwv"
      },
      "execution_count": null,
      "outputs": []
    },
    {
      "cell_type": "code",
      "source": [
        "rms_list4=[]\n",
        "std_list4=[]\n",
        "kurtosis_list4=[]\n",
        "skew_list4=[]\n",
        "for i in range(0,2205):\n",
        "   df_new=ps4.iloc[i]\n",
        "   temp_list=df_new.values.tolist();\n",
        "   arr=df_new.to_numpy()\n",
        "   rms_list4.append(rmsValue(temp_list,len(temp_list)))\n",
        "   std_list4.append(statistics.pstdev(temp_list))\n",
        "   kurtosis_list4.append(kurtosis(arr))\n",
        "   skew_list4.append(skew(arr,axis=0,bias=True))"
      ],
      "metadata": {
        "id": "seuzCD_2LLuJ"
      },
      "execution_count": null,
      "outputs": []
    },
    {
      "cell_type": "code",
      "source": [
        "rms_list5=[]\n",
        "std_list5=[]\n",
        "kurtosis_list5=[]\n",
        "skew_list5=[]\n",
        "for i in range(0,2205):\n",
        "   df_new=ps5.iloc[i]\n",
        "   temp_list=df_new.values.tolist();\n",
        "   arr=df_new.to_numpy()\n",
        "   rms_list5.append(rmsValue(temp_list,len(temp_list)))\n",
        "   std_list5.append(statistics.pstdev(temp_list))\n",
        "   kurtosis_list5.append(kurtosis(arr))\n",
        "   skew_list5.append(skew(arr,axis=0,bias=True))"
      ],
      "metadata": {
        "id": "el97ksRzLT0r"
      },
      "execution_count": null,
      "outputs": []
    },
    {
      "cell_type": "code",
      "source": [
        "rms_list6=[]\n",
        "std_list6=[]\n",
        "kurtosis_list6=[]\n",
        "skew_list6=[]\n",
        "for i in range(0,2205):\n",
        "   df_new=ps6.iloc[i]\n",
        "   temp_list=df_new.values.tolist();\n",
        "   arr=df_new.to_numpy()\n",
        "   rms_list6.append(rmsValue(temp_list,len(temp_list)))\n",
        "   std_list6.append(statistics.pstdev(temp_list))\n",
        "   kurtosis_list6.append(kurtosis(arr))\n",
        "   skew_list6.append(skew(arr,axis=0,bias=True))"
      ],
      "metadata": {
        "id": "yaT6YAd2LU1V"
      },
      "execution_count": null,
      "outputs": []
    },
    {
      "cell_type": "code",
      "source": [
        "data1=pd.DataFrame(rms_list)\n",
        "data1.rename(columns={'0':'RMS'},inplace=True)\n",
        "data2=pd.DataFrame(std_list)\n",
        "data2.rename(columns={'0':'STD'},inplace=True)\n",
        "data3=pd.DataFrame(kurtosis_list)\n",
        "data3.rename(columns={'0':'Kurtosis'},inplace=True)\n",
        "data4=pd.DataFrame(skew_list)\n",
        "data4.rename(columns={'0':'Skew'},inplace=True)\n",
        "df_ps1=pd.concat([ps1_new,data1,data2,data3,data4],axis=1)"
      ],
      "metadata": {
        "id": "BI_Fi3VKMfYi"
      },
      "execution_count": null,
      "outputs": []
    },
    {
      "cell_type": "code",
      "source": [
        "df_ps1.columns=['Mean','RMS','STD','Kurtosis','Skew']"
      ],
      "metadata": {
        "id": "dgclbNufj7uC"
      },
      "execution_count": null,
      "outputs": []
    },
    {
      "cell_type": "code",
      "source": [
        "df_ps1.head()"
      ],
      "metadata": {
        "colab": {
          "base_uri": "https://localhost:8080/",
          "height": 206
        },
        "id": "aWrY-Qtfhryq",
        "outputId": "ca2f2c4b-7747-4214-a265-11c5a0a69ef0"
      },
      "execution_count": null,
      "outputs": [
        {
          "output_type": "execute_result",
          "data": {
            "text/plain": [
              "         Mean         RMS        STD  Kurtosis      Skew\n",
              "0  160.673492  161.276914  13.938147  0.495566  1.273048\n",
              "1  160.603320  161.222636  14.117791  0.460174  1.278690\n",
              "2  160.347720  160.974495  14.191436  0.464134  1.282851\n",
              "3  160.188088  160.818594  14.226617  0.470640  1.286353\n",
              "4  160.000472  160.636028  14.275244  0.481844  1.292315"
            ],
            "text/html": [
              "\n",
              "  <div id=\"df-5df749d3-c00a-432a-8809-61a5ca4c5b7a\">\n",
              "    <div class=\"colab-df-container\">\n",
              "      <div>\n",
              "<style scoped>\n",
              "    .dataframe tbody tr th:only-of-type {\n",
              "        vertical-align: middle;\n",
              "    }\n",
              "\n",
              "    .dataframe tbody tr th {\n",
              "        vertical-align: top;\n",
              "    }\n",
              "\n",
              "    .dataframe thead th {\n",
              "        text-align: right;\n",
              "    }\n",
              "</style>\n",
              "<table border=\"1\" class=\"dataframe\">\n",
              "  <thead>\n",
              "    <tr style=\"text-align: right;\">\n",
              "      <th></th>\n",
              "      <th>Mean</th>\n",
              "      <th>RMS</th>\n",
              "      <th>STD</th>\n",
              "      <th>Kurtosis</th>\n",
              "      <th>Skew</th>\n",
              "    </tr>\n",
              "  </thead>\n",
              "  <tbody>\n",
              "    <tr>\n",
              "      <th>0</th>\n",
              "      <td>160.673492</td>\n",
              "      <td>161.276914</td>\n",
              "      <td>13.938147</td>\n",
              "      <td>0.495566</td>\n",
              "      <td>1.273048</td>\n",
              "    </tr>\n",
              "    <tr>\n",
              "      <th>1</th>\n",
              "      <td>160.603320</td>\n",
              "      <td>161.222636</td>\n",
              "      <td>14.117791</td>\n",
              "      <td>0.460174</td>\n",
              "      <td>1.278690</td>\n",
              "    </tr>\n",
              "    <tr>\n",
              "      <th>2</th>\n",
              "      <td>160.347720</td>\n",
              "      <td>160.974495</td>\n",
              "      <td>14.191436</td>\n",
              "      <td>0.464134</td>\n",
              "      <td>1.282851</td>\n",
              "    </tr>\n",
              "    <tr>\n",
              "      <th>3</th>\n",
              "      <td>160.188088</td>\n",
              "      <td>160.818594</td>\n",
              "      <td>14.226617</td>\n",
              "      <td>0.470640</td>\n",
              "      <td>1.286353</td>\n",
              "    </tr>\n",
              "    <tr>\n",
              "      <th>4</th>\n",
              "      <td>160.000472</td>\n",
              "      <td>160.636028</td>\n",
              "      <td>14.275244</td>\n",
              "      <td>0.481844</td>\n",
              "      <td>1.292315</td>\n",
              "    </tr>\n",
              "  </tbody>\n",
              "</table>\n",
              "</div>\n",
              "      <button class=\"colab-df-convert\" onclick=\"convertToInteractive('df-5df749d3-c00a-432a-8809-61a5ca4c5b7a')\"\n",
              "              title=\"Convert this dataframe to an interactive table.\"\n",
              "              style=\"display:none;\">\n",
              "        \n",
              "  <svg xmlns=\"http://www.w3.org/2000/svg\" height=\"24px\"viewBox=\"0 0 24 24\"\n",
              "       width=\"24px\">\n",
              "    <path d=\"M0 0h24v24H0V0z\" fill=\"none\"/>\n",
              "    <path d=\"M18.56 5.44l.94 2.06.94-2.06 2.06-.94-2.06-.94-.94-2.06-.94 2.06-2.06.94zm-11 1L8.5 8.5l.94-2.06 2.06-.94-2.06-.94L8.5 2.5l-.94 2.06-2.06.94zm10 10l.94 2.06.94-2.06 2.06-.94-2.06-.94-.94-2.06-.94 2.06-2.06.94z\"/><path d=\"M17.41 7.96l-1.37-1.37c-.4-.4-.92-.59-1.43-.59-.52 0-1.04.2-1.43.59L10.3 9.45l-7.72 7.72c-.78.78-.78 2.05 0 2.83L4 21.41c.39.39.9.59 1.41.59.51 0 1.02-.2 1.41-.59l7.78-7.78 2.81-2.81c.8-.78.8-2.07 0-2.86zM5.41 20L4 18.59l7.72-7.72 1.47 1.35L5.41 20z\"/>\n",
              "  </svg>\n",
              "      </button>\n",
              "      \n",
              "  <style>\n",
              "    .colab-df-container {\n",
              "      display:flex;\n",
              "      flex-wrap:wrap;\n",
              "      gap: 12px;\n",
              "    }\n",
              "\n",
              "    .colab-df-convert {\n",
              "      background-color: #E8F0FE;\n",
              "      border: none;\n",
              "      border-radius: 50%;\n",
              "      cursor: pointer;\n",
              "      display: none;\n",
              "      fill: #1967D2;\n",
              "      height: 32px;\n",
              "      padding: 0 0 0 0;\n",
              "      width: 32px;\n",
              "    }\n",
              "\n",
              "    .colab-df-convert:hover {\n",
              "      background-color: #E2EBFA;\n",
              "      box-shadow: 0px 1px 2px rgba(60, 64, 67, 0.3), 0px 1px 3px 1px rgba(60, 64, 67, 0.15);\n",
              "      fill: #174EA6;\n",
              "    }\n",
              "\n",
              "    [theme=dark] .colab-df-convert {\n",
              "      background-color: #3B4455;\n",
              "      fill: #D2E3FC;\n",
              "    }\n",
              "\n",
              "    [theme=dark] .colab-df-convert:hover {\n",
              "      background-color: #434B5C;\n",
              "      box-shadow: 0px 1px 3px 1px rgba(0, 0, 0, 0.15);\n",
              "      filter: drop-shadow(0px 1px 2px rgba(0, 0, 0, 0.3));\n",
              "      fill: #FFFFFF;\n",
              "    }\n",
              "  </style>\n",
              "\n",
              "      <script>\n",
              "        const buttonEl =\n",
              "          document.querySelector('#df-5df749d3-c00a-432a-8809-61a5ca4c5b7a button.colab-df-convert');\n",
              "        buttonEl.style.display =\n",
              "          google.colab.kernel.accessAllowed ? 'block' : 'none';\n",
              "\n",
              "        async function convertToInteractive(key) {\n",
              "          const element = document.querySelector('#df-5df749d3-c00a-432a-8809-61a5ca4c5b7a');\n",
              "          const dataTable =\n",
              "            await google.colab.kernel.invokeFunction('convertToInteractive',\n",
              "                                                     [key], {});\n",
              "          if (!dataTable) return;\n",
              "\n",
              "          const docLinkHtml = 'Like what you see? Visit the ' +\n",
              "            '<a target=\"_blank\" href=https://colab.research.google.com/notebooks/data_table.ipynb>data table notebook</a>'\n",
              "            + ' to learn more about interactive tables.';\n",
              "          element.innerHTML = '';\n",
              "          dataTable['output_type'] = 'display_data';\n",
              "          await google.colab.output.renderOutput(dataTable, element);\n",
              "          const docLink = document.createElement('div');\n",
              "          docLink.innerHTML = docLinkHtml;\n",
              "          element.appendChild(docLink);\n",
              "        }\n",
              "      </script>\n",
              "    </div>\n",
              "  </div>\n",
              "  "
            ]
          },
          "metadata": {},
          "execution_count": 26
        }
      ]
    },
    {
      "cell_type": "code",
      "source": [
        "data1=pd.DataFrame(rms_list2)\n",
        "data2=pd.DataFrame(std_list2)\n",
        "data3=pd.DataFrame(kurtosis_list2)\n",
        "data4=pd.DataFrame(skew_list2)\n",
        "df_ps2=pd.concat([ps2_new,data1,data2,data3,data4],axis=1)"
      ],
      "metadata": {
        "id": "i5QxInKLh8mD"
      },
      "execution_count": null,
      "outputs": []
    },
    {
      "cell_type": "code",
      "source": [
        "df_ps2.columns=['Mean','RMS','STD','Kurtosis','Skew']"
      ],
      "metadata": {
        "id": "HJBGJssPiGc2"
      },
      "execution_count": null,
      "outputs": []
    },
    {
      "cell_type": "code",
      "source": [
        "df_ps2.head()"
      ],
      "metadata": {
        "colab": {
          "base_uri": "https://localhost:8080/",
          "height": 206
        },
        "id": "KsvrhmBUkTcF",
        "outputId": "132ec05c-fdb6-4745-b5e1-ea73a0b67176"
      },
      "execution_count": null,
      "outputs": [
        {
          "output_type": "execute_result",
          "data": {
            "text/plain": [
              "         Mean         RMS        STD  Kurtosis      Skew\n",
              "0  109.466914  119.173873  47.110581  1.508854 -1.837853\n",
              "1  109.354890  119.043743  47.041690  1.511086 -1.838351\n",
              "2  109.158845  118.842497  46.988144  1.508480 -1.837545\n",
              "3  109.064807  118.748280  46.968307  1.507613 -1.837120\n",
              "4  108.931434  118.587317  46.871040  1.509724 -1.837496"
            ],
            "text/html": [
              "\n",
              "  <div id=\"df-f08a337d-2f65-4bec-a019-3dbb2bf00fe5\">\n",
              "    <div class=\"colab-df-container\">\n",
              "      <div>\n",
              "<style scoped>\n",
              "    .dataframe tbody tr th:only-of-type {\n",
              "        vertical-align: middle;\n",
              "    }\n",
              "\n",
              "    .dataframe tbody tr th {\n",
              "        vertical-align: top;\n",
              "    }\n",
              "\n",
              "    .dataframe thead th {\n",
              "        text-align: right;\n",
              "    }\n",
              "</style>\n",
              "<table border=\"1\" class=\"dataframe\">\n",
              "  <thead>\n",
              "    <tr style=\"text-align: right;\">\n",
              "      <th></th>\n",
              "      <th>Mean</th>\n",
              "      <th>RMS</th>\n",
              "      <th>STD</th>\n",
              "      <th>Kurtosis</th>\n",
              "      <th>Skew</th>\n",
              "    </tr>\n",
              "  </thead>\n",
              "  <tbody>\n",
              "    <tr>\n",
              "      <th>0</th>\n",
              "      <td>109.466914</td>\n",
              "      <td>119.173873</td>\n",
              "      <td>47.110581</td>\n",
              "      <td>1.508854</td>\n",
              "      <td>-1.837853</td>\n",
              "    </tr>\n",
              "    <tr>\n",
              "      <th>1</th>\n",
              "      <td>109.354890</td>\n",
              "      <td>119.043743</td>\n",
              "      <td>47.041690</td>\n",
              "      <td>1.511086</td>\n",
              "      <td>-1.838351</td>\n",
              "    </tr>\n",
              "    <tr>\n",
              "      <th>2</th>\n",
              "      <td>109.158845</td>\n",
              "      <td>118.842497</td>\n",
              "      <td>46.988144</td>\n",
              "      <td>1.508480</td>\n",
              "      <td>-1.837545</td>\n",
              "    </tr>\n",
              "    <tr>\n",
              "      <th>3</th>\n",
              "      <td>109.064807</td>\n",
              "      <td>118.748280</td>\n",
              "      <td>46.968307</td>\n",
              "      <td>1.507613</td>\n",
              "      <td>-1.837120</td>\n",
              "    </tr>\n",
              "    <tr>\n",
              "      <th>4</th>\n",
              "      <td>108.931434</td>\n",
              "      <td>118.587317</td>\n",
              "      <td>46.871040</td>\n",
              "      <td>1.509724</td>\n",
              "      <td>-1.837496</td>\n",
              "    </tr>\n",
              "  </tbody>\n",
              "</table>\n",
              "</div>\n",
              "      <button class=\"colab-df-convert\" onclick=\"convertToInteractive('df-f08a337d-2f65-4bec-a019-3dbb2bf00fe5')\"\n",
              "              title=\"Convert this dataframe to an interactive table.\"\n",
              "              style=\"display:none;\">\n",
              "        \n",
              "  <svg xmlns=\"http://www.w3.org/2000/svg\" height=\"24px\"viewBox=\"0 0 24 24\"\n",
              "       width=\"24px\">\n",
              "    <path d=\"M0 0h24v24H0V0z\" fill=\"none\"/>\n",
              "    <path d=\"M18.56 5.44l.94 2.06.94-2.06 2.06-.94-2.06-.94-.94-2.06-.94 2.06-2.06.94zm-11 1L8.5 8.5l.94-2.06 2.06-.94-2.06-.94L8.5 2.5l-.94 2.06-2.06.94zm10 10l.94 2.06.94-2.06 2.06-.94-2.06-.94-.94-2.06-.94 2.06-2.06.94z\"/><path d=\"M17.41 7.96l-1.37-1.37c-.4-.4-.92-.59-1.43-.59-.52 0-1.04.2-1.43.59L10.3 9.45l-7.72 7.72c-.78.78-.78 2.05 0 2.83L4 21.41c.39.39.9.59 1.41.59.51 0 1.02-.2 1.41-.59l7.78-7.78 2.81-2.81c.8-.78.8-2.07 0-2.86zM5.41 20L4 18.59l7.72-7.72 1.47 1.35L5.41 20z\"/>\n",
              "  </svg>\n",
              "      </button>\n",
              "      \n",
              "  <style>\n",
              "    .colab-df-container {\n",
              "      display:flex;\n",
              "      flex-wrap:wrap;\n",
              "      gap: 12px;\n",
              "    }\n",
              "\n",
              "    .colab-df-convert {\n",
              "      background-color: #E8F0FE;\n",
              "      border: none;\n",
              "      border-radius: 50%;\n",
              "      cursor: pointer;\n",
              "      display: none;\n",
              "      fill: #1967D2;\n",
              "      height: 32px;\n",
              "      padding: 0 0 0 0;\n",
              "      width: 32px;\n",
              "    }\n",
              "\n",
              "    .colab-df-convert:hover {\n",
              "      background-color: #E2EBFA;\n",
              "      box-shadow: 0px 1px 2px rgba(60, 64, 67, 0.3), 0px 1px 3px 1px rgba(60, 64, 67, 0.15);\n",
              "      fill: #174EA6;\n",
              "    }\n",
              "\n",
              "    [theme=dark] .colab-df-convert {\n",
              "      background-color: #3B4455;\n",
              "      fill: #D2E3FC;\n",
              "    }\n",
              "\n",
              "    [theme=dark] .colab-df-convert:hover {\n",
              "      background-color: #434B5C;\n",
              "      box-shadow: 0px 1px 3px 1px rgba(0, 0, 0, 0.15);\n",
              "      filter: drop-shadow(0px 1px 2px rgba(0, 0, 0, 0.3));\n",
              "      fill: #FFFFFF;\n",
              "    }\n",
              "  </style>\n",
              "\n",
              "      <script>\n",
              "        const buttonEl =\n",
              "          document.querySelector('#df-f08a337d-2f65-4bec-a019-3dbb2bf00fe5 button.colab-df-convert');\n",
              "        buttonEl.style.display =\n",
              "          google.colab.kernel.accessAllowed ? 'block' : 'none';\n",
              "\n",
              "        async function convertToInteractive(key) {\n",
              "          const element = document.querySelector('#df-f08a337d-2f65-4bec-a019-3dbb2bf00fe5');\n",
              "          const dataTable =\n",
              "            await google.colab.kernel.invokeFunction('convertToInteractive',\n",
              "                                                     [key], {});\n",
              "          if (!dataTable) return;\n",
              "\n",
              "          const docLinkHtml = 'Like what you see? Visit the ' +\n",
              "            '<a target=\"_blank\" href=https://colab.research.google.com/notebooks/data_table.ipynb>data table notebook</a>'\n",
              "            + ' to learn more about interactive tables.';\n",
              "          element.innerHTML = '';\n",
              "          dataTable['output_type'] = 'display_data';\n",
              "          await google.colab.output.renderOutput(dataTable, element);\n",
              "          const docLink = document.createElement('div');\n",
              "          docLink.innerHTML = docLinkHtml;\n",
              "          element.appendChild(docLink);\n",
              "        }\n",
              "      </script>\n",
              "    </div>\n",
              "  </div>\n",
              "  "
            ]
          },
          "metadata": {},
          "execution_count": 29
        }
      ]
    },
    {
      "cell_type": "code",
      "source": [
        "data1=pd.DataFrame(rms_list3)\n",
        "data2=pd.DataFrame(std_list3)\n",
        "data3=pd.DataFrame(kurtosis_list3)\n",
        "data4=pd.DataFrame(skew_list3)\n",
        "df_ps3=pd.concat([ps3_new,data1,data2,data3,data4],axis=1)\n",
        "df_ps3.columns=['Mean','RMS','STD','Kurtosis','Skew']"
      ],
      "metadata": {
        "id": "56W95qSekTe2"
      },
      "execution_count": null,
      "outputs": []
    },
    {
      "cell_type": "code",
      "source": [
        "df_ps3.head()"
      ],
      "metadata": {
        "colab": {
          "base_uri": "https://localhost:8080/",
          "height": 206
        },
        "id": "u2uSa9fHkThk",
        "outputId": "dfa6d5fe-7141-4cbd-a3e6-5bd44a888da9"
      },
      "execution_count": null,
      "outputs": [
        {
          "output_type": "execute_result",
          "data": {
            "text/plain": [
              "       Mean       RMS       STD  Kurtosis      Skew\n",
              "0  1.991475  2.204582  0.945626  6.522166 -0.373579\n",
              "1  1.976234  2.189214  0.941889  6.949745 -0.312814\n",
              "2  1.972224  2.186255  0.943422  8.213202 -0.196023\n",
              "3  1.946575  2.159684  0.935456  7.883349 -0.166201\n",
              "4  1.922707  2.135927  0.930258  9.731260  0.017992"
            ],
            "text/html": [
              "\n",
              "  <div id=\"df-51e1ea77-b137-4ed6-b6da-741104e89a3f\">\n",
              "    <div class=\"colab-df-container\">\n",
              "      <div>\n",
              "<style scoped>\n",
              "    .dataframe tbody tr th:only-of-type {\n",
              "        vertical-align: middle;\n",
              "    }\n",
              "\n",
              "    .dataframe tbody tr th {\n",
              "        vertical-align: top;\n",
              "    }\n",
              "\n",
              "    .dataframe thead th {\n",
              "        text-align: right;\n",
              "    }\n",
              "</style>\n",
              "<table border=\"1\" class=\"dataframe\">\n",
              "  <thead>\n",
              "    <tr style=\"text-align: right;\">\n",
              "      <th></th>\n",
              "      <th>Mean</th>\n",
              "      <th>RMS</th>\n",
              "      <th>STD</th>\n",
              "      <th>Kurtosis</th>\n",
              "      <th>Skew</th>\n",
              "    </tr>\n",
              "  </thead>\n",
              "  <tbody>\n",
              "    <tr>\n",
              "      <th>0</th>\n",
              "      <td>1.991475</td>\n",
              "      <td>2.204582</td>\n",
              "      <td>0.945626</td>\n",
              "      <td>6.522166</td>\n",
              "      <td>-0.373579</td>\n",
              "    </tr>\n",
              "    <tr>\n",
              "      <th>1</th>\n",
              "      <td>1.976234</td>\n",
              "      <td>2.189214</td>\n",
              "      <td>0.941889</td>\n",
              "      <td>6.949745</td>\n",
              "      <td>-0.312814</td>\n",
              "    </tr>\n",
              "    <tr>\n",
              "      <th>2</th>\n",
              "      <td>1.972224</td>\n",
              "      <td>2.186255</td>\n",
              "      <td>0.943422</td>\n",
              "      <td>8.213202</td>\n",
              "      <td>-0.196023</td>\n",
              "    </tr>\n",
              "    <tr>\n",
              "      <th>3</th>\n",
              "      <td>1.946575</td>\n",
              "      <td>2.159684</td>\n",
              "      <td>0.935456</td>\n",
              "      <td>7.883349</td>\n",
              "      <td>-0.166201</td>\n",
              "    </tr>\n",
              "    <tr>\n",
              "      <th>4</th>\n",
              "      <td>1.922707</td>\n",
              "      <td>2.135927</td>\n",
              "      <td>0.930258</td>\n",
              "      <td>9.731260</td>\n",
              "      <td>0.017992</td>\n",
              "    </tr>\n",
              "  </tbody>\n",
              "</table>\n",
              "</div>\n",
              "      <button class=\"colab-df-convert\" onclick=\"convertToInteractive('df-51e1ea77-b137-4ed6-b6da-741104e89a3f')\"\n",
              "              title=\"Convert this dataframe to an interactive table.\"\n",
              "              style=\"display:none;\">\n",
              "        \n",
              "  <svg xmlns=\"http://www.w3.org/2000/svg\" height=\"24px\"viewBox=\"0 0 24 24\"\n",
              "       width=\"24px\">\n",
              "    <path d=\"M0 0h24v24H0V0z\" fill=\"none\"/>\n",
              "    <path d=\"M18.56 5.44l.94 2.06.94-2.06 2.06-.94-2.06-.94-.94-2.06-.94 2.06-2.06.94zm-11 1L8.5 8.5l.94-2.06 2.06-.94-2.06-.94L8.5 2.5l-.94 2.06-2.06.94zm10 10l.94 2.06.94-2.06 2.06-.94-2.06-.94-.94-2.06-.94 2.06-2.06.94z\"/><path d=\"M17.41 7.96l-1.37-1.37c-.4-.4-.92-.59-1.43-.59-.52 0-1.04.2-1.43.59L10.3 9.45l-7.72 7.72c-.78.78-.78 2.05 0 2.83L4 21.41c.39.39.9.59 1.41.59.51 0 1.02-.2 1.41-.59l7.78-7.78 2.81-2.81c.8-.78.8-2.07 0-2.86zM5.41 20L4 18.59l7.72-7.72 1.47 1.35L5.41 20z\"/>\n",
              "  </svg>\n",
              "      </button>\n",
              "      \n",
              "  <style>\n",
              "    .colab-df-container {\n",
              "      display:flex;\n",
              "      flex-wrap:wrap;\n",
              "      gap: 12px;\n",
              "    }\n",
              "\n",
              "    .colab-df-convert {\n",
              "      background-color: #E8F0FE;\n",
              "      border: none;\n",
              "      border-radius: 50%;\n",
              "      cursor: pointer;\n",
              "      display: none;\n",
              "      fill: #1967D2;\n",
              "      height: 32px;\n",
              "      padding: 0 0 0 0;\n",
              "      width: 32px;\n",
              "    }\n",
              "\n",
              "    .colab-df-convert:hover {\n",
              "      background-color: #E2EBFA;\n",
              "      box-shadow: 0px 1px 2px rgba(60, 64, 67, 0.3), 0px 1px 3px 1px rgba(60, 64, 67, 0.15);\n",
              "      fill: #174EA6;\n",
              "    }\n",
              "\n",
              "    [theme=dark] .colab-df-convert {\n",
              "      background-color: #3B4455;\n",
              "      fill: #D2E3FC;\n",
              "    }\n",
              "\n",
              "    [theme=dark] .colab-df-convert:hover {\n",
              "      background-color: #434B5C;\n",
              "      box-shadow: 0px 1px 3px 1px rgba(0, 0, 0, 0.15);\n",
              "      filter: drop-shadow(0px 1px 2px rgba(0, 0, 0, 0.3));\n",
              "      fill: #FFFFFF;\n",
              "    }\n",
              "  </style>\n",
              "\n",
              "      <script>\n",
              "        const buttonEl =\n",
              "          document.querySelector('#df-51e1ea77-b137-4ed6-b6da-741104e89a3f button.colab-df-convert');\n",
              "        buttonEl.style.display =\n",
              "          google.colab.kernel.accessAllowed ? 'block' : 'none';\n",
              "\n",
              "        async function convertToInteractive(key) {\n",
              "          const element = document.querySelector('#df-51e1ea77-b137-4ed6-b6da-741104e89a3f');\n",
              "          const dataTable =\n",
              "            await google.colab.kernel.invokeFunction('convertToInteractive',\n",
              "                                                     [key], {});\n",
              "          if (!dataTable) return;\n",
              "\n",
              "          const docLinkHtml = 'Like what you see? Visit the ' +\n",
              "            '<a target=\"_blank\" href=https://colab.research.google.com/notebooks/data_table.ipynb>data table notebook</a>'\n",
              "            + ' to learn more about interactive tables.';\n",
              "          element.innerHTML = '';\n",
              "          dataTable['output_type'] = 'display_data';\n",
              "          await google.colab.output.renderOutput(dataTable, element);\n",
              "          const docLink = document.createElement('div');\n",
              "          docLink.innerHTML = docLinkHtml;\n",
              "          element.appendChild(docLink);\n",
              "        }\n",
              "      </script>\n",
              "    </div>\n",
              "  </div>\n",
              "  "
            ]
          },
          "metadata": {},
          "execution_count": 31
        }
      ]
    },
    {
      "cell_type": "code",
      "source": [
        "data1=pd.DataFrame(rms_list4)\n",
        "data2=pd.DataFrame(std_list4)\n",
        "data3=pd.DataFrame(kurtosis_list4)\n",
        "data4=pd.DataFrame(skew_list4)\n",
        "df_ps4=pd.concat([ps4_new,data1,data2,data3,data4],axis=1)\n",
        "df_ps4.columns=['Mean','RMS','STD','Kurtosis','Skew']"
      ],
      "metadata": {
        "id": "Svec9E3Skq3G"
      },
      "execution_count": null,
      "outputs": []
    },
    {
      "cell_type": "code",
      "source": [
        "df_ps4.tail()"
      ],
      "metadata": {
        "colab": {
          "base_uri": "https://localhost:8080/",
          "height": 206
        },
        "id": "umDXRoy0kq9n",
        "outputId": "d1ed5203-6988-4dc6-a939-d227ad72950b"
      },
      "execution_count": null,
      "outputs": [
        {
          "output_type": "execute_result",
          "data": {
            "text/plain": [
              "          Mean       RMS       STD  Kurtosis      Skew\n",
              "2200  2.001438  2.207570  0.931457  5.331948 -0.668354\n",
              "2201  1.998781  2.204918  0.930880  5.441931 -0.654306\n",
              "2202  1.993436  2.199435  0.929368  5.745223 -0.612730\n",
              "2203  2.007077  2.213453  0.933282  5.315250 -0.677827\n",
              "2204  2.002690  2.209257  0.932764  5.375500 -0.659134"
            ],
            "text/html": [
              "\n",
              "  <div id=\"df-0e881824-858a-4c79-a271-d623c1dcdb2b\">\n",
              "    <div class=\"colab-df-container\">\n",
              "      <div>\n",
              "<style scoped>\n",
              "    .dataframe tbody tr th:only-of-type {\n",
              "        vertical-align: middle;\n",
              "    }\n",
              "\n",
              "    .dataframe tbody tr th {\n",
              "        vertical-align: top;\n",
              "    }\n",
              "\n",
              "    .dataframe thead th {\n",
              "        text-align: right;\n",
              "    }\n",
              "</style>\n",
              "<table border=\"1\" class=\"dataframe\">\n",
              "  <thead>\n",
              "    <tr style=\"text-align: right;\">\n",
              "      <th></th>\n",
              "      <th>Mean</th>\n",
              "      <th>RMS</th>\n",
              "      <th>STD</th>\n",
              "      <th>Kurtosis</th>\n",
              "      <th>Skew</th>\n",
              "    </tr>\n",
              "  </thead>\n",
              "  <tbody>\n",
              "    <tr>\n",
              "      <th>2200</th>\n",
              "      <td>2.001438</td>\n",
              "      <td>2.207570</td>\n",
              "      <td>0.931457</td>\n",
              "      <td>5.331948</td>\n",
              "      <td>-0.668354</td>\n",
              "    </tr>\n",
              "    <tr>\n",
              "      <th>2201</th>\n",
              "      <td>1.998781</td>\n",
              "      <td>2.204918</td>\n",
              "      <td>0.930880</td>\n",
              "      <td>5.441931</td>\n",
              "      <td>-0.654306</td>\n",
              "    </tr>\n",
              "    <tr>\n",
              "      <th>2202</th>\n",
              "      <td>1.993436</td>\n",
              "      <td>2.199435</td>\n",
              "      <td>0.929368</td>\n",
              "      <td>5.745223</td>\n",
              "      <td>-0.612730</td>\n",
              "    </tr>\n",
              "    <tr>\n",
              "      <th>2203</th>\n",
              "      <td>2.007077</td>\n",
              "      <td>2.213453</td>\n",
              "      <td>0.933282</td>\n",
              "      <td>5.315250</td>\n",
              "      <td>-0.677827</td>\n",
              "    </tr>\n",
              "    <tr>\n",
              "      <th>2204</th>\n",
              "      <td>2.002690</td>\n",
              "      <td>2.209257</td>\n",
              "      <td>0.932764</td>\n",
              "      <td>5.375500</td>\n",
              "      <td>-0.659134</td>\n",
              "    </tr>\n",
              "  </tbody>\n",
              "</table>\n",
              "</div>\n",
              "      <button class=\"colab-df-convert\" onclick=\"convertToInteractive('df-0e881824-858a-4c79-a271-d623c1dcdb2b')\"\n",
              "              title=\"Convert this dataframe to an interactive table.\"\n",
              "              style=\"display:none;\">\n",
              "        \n",
              "  <svg xmlns=\"http://www.w3.org/2000/svg\" height=\"24px\"viewBox=\"0 0 24 24\"\n",
              "       width=\"24px\">\n",
              "    <path d=\"M0 0h24v24H0V0z\" fill=\"none\"/>\n",
              "    <path d=\"M18.56 5.44l.94 2.06.94-2.06 2.06-.94-2.06-.94-.94-2.06-.94 2.06-2.06.94zm-11 1L8.5 8.5l.94-2.06 2.06-.94-2.06-.94L8.5 2.5l-.94 2.06-2.06.94zm10 10l.94 2.06.94-2.06 2.06-.94-2.06-.94-.94-2.06-.94 2.06-2.06.94z\"/><path d=\"M17.41 7.96l-1.37-1.37c-.4-.4-.92-.59-1.43-.59-.52 0-1.04.2-1.43.59L10.3 9.45l-7.72 7.72c-.78.78-.78 2.05 0 2.83L4 21.41c.39.39.9.59 1.41.59.51 0 1.02-.2 1.41-.59l7.78-7.78 2.81-2.81c.8-.78.8-2.07 0-2.86zM5.41 20L4 18.59l7.72-7.72 1.47 1.35L5.41 20z\"/>\n",
              "  </svg>\n",
              "      </button>\n",
              "      \n",
              "  <style>\n",
              "    .colab-df-container {\n",
              "      display:flex;\n",
              "      flex-wrap:wrap;\n",
              "      gap: 12px;\n",
              "    }\n",
              "\n",
              "    .colab-df-convert {\n",
              "      background-color: #E8F0FE;\n",
              "      border: none;\n",
              "      border-radius: 50%;\n",
              "      cursor: pointer;\n",
              "      display: none;\n",
              "      fill: #1967D2;\n",
              "      height: 32px;\n",
              "      padding: 0 0 0 0;\n",
              "      width: 32px;\n",
              "    }\n",
              "\n",
              "    .colab-df-convert:hover {\n",
              "      background-color: #E2EBFA;\n",
              "      box-shadow: 0px 1px 2px rgba(60, 64, 67, 0.3), 0px 1px 3px 1px rgba(60, 64, 67, 0.15);\n",
              "      fill: #174EA6;\n",
              "    }\n",
              "\n",
              "    [theme=dark] .colab-df-convert {\n",
              "      background-color: #3B4455;\n",
              "      fill: #D2E3FC;\n",
              "    }\n",
              "\n",
              "    [theme=dark] .colab-df-convert:hover {\n",
              "      background-color: #434B5C;\n",
              "      box-shadow: 0px 1px 3px 1px rgba(0, 0, 0, 0.15);\n",
              "      filter: drop-shadow(0px 1px 2px rgba(0, 0, 0, 0.3));\n",
              "      fill: #FFFFFF;\n",
              "    }\n",
              "  </style>\n",
              "\n",
              "      <script>\n",
              "        const buttonEl =\n",
              "          document.querySelector('#df-0e881824-858a-4c79-a271-d623c1dcdb2b button.colab-df-convert');\n",
              "        buttonEl.style.display =\n",
              "          google.colab.kernel.accessAllowed ? 'block' : 'none';\n",
              "\n",
              "        async function convertToInteractive(key) {\n",
              "          const element = document.querySelector('#df-0e881824-858a-4c79-a271-d623c1dcdb2b');\n",
              "          const dataTable =\n",
              "            await google.colab.kernel.invokeFunction('convertToInteractive',\n",
              "                                                     [key], {});\n",
              "          if (!dataTable) return;\n",
              "\n",
              "          const docLinkHtml = 'Like what you see? Visit the ' +\n",
              "            '<a target=\"_blank\" href=https://colab.research.google.com/notebooks/data_table.ipynb>data table notebook</a>'\n",
              "            + ' to learn more about interactive tables.';\n",
              "          element.innerHTML = '';\n",
              "          dataTable['output_type'] = 'display_data';\n",
              "          await google.colab.output.renderOutput(dataTable, element);\n",
              "          const docLink = document.createElement('div');\n",
              "          docLink.innerHTML = docLinkHtml;\n",
              "          element.appendChild(docLink);\n",
              "        }\n",
              "      </script>\n",
              "    </div>\n",
              "  </div>\n",
              "  "
            ]
          },
          "metadata": {},
          "execution_count": 33
        }
      ]
    },
    {
      "cell_type": "code",
      "source": [
        "data1=pd.DataFrame(rms_list5)\n",
        "data2=pd.DataFrame(std_list5)\n",
        "data3=pd.DataFrame(kurtosis_list5)\n",
        "data4=pd.DataFrame(skew_list5)\n",
        "df_ps5=pd.concat([ps5_new,data1,data2,data3,data4],axis=1)\n",
        "df_ps5.columns=['Mean','RMS','STD','Kurtosis','Skew']"
      ],
      "metadata": {
        "id": "r3Kr6tuMkrD1"
      },
      "execution_count": null,
      "outputs": []
    },
    {
      "cell_type": "code",
      "source": [
        "df_ps5.head()"
      ],
      "metadata": {
        "colab": {
          "base_uri": "https://localhost:8080/",
          "height": 206
        },
        "id": "ba2Sw2b_kTmF",
        "outputId": "93766521-34f6-4156-c53b-83365fc11f18"
      },
      "execution_count": null,
      "outputs": [
        {
          "output_type": "execute_result",
          "data": {
            "text/plain": [
              "       Mean       RMS       STD  Kurtosis      Skew\n",
              "0  9.842170  9.842564  0.088147 -1.268228 -0.001178\n",
              "1  9.635142  9.635219  0.038389 -0.564014  0.289772\n",
              "2  9.530548  9.530615  0.035814 -0.493298  0.186889\n",
              "3  9.438827  9.438899  0.037065 -0.658430  0.162456\n",
              "4  9.358762  9.358809  0.029777 -0.474898  0.244247"
            ],
            "text/html": [
              "\n",
              "  <div id=\"df-3e9d1c48-1f40-4ea6-a4b0-233cc726fb63\">\n",
              "    <div class=\"colab-df-container\">\n",
              "      <div>\n",
              "<style scoped>\n",
              "    .dataframe tbody tr th:only-of-type {\n",
              "        vertical-align: middle;\n",
              "    }\n",
              "\n",
              "    .dataframe tbody tr th {\n",
              "        vertical-align: top;\n",
              "    }\n",
              "\n",
              "    .dataframe thead th {\n",
              "        text-align: right;\n",
              "    }\n",
              "</style>\n",
              "<table border=\"1\" class=\"dataframe\">\n",
              "  <thead>\n",
              "    <tr style=\"text-align: right;\">\n",
              "      <th></th>\n",
              "      <th>Mean</th>\n",
              "      <th>RMS</th>\n",
              "      <th>STD</th>\n",
              "      <th>Kurtosis</th>\n",
              "      <th>Skew</th>\n",
              "    </tr>\n",
              "  </thead>\n",
              "  <tbody>\n",
              "    <tr>\n",
              "      <th>0</th>\n",
              "      <td>9.842170</td>\n",
              "      <td>9.842564</td>\n",
              "      <td>0.088147</td>\n",
              "      <td>-1.268228</td>\n",
              "      <td>-0.001178</td>\n",
              "    </tr>\n",
              "    <tr>\n",
              "      <th>1</th>\n",
              "      <td>9.635142</td>\n",
              "      <td>9.635219</td>\n",
              "      <td>0.038389</td>\n",
              "      <td>-0.564014</td>\n",
              "      <td>0.289772</td>\n",
              "    </tr>\n",
              "    <tr>\n",
              "      <th>2</th>\n",
              "      <td>9.530548</td>\n",
              "      <td>9.530615</td>\n",
              "      <td>0.035814</td>\n",
              "      <td>-0.493298</td>\n",
              "      <td>0.186889</td>\n",
              "    </tr>\n",
              "    <tr>\n",
              "      <th>3</th>\n",
              "      <td>9.438827</td>\n",
              "      <td>9.438899</td>\n",
              "      <td>0.037065</td>\n",
              "      <td>-0.658430</td>\n",
              "      <td>0.162456</td>\n",
              "    </tr>\n",
              "    <tr>\n",
              "      <th>4</th>\n",
              "      <td>9.358762</td>\n",
              "      <td>9.358809</td>\n",
              "      <td>0.029777</td>\n",
              "      <td>-0.474898</td>\n",
              "      <td>0.244247</td>\n",
              "    </tr>\n",
              "  </tbody>\n",
              "</table>\n",
              "</div>\n",
              "      <button class=\"colab-df-convert\" onclick=\"convertToInteractive('df-3e9d1c48-1f40-4ea6-a4b0-233cc726fb63')\"\n",
              "              title=\"Convert this dataframe to an interactive table.\"\n",
              "              style=\"display:none;\">\n",
              "        \n",
              "  <svg xmlns=\"http://www.w3.org/2000/svg\" height=\"24px\"viewBox=\"0 0 24 24\"\n",
              "       width=\"24px\">\n",
              "    <path d=\"M0 0h24v24H0V0z\" fill=\"none\"/>\n",
              "    <path d=\"M18.56 5.44l.94 2.06.94-2.06 2.06-.94-2.06-.94-.94-2.06-.94 2.06-2.06.94zm-11 1L8.5 8.5l.94-2.06 2.06-.94-2.06-.94L8.5 2.5l-.94 2.06-2.06.94zm10 10l.94 2.06.94-2.06 2.06-.94-2.06-.94-.94-2.06-.94 2.06-2.06.94z\"/><path d=\"M17.41 7.96l-1.37-1.37c-.4-.4-.92-.59-1.43-.59-.52 0-1.04.2-1.43.59L10.3 9.45l-7.72 7.72c-.78.78-.78 2.05 0 2.83L4 21.41c.39.39.9.59 1.41.59.51 0 1.02-.2 1.41-.59l7.78-7.78 2.81-2.81c.8-.78.8-2.07 0-2.86zM5.41 20L4 18.59l7.72-7.72 1.47 1.35L5.41 20z\"/>\n",
              "  </svg>\n",
              "      </button>\n",
              "      \n",
              "  <style>\n",
              "    .colab-df-container {\n",
              "      display:flex;\n",
              "      flex-wrap:wrap;\n",
              "      gap: 12px;\n",
              "    }\n",
              "\n",
              "    .colab-df-convert {\n",
              "      background-color: #E8F0FE;\n",
              "      border: none;\n",
              "      border-radius: 50%;\n",
              "      cursor: pointer;\n",
              "      display: none;\n",
              "      fill: #1967D2;\n",
              "      height: 32px;\n",
              "      padding: 0 0 0 0;\n",
              "      width: 32px;\n",
              "    }\n",
              "\n",
              "    .colab-df-convert:hover {\n",
              "      background-color: #E2EBFA;\n",
              "      box-shadow: 0px 1px 2px rgba(60, 64, 67, 0.3), 0px 1px 3px 1px rgba(60, 64, 67, 0.15);\n",
              "      fill: #174EA6;\n",
              "    }\n",
              "\n",
              "    [theme=dark] .colab-df-convert {\n",
              "      background-color: #3B4455;\n",
              "      fill: #D2E3FC;\n",
              "    }\n",
              "\n",
              "    [theme=dark] .colab-df-convert:hover {\n",
              "      background-color: #434B5C;\n",
              "      box-shadow: 0px 1px 3px 1px rgba(0, 0, 0, 0.15);\n",
              "      filter: drop-shadow(0px 1px 2px rgba(0, 0, 0, 0.3));\n",
              "      fill: #FFFFFF;\n",
              "    }\n",
              "  </style>\n",
              "\n",
              "      <script>\n",
              "        const buttonEl =\n",
              "          document.querySelector('#df-3e9d1c48-1f40-4ea6-a4b0-233cc726fb63 button.colab-df-convert');\n",
              "        buttonEl.style.display =\n",
              "          google.colab.kernel.accessAllowed ? 'block' : 'none';\n",
              "\n",
              "        async function convertToInteractive(key) {\n",
              "          const element = document.querySelector('#df-3e9d1c48-1f40-4ea6-a4b0-233cc726fb63');\n",
              "          const dataTable =\n",
              "            await google.colab.kernel.invokeFunction('convertToInteractive',\n",
              "                                                     [key], {});\n",
              "          if (!dataTable) return;\n",
              "\n",
              "          const docLinkHtml = 'Like what you see? Visit the ' +\n",
              "            '<a target=\"_blank\" href=https://colab.research.google.com/notebooks/data_table.ipynb>data table notebook</a>'\n",
              "            + ' to learn more about interactive tables.';\n",
              "          element.innerHTML = '';\n",
              "          dataTable['output_type'] = 'display_data';\n",
              "          await google.colab.output.renderOutput(dataTable, element);\n",
              "          const docLink = document.createElement('div');\n",
              "          docLink.innerHTML = docLinkHtml;\n",
              "          element.appendChild(docLink);\n",
              "        }\n",
              "      </script>\n",
              "    </div>\n",
              "  </div>\n",
              "  "
            ]
          },
          "metadata": {},
          "execution_count": 35
        }
      ]
    },
    {
      "cell_type": "code",
      "source": [
        "data1=pd.DataFrame(rms_list6)\n",
        "data2=pd.DataFrame(std_list6)\n",
        "data3=pd.DataFrame(kurtosis_list6)\n",
        "data4=pd.DataFrame(skew_list6)\n",
        "df_ps6=pd.concat([ps6_new,data1,data2,data3,data4],axis=1)\n",
        "df_ps6.columns=['Mean','RMS','STD','Kurtosis','Skew']"
      ],
      "metadata": {
        "id": "5HZWbN7HlJg0"
      },
      "execution_count": null,
      "outputs": []
    },
    {
      "cell_type": "code",
      "source": [
        "df_ps6.head()"
      ],
      "metadata": {
        "colab": {
          "base_uri": "https://localhost:8080/",
          "height": 206
        },
        "id": "-yoxzDKJlQsP",
        "outputId": "1306c205-02be-49b1-f0c8-ce103c77c2c4"
      },
      "execution_count": null,
      "outputs": [
        {
          "output_type": "execute_result",
          "data": {
            "text/plain": [
              "       Mean       RMS       STD  Kurtosis      Skew\n",
              "0  9.728097  9.728472  0.085359 -1.285051 -0.066643\n",
              "1  9.529488  9.529557  0.036313 -0.515116  0.236280\n",
              "2  9.427949  9.428018  0.036028 -0.507092  0.185500\n",
              "3  9.337430  9.337504  0.037372 -0.668805  0.160194\n",
              "4  9.260636  9.260680  0.028590 -0.459002  0.205203"
            ],
            "text/html": [
              "\n",
              "  <div id=\"df-05de1937-6e5b-47eb-93dc-e2d5bce4cc27\">\n",
              "    <div class=\"colab-df-container\">\n",
              "      <div>\n",
              "<style scoped>\n",
              "    .dataframe tbody tr th:only-of-type {\n",
              "        vertical-align: middle;\n",
              "    }\n",
              "\n",
              "    .dataframe tbody tr th {\n",
              "        vertical-align: top;\n",
              "    }\n",
              "\n",
              "    .dataframe thead th {\n",
              "        text-align: right;\n",
              "    }\n",
              "</style>\n",
              "<table border=\"1\" class=\"dataframe\">\n",
              "  <thead>\n",
              "    <tr style=\"text-align: right;\">\n",
              "      <th></th>\n",
              "      <th>Mean</th>\n",
              "      <th>RMS</th>\n",
              "      <th>STD</th>\n",
              "      <th>Kurtosis</th>\n",
              "      <th>Skew</th>\n",
              "    </tr>\n",
              "  </thead>\n",
              "  <tbody>\n",
              "    <tr>\n",
              "      <th>0</th>\n",
              "      <td>9.728097</td>\n",
              "      <td>9.728472</td>\n",
              "      <td>0.085359</td>\n",
              "      <td>-1.285051</td>\n",
              "      <td>-0.066643</td>\n",
              "    </tr>\n",
              "    <tr>\n",
              "      <th>1</th>\n",
              "      <td>9.529488</td>\n",
              "      <td>9.529557</td>\n",
              "      <td>0.036313</td>\n",
              "      <td>-0.515116</td>\n",
              "      <td>0.236280</td>\n",
              "    </tr>\n",
              "    <tr>\n",
              "      <th>2</th>\n",
              "      <td>9.427949</td>\n",
              "      <td>9.428018</td>\n",
              "      <td>0.036028</td>\n",
              "      <td>-0.507092</td>\n",
              "      <td>0.185500</td>\n",
              "    </tr>\n",
              "    <tr>\n",
              "      <th>3</th>\n",
              "      <td>9.337430</td>\n",
              "      <td>9.337504</td>\n",
              "      <td>0.037372</td>\n",
              "      <td>-0.668805</td>\n",
              "      <td>0.160194</td>\n",
              "    </tr>\n",
              "    <tr>\n",
              "      <th>4</th>\n",
              "      <td>9.260636</td>\n",
              "      <td>9.260680</td>\n",
              "      <td>0.028590</td>\n",
              "      <td>-0.459002</td>\n",
              "      <td>0.205203</td>\n",
              "    </tr>\n",
              "  </tbody>\n",
              "</table>\n",
              "</div>\n",
              "      <button class=\"colab-df-convert\" onclick=\"convertToInteractive('df-05de1937-6e5b-47eb-93dc-e2d5bce4cc27')\"\n",
              "              title=\"Convert this dataframe to an interactive table.\"\n",
              "              style=\"display:none;\">\n",
              "        \n",
              "  <svg xmlns=\"http://www.w3.org/2000/svg\" height=\"24px\"viewBox=\"0 0 24 24\"\n",
              "       width=\"24px\">\n",
              "    <path d=\"M0 0h24v24H0V0z\" fill=\"none\"/>\n",
              "    <path d=\"M18.56 5.44l.94 2.06.94-2.06 2.06-.94-2.06-.94-.94-2.06-.94 2.06-2.06.94zm-11 1L8.5 8.5l.94-2.06 2.06-.94-2.06-.94L8.5 2.5l-.94 2.06-2.06.94zm10 10l.94 2.06.94-2.06 2.06-.94-2.06-.94-.94-2.06-.94 2.06-2.06.94z\"/><path d=\"M17.41 7.96l-1.37-1.37c-.4-.4-.92-.59-1.43-.59-.52 0-1.04.2-1.43.59L10.3 9.45l-7.72 7.72c-.78.78-.78 2.05 0 2.83L4 21.41c.39.39.9.59 1.41.59.51 0 1.02-.2 1.41-.59l7.78-7.78 2.81-2.81c.8-.78.8-2.07 0-2.86zM5.41 20L4 18.59l7.72-7.72 1.47 1.35L5.41 20z\"/>\n",
              "  </svg>\n",
              "      </button>\n",
              "      \n",
              "  <style>\n",
              "    .colab-df-container {\n",
              "      display:flex;\n",
              "      flex-wrap:wrap;\n",
              "      gap: 12px;\n",
              "    }\n",
              "\n",
              "    .colab-df-convert {\n",
              "      background-color: #E8F0FE;\n",
              "      border: none;\n",
              "      border-radius: 50%;\n",
              "      cursor: pointer;\n",
              "      display: none;\n",
              "      fill: #1967D2;\n",
              "      height: 32px;\n",
              "      padding: 0 0 0 0;\n",
              "      width: 32px;\n",
              "    }\n",
              "\n",
              "    .colab-df-convert:hover {\n",
              "      background-color: #E2EBFA;\n",
              "      box-shadow: 0px 1px 2px rgba(60, 64, 67, 0.3), 0px 1px 3px 1px rgba(60, 64, 67, 0.15);\n",
              "      fill: #174EA6;\n",
              "    }\n",
              "\n",
              "    [theme=dark] .colab-df-convert {\n",
              "      background-color: #3B4455;\n",
              "      fill: #D2E3FC;\n",
              "    }\n",
              "\n",
              "    [theme=dark] .colab-df-convert:hover {\n",
              "      background-color: #434B5C;\n",
              "      box-shadow: 0px 1px 3px 1px rgba(0, 0, 0, 0.15);\n",
              "      filter: drop-shadow(0px 1px 2px rgba(0, 0, 0, 0.3));\n",
              "      fill: #FFFFFF;\n",
              "    }\n",
              "  </style>\n",
              "\n",
              "      <script>\n",
              "        const buttonEl =\n",
              "          document.querySelector('#df-05de1937-6e5b-47eb-93dc-e2d5bce4cc27 button.colab-df-convert');\n",
              "        buttonEl.style.display =\n",
              "          google.colab.kernel.accessAllowed ? 'block' : 'none';\n",
              "\n",
              "        async function convertToInteractive(key) {\n",
              "          const element = document.querySelector('#df-05de1937-6e5b-47eb-93dc-e2d5bce4cc27');\n",
              "          const dataTable =\n",
              "            await google.colab.kernel.invokeFunction('convertToInteractive',\n",
              "                                                     [key], {});\n",
              "          if (!dataTable) return;\n",
              "\n",
              "          const docLinkHtml = 'Like what you see? Visit the ' +\n",
              "            '<a target=\"_blank\" href=https://colab.research.google.com/notebooks/data_table.ipynb>data table notebook</a>'\n",
              "            + ' to learn more about interactive tables.';\n",
              "          element.innerHTML = '';\n",
              "          dataTable['output_type'] = 'display_data';\n",
              "          await google.colab.output.renderOutput(dataTable, element);\n",
              "          const docLink = document.createElement('div');\n",
              "          docLink.innerHTML = docLinkHtml;\n",
              "          element.appendChild(docLink);\n",
              "        }\n",
              "      </script>\n",
              "    </div>\n",
              "  </div>\n",
              "  "
            ]
          },
          "metadata": {},
          "execution_count": 37
        }
      ]
    },
    {
      "cell_type": "markdown",
      "source": [
        "#Finding important features with Relieff"
      ],
      "metadata": {
        "id": "PbcOWiHynYJn"
      }
    },
    {
      "cell_type": "code",
      "source": [
        "df_ps1['performance'] =target[0]"
      ],
      "metadata": {
        "id": "OQnpjXhewxaf"
      },
      "execution_count": null,
      "outputs": []
    },
    {
      "cell_type": "code",
      "source": [
        "df_ps1.head()"
      ],
      "metadata": {
        "colab": {
          "base_uri": "https://localhost:8080/",
          "height": 206
        },
        "id": "do28DKn5xE4Z",
        "outputId": "6c552f41-0d55-405f-8695-85e792610a21"
      },
      "execution_count": null,
      "outputs": [
        {
          "output_type": "execute_result",
          "data": {
            "text/plain": [
              "         Mean         RMS        STD  Kurtosis      Skew  performance\n",
              "0  160.673492  161.276914  13.938147  0.495566  1.273048            3\n",
              "1  160.603320  161.222636  14.117791  0.460174  1.278690            3\n",
              "2  160.347720  160.974495  14.191436  0.464134  1.282851            3\n",
              "3  160.188088  160.818594  14.226617  0.470640  1.286353            3\n",
              "4  160.000472  160.636028  14.275244  0.481844  1.292315            3"
            ],
            "text/html": [
              "\n",
              "  <div id=\"df-3cd96097-3a36-4ec3-b28e-2710ed7790cd\">\n",
              "    <div class=\"colab-df-container\">\n",
              "      <div>\n",
              "<style scoped>\n",
              "    .dataframe tbody tr th:only-of-type {\n",
              "        vertical-align: middle;\n",
              "    }\n",
              "\n",
              "    .dataframe tbody tr th {\n",
              "        vertical-align: top;\n",
              "    }\n",
              "\n",
              "    .dataframe thead th {\n",
              "        text-align: right;\n",
              "    }\n",
              "</style>\n",
              "<table border=\"1\" class=\"dataframe\">\n",
              "  <thead>\n",
              "    <tr style=\"text-align: right;\">\n",
              "      <th></th>\n",
              "      <th>Mean</th>\n",
              "      <th>RMS</th>\n",
              "      <th>STD</th>\n",
              "      <th>Kurtosis</th>\n",
              "      <th>Skew</th>\n",
              "      <th>performance</th>\n",
              "    </tr>\n",
              "  </thead>\n",
              "  <tbody>\n",
              "    <tr>\n",
              "      <th>0</th>\n",
              "      <td>160.673492</td>\n",
              "      <td>161.276914</td>\n",
              "      <td>13.938147</td>\n",
              "      <td>0.495566</td>\n",
              "      <td>1.273048</td>\n",
              "      <td>3</td>\n",
              "    </tr>\n",
              "    <tr>\n",
              "      <th>1</th>\n",
              "      <td>160.603320</td>\n",
              "      <td>161.222636</td>\n",
              "      <td>14.117791</td>\n",
              "      <td>0.460174</td>\n",
              "      <td>1.278690</td>\n",
              "      <td>3</td>\n",
              "    </tr>\n",
              "    <tr>\n",
              "      <th>2</th>\n",
              "      <td>160.347720</td>\n",
              "      <td>160.974495</td>\n",
              "      <td>14.191436</td>\n",
              "      <td>0.464134</td>\n",
              "      <td>1.282851</td>\n",
              "      <td>3</td>\n",
              "    </tr>\n",
              "    <tr>\n",
              "      <th>3</th>\n",
              "      <td>160.188088</td>\n",
              "      <td>160.818594</td>\n",
              "      <td>14.226617</td>\n",
              "      <td>0.470640</td>\n",
              "      <td>1.286353</td>\n",
              "      <td>3</td>\n",
              "    </tr>\n",
              "    <tr>\n",
              "      <th>4</th>\n",
              "      <td>160.000472</td>\n",
              "      <td>160.636028</td>\n",
              "      <td>14.275244</td>\n",
              "      <td>0.481844</td>\n",
              "      <td>1.292315</td>\n",
              "      <td>3</td>\n",
              "    </tr>\n",
              "  </tbody>\n",
              "</table>\n",
              "</div>\n",
              "      <button class=\"colab-df-convert\" onclick=\"convertToInteractive('df-3cd96097-3a36-4ec3-b28e-2710ed7790cd')\"\n",
              "              title=\"Convert this dataframe to an interactive table.\"\n",
              "              style=\"display:none;\">\n",
              "        \n",
              "  <svg xmlns=\"http://www.w3.org/2000/svg\" height=\"24px\"viewBox=\"0 0 24 24\"\n",
              "       width=\"24px\">\n",
              "    <path d=\"M0 0h24v24H0V0z\" fill=\"none\"/>\n",
              "    <path d=\"M18.56 5.44l.94 2.06.94-2.06 2.06-.94-2.06-.94-.94-2.06-.94 2.06-2.06.94zm-11 1L8.5 8.5l.94-2.06 2.06-.94-2.06-.94L8.5 2.5l-.94 2.06-2.06.94zm10 10l.94 2.06.94-2.06 2.06-.94-2.06-.94-.94-2.06-.94 2.06-2.06.94z\"/><path d=\"M17.41 7.96l-1.37-1.37c-.4-.4-.92-.59-1.43-.59-.52 0-1.04.2-1.43.59L10.3 9.45l-7.72 7.72c-.78.78-.78 2.05 0 2.83L4 21.41c.39.39.9.59 1.41.59.51 0 1.02-.2 1.41-.59l7.78-7.78 2.81-2.81c.8-.78.8-2.07 0-2.86zM5.41 20L4 18.59l7.72-7.72 1.47 1.35L5.41 20z\"/>\n",
              "  </svg>\n",
              "      </button>\n",
              "      \n",
              "  <style>\n",
              "    .colab-df-container {\n",
              "      display:flex;\n",
              "      flex-wrap:wrap;\n",
              "      gap: 12px;\n",
              "    }\n",
              "\n",
              "    .colab-df-convert {\n",
              "      background-color: #E8F0FE;\n",
              "      border: none;\n",
              "      border-radius: 50%;\n",
              "      cursor: pointer;\n",
              "      display: none;\n",
              "      fill: #1967D2;\n",
              "      height: 32px;\n",
              "      padding: 0 0 0 0;\n",
              "      width: 32px;\n",
              "    }\n",
              "\n",
              "    .colab-df-convert:hover {\n",
              "      background-color: #E2EBFA;\n",
              "      box-shadow: 0px 1px 2px rgba(60, 64, 67, 0.3), 0px 1px 3px 1px rgba(60, 64, 67, 0.15);\n",
              "      fill: #174EA6;\n",
              "    }\n",
              "\n",
              "    [theme=dark] .colab-df-convert {\n",
              "      background-color: #3B4455;\n",
              "      fill: #D2E3FC;\n",
              "    }\n",
              "\n",
              "    [theme=dark] .colab-df-convert:hover {\n",
              "      background-color: #434B5C;\n",
              "      box-shadow: 0px 1px 3px 1px rgba(0, 0, 0, 0.15);\n",
              "      filter: drop-shadow(0px 1px 2px rgba(0, 0, 0, 0.3));\n",
              "      fill: #FFFFFF;\n",
              "    }\n",
              "  </style>\n",
              "\n",
              "      <script>\n",
              "        const buttonEl =\n",
              "          document.querySelector('#df-3cd96097-3a36-4ec3-b28e-2710ed7790cd button.colab-df-convert');\n",
              "        buttonEl.style.display =\n",
              "          google.colab.kernel.accessAllowed ? 'block' : 'none';\n",
              "\n",
              "        async function convertToInteractive(key) {\n",
              "          const element = document.querySelector('#df-3cd96097-3a36-4ec3-b28e-2710ed7790cd');\n",
              "          const dataTable =\n",
              "            await google.colab.kernel.invokeFunction('convertToInteractive',\n",
              "                                                     [key], {});\n",
              "          if (!dataTable) return;\n",
              "\n",
              "          const docLinkHtml = 'Like what you see? Visit the ' +\n",
              "            '<a target=\"_blank\" href=https://colab.research.google.com/notebooks/data_table.ipynb>data table notebook</a>'\n",
              "            + ' to learn more about interactive tables.';\n",
              "          element.innerHTML = '';\n",
              "          dataTable['output_type'] = 'display_data';\n",
              "          await google.colab.output.renderOutput(dataTable, element);\n",
              "          const docLink = document.createElement('div');\n",
              "          docLink.innerHTML = docLinkHtml;\n",
              "          element.appendChild(docLink);\n",
              "        }\n",
              "      </script>\n",
              "    </div>\n",
              "  </div>\n",
              "  "
            ]
          },
          "metadata": {},
          "execution_count": 26
        }
      ]
    },
    {
      "cell_type": "code",
      "source": [
        "from sklearn.preprocessing import LabelEncoder\n",
        "enc=LabelEncoder()\n",
        "df_ps1['performance']=enc.fit_transform(df_ps1['performance'])"
      ],
      "metadata": {
        "id": "bYmjHr19yOEx"
      },
      "execution_count": null,
      "outputs": []
    },
    {
      "cell_type": "code",
      "source": [
        "y=df_ps1['performance']\n",
        "x=df_ps1.drop(\"performance\",axis='columns')"
      ],
      "metadata": {
        "id": "Zy09oes9xgf-"
      },
      "execution_count": null,
      "outputs": []
    },
    {
      "cell_type": "code",
      "source": [
        "X_arr=x.to_numpy()\n",
        "y_arr=y.to_numpy()"
      ],
      "metadata": {
        "id": "4xc5Tr5-zBMz"
      },
      "execution_count": null,
      "outputs": []
    },
    {
      "cell_type": "code",
      "source": [
        "r = relief.Relief(n_features=1)\n",
        "matrix= r.fit_transform(X_arr,y_arr)"
      ],
      "metadata": {
        "id": "xqktPz5kyHgU"
      },
      "execution_count": null,
      "outputs": []
    },
    {
      "cell_type": "code",
      "source": [
        "print(r.w_)"
      ],
      "metadata": {
        "colab": {
          "base_uri": "https://localhost:8080/"
        },
        "id": "QC6UjNJ0zHyI",
        "outputId": "4b1d74a2-0827-4857-ac13-839ed96765ec"
      },
      "execution_count": null,
      "outputs": [
        {
          "output_type": "stream",
          "name": "stdout",
          "text": [
            "[1.49025357 1.57017809 0.92786267 0.25778873 0.24063093]\n"
          ]
        }
      ]
    },
    {
      "cell_type": "code",
      "source": [
        "x=r.w_\n",
        "y=['Mean','RMS','STD','Kurtosis','skew']\n",
        "plt.barh(y, x)\n",
        "plt.ylabel(\"feature\")\n",
        "plt.xlabel(\"feature_importance\")\n",
        "plt.show() "
      ],
      "metadata": {
        "colab": {
          "base_uri": "https://localhost:8080/",
          "height": 280
        },
        "id": "TNy-uZRVzjhy",
        "outputId": "ed3ee249-495f-42bc-b812-d153246623ed"
      },
      "execution_count": null,
      "outputs": [
        {
          "output_type": "display_data",
          "data": {
            "text/plain": [
              "<Figure size 432x288 with 1 Axes>"
            ],
            "image/png": "[encoded data removed]"
          },
          "metadata": {
            "needs_background": "light"
          }
        }
      ]
    },
    {
      "cell_type": "code",
      "source": [
        "df_ps2['performance'] =target[0]\n",
        "enc=LabelEncoder()\n",
        "df_ps2['performance']=enc.fit_transform(df_ps2['performance'])\n",
        "y=df_ps2['performance']\n",
        "x=df_ps2.drop(\"performance\",axis='columns')\n",
        "X_arr=x.to_numpy()\n",
        "y_arr=y.to_numpy()\n",
        "r = relief.Relief(n_features=1)\n",
        "matrix= r.fit_transform(X_arr,y_arr)\n",
        "print(r.w_)"
      ],
      "metadata": {
        "colab": {
          "base_uri": "https://localhost:8080/"
        },
        "id": "hpVvYjfq4FG5",
        "outputId": "8586af1a-2ff8-47c9-9f13-7c90c86a368d"
      },
      "execution_count": null,
      "outputs": [
        {
          "output_type": "stream",
          "name": "stdout",
          "text": [
            "[1.66185557 1.95971044 1.3564887  0.16511329 0.06889048]\n"
          ]
        }
      ]
    },
    {
      "cell_type": "code",
      "source": [
        "x=r.w_\n",
        "y=['Mean','RMS','STD','Kurtosis','skew']\n",
        "plt.barh(y, x)\n",
        "plt.ylabel(\"feature\")\n",
        "plt.xlabel(\"feature_importance\")\n",
        "plt.show() "
      ],
      "metadata": {
        "colab": {
          "base_uri": "https://localhost:8080/",
          "height": 280
        },
        "id": "-4lZXNf64bA6",
        "outputId": "ebfea9a8-6e98-48e2-a7b3-50246e4064b3"
      },
      "execution_count": null,
      "outputs": [
        {
          "output_type": "display_data",
          "data": {
            "text/plain": [
              "<Figure size 432x288 with 1 Axes>"
            ],
            "image/png": "[encoded data removed]"
          },
          "metadata": {
            "needs_background": "light"
          }
        }
      ]
    },
    {
      "cell_type": "code",
      "source": [
        "df_ps3['performance'] =target[0]\n",
        "enc=LabelEncoder()\n",
        "df_ps3['performance']=enc.fit_transform(df_ps3['performance'])\n",
        "y=df_ps3['performance']\n",
        "x=df_ps3.drop(\"performance\",axis='columns')\n",
        "X_arr=x.to_numpy()\n",
        "y_arr=y.to_numpy()\n",
        "r = relief.Relief(n_features=1)\n",
        "matrix= r.fit_transform(X_arr,y_arr)\n",
        "print(r.w_)"
      ],
      "metadata": {
        "colab": {
          "base_uri": "https://localhost:8080/"
        },
        "id": "JaqkN0JU4k6Y",
        "outputId": "7bddb3ae-d5b4-4f29-e366-a78753c125cf"
      },
      "execution_count": null,
      "outputs": [
        {
          "output_type": "stream",
          "name": "stdout",
          "text": [
            "[0.07671137 0.06844094 0.02315031 0.91114367 0.27215361]\n"
          ]
        }
      ]
    },
    {
      "cell_type": "code",
      "source": [
        "x=r.w_\n",
        "y=['Mean','RMS','STD','Kurtosis','skew']\n",
        "plt.barh(y, x)\n",
        "plt.ylabel(\"feature\")\n",
        "plt.xlabel(\"feature_importance\")\n",
        "plt.show() "
      ],
      "metadata": {
        "colab": {
          "base_uri": "https://localhost:8080/",
          "height": 280
        },
        "id": "5dgvWYbR4bOu",
        "outputId": "3da6bf24-8cfc-4510-f67e-5a6c66ff22d2"
      },
      "execution_count": null,
      "outputs": [
        {
          "output_type": "display_data",
          "data": {
            "text/plain": [
              "<Figure size 432x288 with 1 Axes>"
            ],
            "image/png": "[encoded data removed]"
          },
          "metadata": {
            "needs_background": "light"
          }
        }
      ]
    },
    {
      "cell_type": "code",
      "source": [
        "df_ps4['performance'] =target[0]\n",
        "enc=LabelEncoder()\n",
        "df_ps4['performance']=enc.fit_transform(df_ps4['performance'])\n",
        "y=df_ps4['performance']\n",
        "x=df_ps4.drop(\"performance\",axis='columns')\n",
        "X_arr=x.to_numpy()\n",
        "y_arr=y.to_numpy()\n",
        "r = relief.Relief(n_features=1)\n",
        "matrix= r.fit_transform(X_arr,y_arr)\n",
        "print(r.w_)"
      ],
      "metadata": {
        "colab": {
          "base_uri": "https://localhost:8080/"
        },
        "id": "Wk-Ebefs47J9",
        "outputId": "5aac6385-010c-439b-f409-91c25f2ef757"
      },
      "execution_count": null,
      "outputs": [
        {
          "output_type": "stream",
          "name": "stdout",
          "text": [
            "[1.13294872 0.89012892 0.64990659 5.59067257 0.26197276]\n"
          ]
        }
      ]
    },
    {
      "cell_type": "code",
      "source": [
        "x=r.w_\n",
        "y=['Mean','RMS','STD','Kurtosis','skew']\n",
        "plt.barh(y, x)\n",
        "plt.ylabel(\"feature\")\n",
        "plt.xlabel(\"feature_importance\")\n",
        "plt.show() "
      ],
      "metadata": {
        "colab": {
          "base_uri": "https://localhost:8080/",
          "height": 280
        },
        "id": "Xoe2-t_347Ra",
        "outputId": "e9d92ebb-e562-4ff9-c3bb-62b52575e14a"
      },
      "execution_count": null,
      "outputs": [
        {
          "output_type": "display_data",
          "data": {
            "text/plain": [
              "<Figure size 432x288 with 1 Axes>"
            ],
            "image/png": "[encoded data removed]"
          },
          "metadata": {
            "needs_background": "light"
          }
        }
      ]
    },
    {
      "cell_type": "code",
      "source": [
        "df_ps5['performance'] =target[0]\n",
        "enc=LabelEncoder()\n",
        "df_ps5['performance']=enc.fit_transform(df_ps5['performance'])\n",
        "y=df_ps5['performance']\n",
        "x=df_ps5.drop(\"performance\",axis='columns')\n",
        "X_arr=x.to_numpy()\n",
        "y_arr=y.to_numpy()\n",
        "r = relief.Relief(n_features=1)\n",
        "matrix= r.fit_transform(X_arr,y_arr)\n",
        "print(r.w_)"
      ],
      "metadata": {
        "colab": {
          "base_uri": "https://localhost:8080/"
        },
        "id": "m6vEK8Py47bQ",
        "outputId": "9ef184d3-3323-4777-ff0f-e0f3a39b4be4"
      },
      "execution_count": null,
      "outputs": [
        {
          "output_type": "stream",
          "name": "stdout",
          "text": [
            "[0.03697827 0.03691342 0.02273366 0.30143992 0.0516907 ]\n"
          ]
        }
      ]
    },
    {
      "cell_type": "code",
      "source": [
        "x=r.w_\n",
        "y=['Mean','RMS','STD','Kurtosis','skew']\n",
        "plt.barh(y, x)\n",
        "plt.ylabel(\"feature\")\n",
        "plt.xlabel(\"feature_importance\")\n",
        "plt.show() "
      ],
      "metadata": {
        "colab": {
          "base_uri": "https://localhost:8080/",
          "height": 280
        },
        "id": "H_YDJH_B47ks",
        "outputId": "d4d33af7-477c-417a-ff8d-072a5889962c"
      },
      "execution_count": null,
      "outputs": [
        {
          "output_type": "display_data",
          "data": {
            "text/plain": [
              "<Figure size 432x288 with 1 Axes>"
            ],
            "image/png": "[encoded data removed]"
          },
          "metadata": {
            "needs_background": "light"
          }
        }
      ]
    },
    {
      "cell_type": "code",
      "source": [
        "df_ps6['performance'] =target[0]\n",
        "enc=LabelEncoder()\n",
        "df_ps6['performance']=enc.fit_transform(df_ps6['performance'])\n",
        "y=df_ps6['performance']\n",
        "x=df_ps6.drop(\"performance\",axis='columns')\n",
        "X_arr=x.to_numpy()\n",
        "y_arr=y.to_numpy()\n",
        "r = relief.Relief(n_features=1)\n",
        "matrix= r.fit_transform(X_arr,y_arr)\n",
        "print(r.w_)"
      ],
      "metadata": {
        "colab": {
          "base_uri": "https://localhost:8080/"
        },
        "id": "0eB3rOAK47t4",
        "outputId": "f36f3fdb-c287-4dff-c67e-0abb1540e36e"
      },
      "execution_count": null,
      "outputs": [
        {
          "output_type": "stream",
          "name": "stdout",
          "text": [
            "[0.04643727 0.04639203 0.02377657 0.29851194 0.04918386]\n"
          ]
        }
      ]
    },
    {
      "cell_type": "code",
      "source": [
        "x=r.w_\n",
        "y=['Mean','RMS','STD','Kurtosis','skew']\n",
        "plt.barh(y, x)\n",
        "plt.ylabel(\"feature\")\n",
        "plt.xlabel(\"feature_importance\")\n",
        "plt.show() "
      ],
      "metadata": {
        "colab": {
          "base_uri": "https://localhost:8080/",
          "height": 280
        },
        "id": "cho2cLhj472E",
        "outputId": "86ce8924-dd9b-4635-a590-07a33eba85fc"
      },
      "execution_count": null,
      "outputs": [
        {
          "output_type": "display_data",
          "data": {
            "text/plain": [
              "<Figure size 432x288 with 1 Axes>"
            ],
            "image/png": "[encoded data removed]"
          },
          "metadata": {
            "needs_background": "light"
          }
        }
      ]
    },
    {
      "cell_type": "markdown",
      "source": [
        "#cooler Performance prediction with Gradient Boosted Decision tree classifier"
      ],
      "metadata": {
        "id": "55LOUrhi_w4O"
      }
    },
    {
      "cell_type": "code",
      "source": [
        "df_final=pd.DataFrame()\n",
        "df_final['PS1_f']=df_ps1['RMS']\n",
        "df_final['PS2_f']=df_ps2['RMS']\n",
        "df_final['PS3_f']=df_ps3['Kurtosis']\n",
        "df_final['PS4_f']=df_ps4['Kurtosis']\n",
        "df_final['PS5_f']=df_ps5['Kurtosis']\n",
        "df_final['PS6_f']=df_ps6['Kurtosis']\n",
        "df_final['performance']=target[0]"
      ],
      "metadata": {
        "id": "cLr2y4Hw5sfO"
      },
      "execution_count": null,
      "outputs": []
    },
    {
      "cell_type": "code",
      "source": [
        "enc=LabelEncoder()\n",
        "df_final['performance']=enc.fit_transform(df_final['performance'])"
      ],
      "metadata": {
        "id": "zLm06U8262hq"
      },
      "execution_count": null,
      "outputs": []
    },
    {
      "cell_type": "code",
      "source": [
        "df_final.head()"
      ],
      "metadata": {
        "colab": {
          "base_uri": "https://localhost:8080/",
          "height": 206
        },
        "id": "W6UlN4p26l0A",
        "outputId": "4f832b6f-bf55-4bd7-89f8-56c2bf96d417"
      },
      "execution_count": null,
      "outputs": [
        {
          "output_type": "execute_result",
          "data": {
            "text/plain": [
              "        PS1_f       PS2_f     PS3_f  PS4_f     PS5_f     PS6_f  performance\n",
              "0  161.276914  119.173873  6.522166   -3.0 -1.268228 -1.285051            3\n",
              "1  161.222636  119.043743  6.949745   -3.0 -0.564014 -0.515116            3\n",
              "2  160.974495  118.842497  8.213202   -3.0 -0.493298 -0.507092            3\n",
              "3  160.818594  118.748280  7.883349   -3.0 -0.658430 -0.668805            3\n",
              "4  160.636028  118.587317  9.731260   -3.0 -0.474898 -0.459002            3"
            ],
            "text/html": [
              "\n",
              "  <div id=\"df-51b58650-0a55-4c12-adde-de3294a59619\">\n",
              "    <div class=\"colab-df-container\">\n",
              "      <div>\n",
              "<style scoped>\n",
              "    .dataframe tbody tr th:only-of-type {\n",
              "        vertical-align: middle;\n",
              "    }\n",
              "\n",
              "    .dataframe tbody tr th {\n",
              "        vertical-align: top;\n",
              "    }\n",
              "\n",
              "    .dataframe thead th {\n",
              "        text-align: right;\n",
              "    }\n",
              "</style>\n",
              "<table border=\"1\" class=\"dataframe\">\n",
              "  <thead>\n",
              "    <tr style=\"text-align: right;\">\n",
              "      <th></th>\n",
              "      <th>PS1_f</th>\n",
              "      <th>PS2_f</th>\n",
              "      <th>PS3_f</th>\n",
              "      <th>PS4_f</th>\n",
              "      <th>PS5_f</th>\n",
              "      <th>PS6_f</th>\n",
              "      <th>performance</th>\n",
              "    </tr>\n",
              "  </thead>\n",
              "  <tbody>\n",
              "    <tr>\n",
              "      <th>0</th>\n",
              "      <td>161.276914</td>\n",
              "      <td>119.173873</td>\n",
              "      <td>6.522166</td>\n",
              "      <td>-3.0</td>\n",
              "      <td>-1.268228</td>\n",
              "      <td>-1.285051</td>\n",
              "      <td>3</td>\n",
              "    </tr>\n",
              "    <tr>\n",
              "      <th>1</th>\n",
              "      <td>161.222636</td>\n",
              "      <td>119.043743</td>\n",
              "      <td>6.949745</td>\n",
              "      <td>-3.0</td>\n",
              "      <td>-0.564014</td>\n",
              "      <td>-0.515116</td>\n",
              "      <td>3</td>\n",
              "    </tr>\n",
              "    <tr>\n",
              "      <th>2</th>\n",
              "      <td>160.974495</td>\n",
              "      <td>118.842497</td>\n",
              "      <td>8.213202</td>\n",
              "      <td>-3.0</td>\n",
              "      <td>-0.493298</td>\n",
              "      <td>-0.507092</td>\n",
              "      <td>3</td>\n",
              "    </tr>\n",
              "    <tr>\n",
              "      <th>3</th>\n",
              "      <td>160.818594</td>\n",
              "      <td>118.748280</td>\n",
              "      <td>7.883349</td>\n",
              "      <td>-3.0</td>\n",
              "      <td>-0.658430</td>\n",
              "      <td>-0.668805</td>\n",
              "      <td>3</td>\n",
              "    </tr>\n",
              "    <tr>\n",
              "      <th>4</th>\n",
              "      <td>160.636028</td>\n",
              "      <td>118.587317</td>\n",
              "      <td>9.731260</td>\n",
              "      <td>-3.0</td>\n",
              "      <td>-0.474898</td>\n",
              "      <td>-0.459002</td>\n",
              "      <td>3</td>\n",
              "    </tr>\n",
              "  </tbody>\n",
              "</table>\n",
              "</div>\n",
              "      <button class=\"colab-df-convert\" onclick=\"convertToInteractive('df-51b58650-0a55-4c12-adde-de3294a59619')\"\n",
              "              title=\"Convert this dataframe to an interactive table.\"\n",
              "              style=\"display:none;\">\n",
              "        \n",
              "  <svg xmlns=\"http://www.w3.org/2000/svg\" height=\"24px\"viewBox=\"0 0 24 24\"\n",
              "       width=\"24px\">\n",
              "    <path d=\"M0 0h24v24H0V0z\" fill=\"none\"/>\n",
              "    <path d=\"M18.56 5.44l.94 2.06.94-2.06 2.06-.94-2.06-.94-.94-2.06-.94 2.06-2.06.94zm-11 1L8.5 8.5l.94-2.06 2.06-.94-2.06-.94L8.5 2.5l-.94 2.06-2.06.94zm10 10l.94 2.06.94-2.06 2.06-.94-2.06-.94-.94-2.06-.94 2.06-2.06.94z\"/><path d=\"M17.41 7.96l-1.37-1.37c-.4-.4-.92-.59-1.43-.59-.52 0-1.04.2-1.43.59L10.3 9.45l-7.72 7.72c-.78.78-.78 2.05 0 2.83L4 21.41c.39.39.9.59 1.41.59.51 0 1.02-.2 1.41-.59l7.78-7.78 2.81-2.81c.8-.78.8-2.07 0-2.86zM5.41 20L4 18.59l7.72-7.72 1.47 1.35L5.41 20z\"/>\n",
              "  </svg>\n",
              "      </button>\n",
              "      \n",
              "  <style>\n",
              "    .colab-df-container {\n",
              "      display:flex;\n",
              "      flex-wrap:wrap;\n",
              "      gap: 12px;\n",
              "    }\n",
              "\n",
              "    .colab-df-convert {\n",
              "      background-color: #E8F0FE;\n",
              "      border: none;\n",
              "      border-radius: 50%;\n",
              "      cursor: pointer;\n",
              "      display: none;\n",
              "      fill: #1967D2;\n",
              "      height: 32px;\n",
              "      padding: 0 0 0 0;\n",
              "      width: 32px;\n",
              "    }\n",
              "\n",
              "    .colab-df-convert:hover {\n",
              "      background-color: #E2EBFA;\n",
              "      box-shadow: 0px 1px 2px rgba(60, 64, 67, 0.3), 0px 1px 3px 1px rgba(60, 64, 67, 0.15);\n",
              "      fill: #174EA6;\n",
              "    }\n",
              "\n",
              "    [theme=dark] .colab-df-convert {\n",
              "      background-color: #3B4455;\n",
              "      fill: #D2E3FC;\n",
              "    }\n",
              "\n",
              "    [theme=dark] .colab-df-convert:hover {\n",
              "      background-color: #434B5C;\n",
              "      box-shadow: 0px 1px 3px 1px rgba(0, 0, 0, 0.15);\n",
              "      filter: drop-shadow(0px 1px 2px rgba(0, 0, 0, 0.3));\n",
              "      fill: #FFFFFF;\n",
              "    }\n",
              "  </style>\n",
              "\n",
              "      <script>\n",
              "        const buttonEl =\n",
              "          document.querySelector('#df-51b58650-0a55-4c12-adde-de3294a59619 button.colab-df-convert');\n",
              "        buttonEl.style.display =\n",
              "          google.colab.kernel.accessAllowed ? 'block' : 'none';\n",
              "\n",
              "        async function convertToInteractive(key) {\n",
              "          const element = document.querySelector('#df-51b58650-0a55-4c12-adde-de3294a59619');\n",
              "          const dataTable =\n",
              "            await google.colab.kernel.invokeFunction('convertToInteractive',\n",
              "                                                     [key], {});\n",
              "          if (!dataTable) return;\n",
              "\n",
              "          const docLinkHtml = 'Like what you see? Visit the ' +\n",
              "            '<a target=\"_blank\" href=https://colab.research.google.com/notebooks/data_table.ipynb>data table notebook</a>'\n",
              "            + ' to learn more about interactive tables.';\n",
              "          element.innerHTML = '';\n",
              "          dataTable['output_type'] = 'display_data';\n",
              "          await google.colab.output.renderOutput(dataTable, element);\n",
              "          const docLink = document.createElement('div');\n",
              "          docLink.innerHTML = docLinkHtml;\n",
              "          element.appendChild(docLink);\n",
              "        }\n",
              "      </script>\n",
              "    </div>\n",
              "  </div>\n",
              "  "
            ]
          },
          "metadata": {},
          "execution_count": 53
        }
      ]
    },
    {
      "cell_type": "code",
      "source": [
        "#performing train test split 80:20\n",
        "y=df_final['performance']\n",
        "del df_final['performance']\n",
        "x=df_final\n",
        "from sklearn.model_selection import train_test_split\n",
        "X_train,X_test,y_train,y_test=train_test_split(x,y,test_size=0.2,random_state=42)"
      ],
      "metadata": {
        "id": "gITB6w797T8k"
      },
      "execution_count": null,
      "outputs": []
    },
    {
      "cell_type": "code",
      "source": [
        "#Checking whether data is balanced or not\n",
        "risk_flag_sum=pd.value_counts(y_train,sort=True)\n",
        "risk_flag_sum.plot(kind='bar',rot=0)\n",
        "plt.title('For contaminators value')\n",
        "\n",
        "plt.xlabel('each category')\n",
        "plt.ylabel('Frequency')\n",
        "#We can observe data is imbalanced from below figure"
      ],
      "metadata": {
        "colab": {
          "base_uri": "https://localhost:8080/",
          "height": 312
        },
        "id": "c0YTuE_a7dN3",
        "outputId": "bc6a2620-6048-4f57-a005-ee4a7b2fdf7b"
      },
      "execution_count": null,
      "outputs": [
        {
          "output_type": "execute_result",
          "data": {
            "text/plain": [
              "Text(0, 0.5, 'Frequency')"
            ]
          },
          "metadata": {},
          "execution_count": 58
        },
        {
          "output_type": "display_data",
          "data": {
            "text/plain": [
              "<Figure size 432x288 with 1 Axes>"
            ],
            "image/png": "[encoded data removed]"
          },
          "metadata": {
            "needs_background": "light"
          }
        }
      ]
    },
    {
      "cell_type": "code",
      "source": [
        "#Now we are using Synthetic Minority OverSampling Technique(SMOTE) on Training data\n",
        "#We use SMOTE to overcome Class Imbalance\n",
        "from collections import Counter\n",
        "from imblearn.combine import SMOTETomek\n",
        "counter=Counter(y_train)\n",
        "print('before',counter)\n",
        "smtom=SMOTETomek()\n",
        "X,Y=smtom.fit_resample(X_train,y_train)\n",
        "counter=Counter(Y)\n",
        "print('after',counter)"
      ],
      "metadata": {
        "colab": {
          "base_uri": "https://localhost:8080/"
        },
        "id": "PAS_3pir7dQX",
        "outputId": "8528f7d4-f474-4c98-fbde-44005292d6fd"
      },
      "execution_count": null,
      "outputs": [
        {
          "output_type": "stream",
          "name": "stdout",
          "text": [
            "before Counter({1: 597, 2: 587, 0: 580})\n",
            "after Counter({2: 591, 0: 582, 1: 580})\n"
          ]
        }
      ]
    },
    {
      "cell_type": "code",
      "source": [
        "#We use correlation matrix to observe relations among different features\n",
        "corrmat=df_final.corr()\n",
        "top_corr_features=corrmat.index\n",
        "plt.figure(figsize=(6,6))\n",
        "c=sns.heatmap(df_final[top_corr_features].corr(),annot=True,cmap=\"RdYlGn\")"
      ],
      "metadata": {
        "colab": {
          "base_uri": "https://localhost:8080/",
          "height": 379
        },
        "id": "uvb8-rZ87dTG",
        "outputId": "268273a8-97c8-4361-f81f-94d05525f31d"
      },
      "execution_count": null,
      "outputs": [
        {
          "output_type": "display_data",
          "data": {
            "text/plain": [
              "<Figure size 432x432 with 2 Axes>"
            ],
            "image/png": "[encoded data removed]"
          },
          "metadata": {
            "needs_background": "light"
          }
        }
      ]
    },
    {
      "cell_type": "code",
      "source": [
        "from sklearn.ensemble import GradientBoostingClassifier\n",
        "classifier=GradientBoostingClassifier()\n",
        "random_grid={'learning_rate':[0.001,0.005,0.01,0.05,0.1,0.15],'n_estimators':[50,100,200,250],'max_features':[1,3,5,7],'min_samples_split':[2,5,10],'min_samples_leaf':[1,2,4],'max_depth':[1,3,5,7,10,30]}"
      ],
      "metadata": {
        "id": "4LdLQY2V7dVY"
      },
      "execution_count": null,
      "outputs": []
    },
    {
      "cell_type": "code",
      "source": [
        "from sklearn.model_selection import RandomizedSearchCV\n",
        "classifier_random=RandomizedSearchCV(estimator=classifier,param_distributions=random_grid,n_iter=100,n_jobs=-1,cv=5,verbose=3)\n",
        "classifier_random.fit(X_train,y_train)"
      ],
      "metadata": {
        "colab": {
          "base_uri": "https://localhost:8080/"
        },
        "id": "GxkaNmf9894u",
        "outputId": "4c6825b9-ef72-4bf2-cec3-4436defdc4c5"
      },
      "execution_count": null,
      "outputs": [
        {
          "output_type": "stream",
          "name": "stdout",
          "text": [
            "Fitting 5 folds for each of 100 candidates, totalling 500 fits\n"
          ]
        },
        {
          "output_type": "stream",
          "name": "stderr",
          "text": [
            "/usr/local/lib/python3.7/dist-packages/sklearn/model_selection/_validation.py:372: FitFailedWarning: \n",
            "140 fits failed out of a total of 500.\n",
            "The score on these train-test partitions for these parameters will be set to nan.\n",
            "If these failures are not expected, you can try to debug them by setting error_score='raise'.\n",
            "\n",
            "Below are more details about the failures:\n",
            "--------------------------------------------------------------------------------\n",
            "140 fits failed with the following error:\n",
            "Traceback (most recent call last):\n",
            "  File \"/usr/local/lib/python3.7/dist-packages/sklearn/model_selection/_validation.py\", line 680, in _fit_and_score\n",
            "    estimator.fit(X_train, y_train, **fit_params)\n",
            "  File \"/usr/local/lib/python3.7/dist-packages/sklearn/ensemble/_gb.py\", line 596, in fit\n",
            "    monitor,\n",
            "  File \"/usr/local/lib/python3.7/dist-packages/sklearn/ensemble/_gb.py\", line 672, in _fit_stages\n",
            "    X_csr,\n",
            "  File \"/usr/local/lib/python3.7/dist-packages/sklearn/ensemble/_gb.py\", line 246, in _fit_stage\n",
            "    tree.fit(X, residual, sample_weight=sample_weight, check_input=False)\n",
            "  File \"/usr/local/lib/python3.7/dist-packages/sklearn/tree/_classes.py\", line 1320, in fit\n",
            "    X_idx_sorted=X_idx_sorted,\n",
            "  File \"/usr/local/lib/python3.7/dist-packages/sklearn/tree/_classes.py\", line 308, in fit\n",
            "    raise ValueError(\"max_features must be in (0, n_features]\")\n",
            "ValueError: max_features must be in (0, n_features]\n",
            "\n",
            "  warnings.warn(some_fits_failed_message, FitFailedWarning)\n",
            "/usr/local/lib/python3.7/dist-packages/sklearn/model_selection/_search.py:972: UserWarning: One or more of the test scores are non-finite: [       nan 0.98582604        nan 0.98582604        nan 0.98582282\n",
            " 0.98809394 0.9795873  0.98752575 0.98072528        nan        nan\n",
            " 0.98866212 0.98809394 0.86735288 0.98696079 0.97618787 0.95011106\n",
            " 0.98638939        nan 0.97845416 0.9795873  0.98752736 0.98809394\n",
            " 0.98809394 0.98809394        nan 0.98696079 0.98752736 0.98582282\n",
            " 0.98582282 0.97618787 0.98752736        nan        nan 0.98809554\n",
            "        nan 0.98866051 0.98696079        nan        nan 0.98695918\n",
            " 0.98752414 0.98582765        nan 0.97391997 0.98866051 0.93765452\n",
            "        nan 0.98695918 0.98752736 0.97845416 0.98809394        nan\n",
            "        nan 0.98752736        nan 0.98866212        nan 0.98752575\n",
            "        nan 0.97335501 0.98696079        nan 0.98695918 0.98695918\n",
            " 0.98639261        nan 0.9795873  0.98809394 0.98752736        nan\n",
            " 0.98752736 0.98752736 0.98582765 0.98809233 0.98355653        nan\n",
            "        nan 0.95067602 0.98582604 0.98752736 0.98639422 0.98809394\n",
            " 0.98866051 0.97165368 0.98582443 0.98242177 0.98809394 0.98695918\n",
            " 0.98582282 0.98015549        nan        nan        nan 0.98809233\n",
            " 0.98412471 0.98639422        nan 0.98696079]\n",
            "  category=UserWarning,\n"
          ]
        },
        {
          "output_type": "execute_result",
          "data": {
            "text/plain": [
              "RandomizedSearchCV(cv=5, estimator=GradientBoostingClassifier(), n_iter=100,\n",
              "                   n_jobs=-1,\n",
              "                   param_distributions={'learning_rate': [0.001, 0.005, 0.01,\n",
              "                                                          0.05, 0.1, 0.15],\n",
              "                                        'max_depth': [1, 3, 5, 7, 10, 30],\n",
              "                                        'max_features': [1, 3, 5, 7],\n",
              "                                        'min_samples_leaf': [1, 2, 4],\n",
              "                                        'min_samples_split': [2, 5, 10],\n",
              "                                        'n_estimators': [50, 100, 200, 250]},\n",
              "                   verbose=3)"
            ]
          },
          "metadata": {},
          "execution_count": 63
        }
      ]
    },
    {
      "cell_type": "code",
      "source": [
        "classifier_random.best_estimator_"
      ],
      "metadata": {
        "colab": {
          "base_uri": "https://localhost:8080/"
        },
        "id": "ccoBUxzW9Cqb",
        "outputId": "06e30bff-230b-49df-b28c-bc125048c171"
      },
      "execution_count": null,
      "outputs": [
        {
          "output_type": "execute_result",
          "data": {
            "text/plain": [
              "GradientBoostingClassifier(learning_rate=0.005, max_depth=10, max_features=5,\n",
              "                           min_samples_leaf=2, min_samples_split=5)"
            ]
          },
          "metadata": {},
          "execution_count": 64
        }
      ]
    },
    {
      "cell_type": "code",
      "source": [
        "#classifier=GradientBoostingClassifier(learning_rate=0.15, max_depth=10, max_features=3,min_samples_leaf=2, min_samples_split=5,n_estimators=250)\n",
        "GradientBoostingClassifier(learning_rate=0.005, max_depth=10, max_features=5,\n",
        "                           min_samples_leaf=2, min_samples_split=5)\n",
        "classifier.fit(X_train,y_train)"
      ],
      "metadata": {
        "colab": {
          "base_uri": "https://localhost:8080/"
        },
        "id": "lvFbLr0m9C5g",
        "outputId": "21895912-5bb5-4bd5-ee3f-8d1f898d7ad5"
      },
      "execution_count": null,
      "outputs": [
        {
          "output_type": "execute_result",
          "data": {
            "text/plain": [
              "GradientBoostingClassifier()"
            ]
          },
          "metadata": {},
          "execution_count": 65
        }
      ]
    },
    {
      "cell_type": "code",
      "source": [
        "y_testpred=classifier.predict(X_test)\n",
        "df_testpred=y_testpred\n",
        "df_testpred=df_testpred.reshape(-1,1)"
      ],
      "metadata": {
        "id": "09UvOeu29Mz9"
      },
      "execution_count": null,
      "outputs": []
    },
    {
      "cell_type": "code",
      "source": [
        "#accuracy score\n",
        "from sklearn.metrics import accuracy_score\n",
        "accuracy_score(y_test, y_testpred)"
      ],
      "metadata": {
        "colab": {
          "base_uri": "https://localhost:8080/"
        },
        "id": "6BRSM7Dp9RmM",
        "outputId": "3d692c38-a14b-42d2-d808-4695fb228a9d"
      },
      "execution_count": null,
      "outputs": [
        {
          "output_type": "execute_result",
          "data": {
            "text/plain": [
              "0.9931972789115646"
            ]
          },
          "metadata": {},
          "execution_count": 67
        }
      ]
    },
    {
      "cell_type": "code",
      "source": [
        "confusion_matrix(y_test, y_testpred)"
      ],
      "metadata": {
        "colab": {
          "base_uri": "https://localhost:8080/"
        },
        "id": "8ESiQf619Roq",
        "outputId": "a913f305-7513-445b-fdbb-29b1eea59d45"
      },
      "execution_count": null,
      "outputs": [
        {
          "output_type": "execute_result",
          "data": {
            "text/plain": [
              "array([[151,   1,   0],\n",
              "       [  0, 135,   0],\n",
              "       [  2,   0, 152]])"
            ]
          },
          "metadata": {},
          "execution_count": 68
        }
      ]
    },
    {
      "cell_type": "markdown",
      "source": [
        "#Important feature extraction to check valve switching"
      ],
      "metadata": {
        "id": "Jz0Xmk9EGZVm"
      }
    },
    {
      "cell_type": "code",
      "source": [
        "df_ps1['performance'] =target[1]\n",
        "from sklearn.preprocessing import LabelEncoder\n",
        "enc=LabelEncoder()\n",
        "df_ps1['performance']=enc.fit_transform(df_ps1['performance'])\n",
        "y=df_ps1['performance']\n",
        "x=df_ps1.drop(\"performance\",axis='columns')\n",
        "X_arr=x.to_numpy()\n",
        "y_arr=y.to_numpy()\n",
        "r = relief.Relief(n_features=1)\n",
        "matrix= r.fit_transform(X_arr,y_arr)"
      ],
      "metadata": {
        "id": "1YnltnYWKEH7"
      },
      "execution_count": null,
      "outputs": []
    },
    {
      "cell_type": "code",
      "source": [
        "x=r.w_\n",
        "y=['Mean','RMS','STD','Kurtosis','skew']\n",
        "plt.barh(y, x)\n",
        "plt.ylabel(\"feature\")\n",
        "plt.xlabel(\"feature_importance\")\n",
        "plt.show() "
      ],
      "metadata": {
        "colab": {
          "base_uri": "https://localhost:8080/",
          "height": 280
        },
        "id": "DypB6kehKELM",
        "outputId": "fa616008-cb5c-42e8-c369-4683b46bb7d6"
      },
      "execution_count": null,
      "outputs": [
        {
          "output_type": "display_data",
          "data": {
            "text/plain": [
              "<Figure size 432x288 with 1 Axes>"
            ],
            "image/png": "[encoded data removed]"
          },
          "metadata": {
            "needs_background": "light"
          }
        }
      ]
    },
    {
      "cell_type": "code",
      "source": [
        "df_ps2['performance'] =target[1]\n",
        "enc=LabelEncoder()\n",
        "df_ps2['performance']=enc.fit_transform(df_ps2['performance'])\n",
        "y=df_ps2['performance']\n",
        "x=df_ps2.drop(\"performance\",axis='columns')\n",
        "X_arr=x.to_numpy()\n",
        "y_arr=y.to_numpy()\n",
        "r = relief.Relief(n_features=1)\n",
        "matrix= r.fit_transform(X_arr,y_arr)\n",
        "print(r.w_)"
      ],
      "metadata": {
        "colab": {
          "base_uri": "https://localhost:8080/"
        },
        "id": "N9oeuh5PKEN9",
        "outputId": "8dc70ba4-b66a-4c87-ca20-fb395b8175cb"
      },
      "execution_count": null,
      "outputs": [
        {
          "output_type": "stream",
          "name": "stdout",
          "text": [
            "[0.10124558 0.06449966 0.17781289 0.04574097 0.01216573]\n"
          ]
        }
      ]
    },
    {
      "cell_type": "code",
      "source": [
        "x=r.w_\n",
        "y=['Mean','RMS','STD','Kurtosis','skew']\n",
        "plt.barh(y, x)\n",
        "plt.ylabel(\"feature\")\n",
        "plt.xlabel(\"feature_importance\")\n",
        "plt.show() "
      ],
      "metadata": {
        "colab": {
          "base_uri": "https://localhost:8080/",
          "height": 280
        },
        "id": "6BR-RkihgrcX",
        "outputId": "85e4886a-2d27-46af-d3dc-b1b0575064a0"
      },
      "execution_count": null,
      "outputs": [
        {
          "output_type": "display_data",
          "data": {
            "text/plain": [
              "<Figure size 432x288 with 1 Axes>"
            ],
            "image/png": "[encoded data removed]"
          },
          "metadata": {
            "needs_background": "light"
          }
        }
      ]
    },
    {
      "cell_type": "code",
      "source": [
        "df_ps3['performance'] =target[1]\n",
        "enc=LabelEncoder()\n",
        "df_ps3['performance']=enc.fit_transform(df_ps3['performance'])\n",
        "y=df_ps3['performance']\n",
        "x=df_ps3.drop(\"performance\",axis='columns')\n",
        "X_arr=x.to_numpy()\n",
        "y_arr=y.to_numpy()\n",
        "r = relief.Relief(n_features=1)\n",
        "matrix= r.fit_transform(X_arr,y_arr)\n",
        "print(r.w_)"
      ],
      "metadata": {
        "colab": {
          "base_uri": "https://localhost:8080/"
        },
        "id": "1PDJVa03g1N-",
        "outputId": "623d4578-8ee2-4237-9297-65b69f4e3ed3"
      },
      "execution_count": null,
      "outputs": [
        {
          "output_type": "stream",
          "name": "stdout",
          "text": [
            "[0.01200164 0.01229446 0.00634938 0.03590286 0.02733864]\n"
          ]
        }
      ]
    },
    {
      "cell_type": "code",
      "source": [
        "x=r.w_\n",
        "y=['Mean','RMS','STD','Kurtosis','skew']\n",
        "plt.barh(y, x)\n",
        "plt.ylabel(\"feature\")\n",
        "plt.xlabel(\"feature_importance\")\n",
        "plt.show() "
      ],
      "metadata": {
        "colab": {
          "base_uri": "https://localhost:8080/",
          "height": 280
        },
        "id": "akdLQJXeg1TA",
        "outputId": "c69259da-8808-4e80-cfca-87c390906e03"
      },
      "execution_count": null,
      "outputs": [
        {
          "output_type": "display_data",
          "data": {
            "text/plain": [
              "<Figure size 432x288 with 1 Axes>"
            ],
            "image/png": "[encoded data removed]"
          },
          "metadata": {
            "needs_background": "light"
          }
        }
      ]
    },
    {
      "cell_type": "code",
      "source": [
        "df_ps4['performance'] =target[1]\n",
        "enc=LabelEncoder()\n",
        "df_ps4['performance']=enc.fit_transform(df_ps4['performance'])\n",
        "y=df_ps4['performance']\n",
        "x=df_ps4.drop(\"performance\",axis='columns')\n",
        "X_arr=x.to_numpy()\n",
        "y_arr=y.to_numpy()\n",
        "r = relief.Relief(n_features=1)\n",
        "matrix= r.fit_transform(X_arr,y_arr)\n",
        "print(r.w_)"
      ],
      "metadata": {
        "colab": {
          "base_uri": "https://localhost:8080/"
        },
        "id": "rTUS4Zs3g1Vw",
        "outputId": "05f605e9-c519-4079-a256-b6477709e084"
      },
      "execution_count": null,
      "outputs": [
        {
          "output_type": "stream",
          "name": "stdout",
          "text": [
            "[0.15783603 0.15190287 0.05950797 2.78705042 0.2271259 ]\n"
          ]
        }
      ]
    },
    {
      "cell_type": "code",
      "source": [
        "x=r.w_\n",
        "y=['Mean','RMS','STD','Kurtosis','skew']\n",
        "plt.barh(y, x)\n",
        "plt.ylabel(\"feature\")\n",
        "plt.xlabel(\"feature_importance\")\n",
        "plt.show() "
      ],
      "metadata": {
        "colab": {
          "base_uri": "https://localhost:8080/",
          "height": 280
        },
        "id": "qIv60qPUhJIF",
        "outputId": "720e0c77-88d6-44d8-9464-dc43123a5f50"
      },
      "execution_count": null,
      "outputs": [
        {
          "output_type": "display_data",
          "data": {
            "text/plain": [
              "<Figure size 432x288 with 1 Axes>"
            ],
            "image/png": "[encoded data removed]"
          },
          "metadata": {
            "needs_background": "light"
          }
        }
      ]
    },
    {
      "cell_type": "code",
      "source": [
        "df_ps5['performance'] =target[1]\n",
        "enc=LabelEncoder()\n",
        "df_ps5['performance']=enc.fit_transform(df_ps5['performance'])\n",
        "y=df_ps5['performance']\n",
        "x=df_ps5.drop(\"performance\",axis='columns')\n",
        "X_arr=x.to_numpy()\n",
        "y_arr=y.to_numpy()\n",
        "r = relief.Relief(n_features=1)\n",
        "matrix= r.fit_transform(X_arr,y_arr)\n",
        "print(r.w_)"
      ],
      "metadata": {
        "colab": {
          "base_uri": "https://localhost:8080/"
        },
        "id": "WbdU7-01hJMx",
        "outputId": "56b5440a-c32d-4897-e8bc-d40759ee06ba"
      },
      "execution_count": null,
      "outputs": [
        {
          "output_type": "stream",
          "name": "stdout",
          "text": [
            "[0.01656163 0.01656209 0.00046563 0.01143021 0.00972469]\n"
          ]
        }
      ]
    },
    {
      "cell_type": "code",
      "source": [
        "x=r.w_\n",
        "y=['Mean','RMS','STD','Kurtosis','skew']\n",
        "plt.barh(y, x)\n",
        "plt.ylabel(\"feature\")\n",
        "plt.xlabel(\"feature_importance\")\n",
        "plt.show() "
      ],
      "metadata": {
        "colab": {
          "base_uri": "https://localhost:8080/",
          "height": 280
        },
        "id": "Ge_rv9lChJQB",
        "outputId": "4ee7005d-fff0-4dcf-b5a9-2e53784ba922"
      },
      "execution_count": null,
      "outputs": [
        {
          "output_type": "display_data",
          "data": {
            "text/plain": [
              "<Figure size 432x288 with 1 Axes>"
            ],
            "image/png": "[encoded data removed]"
          },
          "metadata": {
            "needs_background": "light"
          }
        }
      ]
    },
    {
      "cell_type": "code",
      "source": [
        "df_ps6['performance'] =target[1]\n",
        "enc=LabelEncoder()\n",
        "df_ps6['performance']=enc.fit_transform(df_ps6['performance'])\n",
        "y=df_ps6['performance']\n",
        "x=df_ps6.drop(\"performance\",axis='columns')\n",
        "X_arr=x.to_numpy()\n",
        "y_arr=y.to_numpy()\n",
        "r = relief.Relief(n_features=1)\n",
        "matrix= r.fit_transform(X_arr,y_arr)\n",
        "print(r.w_)"
      ],
      "metadata": {
        "colab": {
          "base_uri": "https://localhost:8080/"
        },
        "id": "xJIf1iKPhJSx",
        "outputId": "f5bfe8af-619d-4714-a51a-9cadc7e508ee"
      },
      "execution_count": null,
      "outputs": [
        {
          "output_type": "stream",
          "name": "stdout",
          "text": [
            "[0.01685293 0.01685267 0.00041424 0.01178461 0.00978457]\n"
          ]
        }
      ]
    },
    {
      "cell_type": "code",
      "source": [
        "x=r.w_\n",
        "y=['Mean','RMS','STD','Kurtosis','skew']\n",
        "plt.barh(y, x)\n",
        "plt.ylabel(\"feature\")\n",
        "plt.xlabel(\"feature_importance\")\n",
        "plt.show() "
      ],
      "metadata": {
        "colab": {
          "base_uri": "https://localhost:8080/",
          "height": 280
        },
        "id": "JEHsdSZ_hJVg",
        "outputId": "ba203008-a028-40b9-a0db-a607e7f6225d"
      },
      "execution_count": null,
      "outputs": [
        {
          "output_type": "display_data",
          "data": {
            "text/plain": [
              "<Figure size 432x288 with 1 Axes>"
            ],
            "image/png": "[encoded data removed]"
          },
          "metadata": {
            "needs_background": "light"
          }
        }
      ]
    },
    {
      "cell_type": "markdown",
      "source": [
        "#Checking  with GBDTC"
      ],
      "metadata": {
        "id": "-i21AFhPhkYQ"
      }
    },
    {
      "cell_type": "code",
      "source": [
        "df_final=pd.DataFrame()\n",
        "df_final['PS1_f']=df_ps1['STD']\n",
        "df_final['PS2_f']=df_ps2['STD']\n",
        "df_final['PS3_f']=df_ps3['Kurtosis']\n",
        "df_final['PS4_f']=df_ps4['Kurtosis']\n",
        "df_final['PS5_f']=df_ps5['RMS']\n",
        "df_final['PS6_f']=df_ps6['Mean']\n",
        "df_final['performance']=target[1]"
      ],
      "metadata": {
        "id": "KOYgj1fxhJYh"
      },
      "execution_count": null,
      "outputs": []
    },
    {
      "cell_type": "code",
      "source": [
        "enc=LabelEncoder()\n",
        "df_final['performance']=enc.fit_transform(df_final['performance'])"
      ],
      "metadata": {
        "id": "8uFgHfUvhJbB"
      },
      "execution_count": null,
      "outputs": []
    },
    {
      "cell_type": "code",
      "source": [
        "#performing train test split 80:20\n",
        "y=df_final['performance']\n",
        "del df_final['performance']\n",
        "x=df_final\n",
        "from sklearn.model_selection import train_test_split\n",
        "X_train,X_test,y_train,y_test=train_test_split(x,y,test_size=0.2,random_state=42)"
      ],
      "metadata": {
        "id": "8zyOygKChJdq"
      },
      "execution_count": null,
      "outputs": []
    },
    {
      "cell_type": "code",
      "source": [
        "#Checking whether data is balanced or not\n",
        "risk_flag_sum=pd.value_counts(y_train,sort=True)\n",
        "risk_flag_sum.plot(kind='bar',rot=0)\n",
        "plt.title('For contaminators value')\n",
        "\n",
        "plt.xlabel('each category')\n",
        "plt.ylabel('Frequency')\n",
        "#We can observe data is imbalanced from below figure"
      ],
      "metadata": {
        "colab": {
          "base_uri": "https://localhost:8080/",
          "height": 312
        },
        "id": "-OFqmXCHhJf0",
        "outputId": "b0c04571-0ceb-4845-d275-818d3cd8875d"
      },
      "execution_count": null,
      "outputs": [
        {
          "output_type": "execute_result",
          "data": {
            "text/plain": [
              "Text(0, 0.5, 'Frequency')"
            ]
          },
          "metadata": {},
          "execution_count": 51
        },
        {
          "output_type": "display_data",
          "data": {
            "text/plain": [
              "<Figure size 432x288 with 1 Axes>"
            ],
            "image/png": "[encoded data removed]"
          },
          "metadata": {
            "needs_background": "light"
          }
        }
      ]
    },
    {
      "cell_type": "code",
      "source": [
        "#Now we are using Synthetic Minority OverSampling Technique(SMOTE) on Training data\n",
        "#We use SMOTE to overcome Class Imbalance\n",
        "from collections import Counter\n",
        "from imblearn.combine import SMOTETomek\n",
        "counter=Counter(y_train)\n",
        "print('before',counter)\n",
        "smtom=SMOTETomek()\n",
        "X,Y=smtom.fit_resample(X_train,y_train)\n",
        "counter=Counter(Y)\n",
        "print('after',counter)"
      ],
      "metadata": {
        "colab": {
          "base_uri": "https://localhost:8080/"
        },
        "id": "HMIKEjCyiOrT",
        "outputId": "5e5e9c44-abae-4d9e-d6a4-6f97e19b266d"
      },
      "execution_count": null,
      "outputs": [
        {
          "output_type": "stream",
          "name": "stdout",
          "text": [
            "before Counter({3: 919, 1: 293, 2: 280, 0: 272})\n",
            "after Counter({0: 885, 1: 883, 3: 880, 2: 876})\n"
          ]
        }
      ]
    },
    {
      "cell_type": "code",
      "source": [
        "#We use correlation matrix to observe relations among different features\n",
        "corrmat=df_final.corr()\n",
        "top_corr_features=corrmat.index\n",
        "plt.figure(figsize=(6,6))\n",
        "c=sns.heatmap(df_final[top_corr_features].corr(),annot=True,cmap=\"RdYlGn\")"
      ],
      "metadata": {
        "colab": {
          "base_uri": "https://localhost:8080/",
          "height": 379
        },
        "id": "4As87yAIiOuC",
        "outputId": "29fc52f4-655a-46bb-d813-53057411cc35"
      },
      "execution_count": null,
      "outputs": [
        {
          "output_type": "display_data",
          "data": {
            "text/plain": [
              "<Figure size 432x432 with 2 Axes>"
            ],
            "image/png": "[encoded data removed]"
          },
          "metadata": {
            "needs_background": "light"
          }
        }
      ]
    },
    {
      "cell_type": "code",
      "source": [
        "from sklearn.ensemble import GradientBoostingClassifier\n",
        "classifier=GradientBoostingClassifier()\n",
        "random_grid={'learning_rate':[0.001,0.005,0.01,0.05,0.1,0.15],'n_estimators':[50,100,200,250],'max_features':[1,3,5,7],'min_samples_split':[2,5,10],'min_samples_leaf':[1,2,4],'max_depth':[1,3,5,7,10,30]}"
      ],
      "metadata": {
        "id": "oFo-sExjiOxA"
      },
      "execution_count": null,
      "outputs": []
    },
    {
      "cell_type": "code",
      "source": [
        "from sklearn.model_selection import RandomizedSearchCV\n",
        "classifier_random=RandomizedSearchCV(estimator=classifier,param_distributions=random_grid,n_iter=100,n_jobs=-1,cv=5,verbose=3)\n",
        "classifier_random.fit(X_train,y_train)"
      ],
      "metadata": {
        "colab": {
          "base_uri": "https://localhost:8080/"
        },
        "id": "omfl92hSro88",
        "outputId": "2dc10ca4-adfb-473b-e18c-46f1b44675b0"
      },
      "execution_count": null,
      "outputs": [
        {
          "output_type": "stream",
          "name": "stdout",
          "text": [
            "Fitting 5 folds for each of 100 candidates, totalling 500 fits\n"
          ]
        },
        {
          "output_type": "stream",
          "name": "stderr",
          "text": [
            "/usr/local/lib/python3.7/dist-packages/sklearn/model_selection/_validation.py:372: FitFailedWarning: \n",
            "145 fits failed out of a total of 500.\n",
            "The score on these train-test partitions for these parameters will be set to nan.\n",
            "If these failures are not expected, you can try to debug them by setting error_score='raise'.\n",
            "\n",
            "Below are more details about the failures:\n",
            "--------------------------------------------------------------------------------\n",
            "145 fits failed with the following error:\n",
            "Traceback (most recent call last):\n",
            "  File \"/usr/local/lib/python3.7/dist-packages/sklearn/model_selection/_validation.py\", line 680, in _fit_and_score\n",
            "    estimator.fit(X_train, y_train, **fit_params)\n",
            "  File \"/usr/local/lib/python3.7/dist-packages/sklearn/ensemble/_gb.py\", line 596, in fit\n",
            "    monitor,\n",
            "  File \"/usr/local/lib/python3.7/dist-packages/sklearn/ensemble/_gb.py\", line 672, in _fit_stages\n",
            "    X_csr,\n",
            "  File \"/usr/local/lib/python3.7/dist-packages/sklearn/ensemble/_gb.py\", line 246, in _fit_stage\n",
            "    tree.fit(X, residual, sample_weight=sample_weight, check_input=False)\n",
            "  File \"/usr/local/lib/python3.7/dist-packages/sklearn/tree/_classes.py\", line 1320, in fit\n",
            "    X_idx_sorted=X_idx_sorted,\n",
            "  File \"/usr/local/lib/python3.7/dist-packages/sklearn/tree/_classes.py\", line 308, in fit\n",
            "    raise ValueError(\"max_features must be in (0, n_features]\")\n",
            "ValueError: max_features must be in (0, n_features]\n",
            "\n",
            "  warnings.warn(some_fits_failed_message, FitFailedWarning)\n",
            "/usr/local/lib/python3.7/dist-packages/sklearn/model_selection/_search.py:972: UserWarning: One or more of the test scores are non-finite: [       nan 0.94955415        nan        nan 0.92403586 0.97108872\n",
            " 0.97221865 0.52097605 0.97448815 0.96882243        nan 0.52097605\n",
            "        nan 0.92743851 0.81746555 0.97562452 0.94160926 0.95294553\n",
            "        nan        nan 0.52097605 0.52097605 0.95748616        nan\n",
            " 0.97221865 0.96202035        nan 0.91552923        nan 0.96825425\n",
            " 0.52097605 0.95917944        nan 0.52097605 0.95861125 0.97165368\n",
            "        nan 0.96485321 0.96768768        nan 0.52097605        nan\n",
            "        nan 0.96825425        nan 0.96768285 0.79649272        nan\n",
            "        nan 0.8134915         nan 0.97562452 0.969389   0.96995719\n",
            " 0.52097605 0.97392158 0.95918909        nan 0.65815413 0.52097605\n",
            " 0.97108711        nan        nan 0.52097605 0.63151397        nan\n",
            " 0.92403747 0.97448976 0.96825264        nan 0.94558331 0.52097605\n",
            " 0.96768929        nan 0.97222347        nan 0.52097605 0.95351693\n",
            " 0.52097605 0.95294875 0.96032224        nan 0.95181078 0.9671195\n",
            " 0.52097605 0.96711789 0.95351854        nan 0.79252672 0.96655131\n",
            " 0.97222186 0.96542139 0.52097605 0.52097605        nan 0.96768607\n",
            " 0.62924929 0.52097605 0.5946739  0.94217905]\n",
            "  category=UserWarning,\n"
          ]
        },
        {
          "output_type": "execute_result",
          "data": {
            "text/plain": [
              "RandomizedSearchCV(cv=5, estimator=GradientBoostingClassifier(), n_iter=100,\n",
              "                   n_jobs=-1,\n",
              "                   param_distributions={'learning_rate': [0.001, 0.005, 0.01,\n",
              "                                                          0.05, 0.1, 0.15],\n",
              "                                        'max_depth': [1, 3, 5, 7, 10, 30],\n",
              "                                        'max_features': [1, 3, 5, 7],\n",
              "                                        'min_samples_leaf': [1, 2, 4],\n",
              "                                        'min_samples_split': [2, 5, 10],\n",
              "                                        'n_estimators': [50, 100, 200, 250]},\n",
              "                   verbose=3)"
            ]
          },
          "metadata": {},
          "execution_count": 55
        }
      ]
    },
    {
      "cell_type": "code",
      "source": [
        "classifier_random.best_estimator_"
      ],
      "metadata": {
        "colab": {
          "base_uri": "https://localhost:8080/"
        },
        "id": "K-MR0AhsyJb4",
        "outputId": "fca0b1a2-3bad-498f-9a23-9eb70ba8ef64"
      },
      "execution_count": null,
      "outputs": [
        {
          "output_type": "execute_result",
          "data": {
            "text/plain": [
              "GradientBoostingClassifier(learning_rate=0.05, max_depth=30, max_features=3,\n",
              "                           min_samples_leaf=2, min_samples_split=5,\n",
              "                           n_estimators=250)"
            ]
          },
          "metadata": {},
          "execution_count": 56
        }
      ]
    },
    {
      "cell_type": "code",
      "source": [
        "classifier=GradientBoostingClassifier(learning_rate=0.05, max_depth=30, max_features=3,\n",
        "                           min_samples_leaf=2, min_samples_split=5,\n",
        "                           n_estimators=250)\n",
        "classifier.fit(X_train,y_train)"
      ],
      "metadata": {
        "colab": {
          "base_uri": "https://localhost:8080/"
        },
        "id": "ufd6LBIfiOzx",
        "outputId": "1553d165-dc1d-4a61-a08d-4d2b1038cc44"
      },
      "execution_count": null,
      "outputs": [
        {
          "output_type": "execute_result",
          "data": {
            "text/plain": [
              "GradientBoostingClassifier(learning_rate=0.05, max_depth=30, max_features=3,\n",
              "                           min_samples_leaf=2, min_samples_split=5,\n",
              "                           n_estimators=250)"
            ]
          },
          "metadata": {},
          "execution_count": 57
        }
      ]
    },
    {
      "cell_type": "code",
      "source": [
        "y_testpred=classifier.predict(X_test)\n",
        "df_testpred=y_testpred\n",
        "df_testpred=df_testpred.reshape(-1,1)\n",
        "from sklearn.metrics import accuracy_score\n",
        "accuracy_score(y_test, y_testpred)"
      ],
      "metadata": {
        "colab": {
          "base_uri": "https://localhost:8080/"
        },
        "id": "7Zefwz8ai-Oz",
        "outputId": "311ad648-04a4-4944-a47d-1937e5f67bef"
      },
      "execution_count": null,
      "outputs": [
        {
          "output_type": "execute_result",
          "data": {
            "text/plain": [
              "0.9773242630385488"
            ]
          },
          "metadata": {},
          "execution_count": 58
        }
      ]
    },
    {
      "cell_type": "markdown",
      "source": [
        "#Important features for checking leakage"
      ],
      "metadata": {
        "id": "BuCf2d35jHy0"
      }
    },
    {
      "cell_type": "code",
      "source": [
        "df_ps1['performance'] =target[2]\n",
        "enc=LabelEncoder()\n",
        "df_ps1['performance']=enc.fit_transform(df_ps1['performance'])\n",
        "y=df_ps1['performance']\n",
        "x=df_ps1.drop(\"performance\",axis='columns')\n",
        "X_arr=x.to_numpy()\n",
        "y_arr=y.to_numpy()\n",
        "r = relief.Relief(n_features=1)\n",
        "matrix= r.fit_transform(X_arr,y_arr)"
      ],
      "metadata": {
        "id": "SU4yGPJdi-R7"
      },
      "execution_count": null,
      "outputs": []
    },
    {
      "cell_type": "code",
      "source": [
        "x=r.w_\n",
        "y=['Mean','RMS','STD','Kurtosis','skew']\n",
        "plt.barh(y, x)\n",
        "plt.ylabel(\"feature\")\n",
        "plt.xlabel(\"feature_importance\")\n",
        "plt.show() "
      ],
      "metadata": {
        "colab": {
          "base_uri": "https://localhost:8080/",
          "height": 280
        },
        "id": "cIeVXLfEi-Uu",
        "outputId": "5f65445b-6fa0-4545-b2d3-330cbf48f88a"
      },
      "execution_count": null,
      "outputs": [
        {
          "output_type": "display_data",
          "data": {
            "text/plain": [
              "<Figure size 432x288 with 1 Axes>"
            ],
            "image/png": "[encoded data removed]"
          },
          "metadata": {
            "needs_background": "light"
          }
        }
      ]
    },
    {
      "cell_type": "code",
      "source": [
        "df_ps2['performance'] =target[2]\n",
        "enc=LabelEncoder()\n",
        "df_ps2['performance']=enc.fit_transform(df_ps2['performance'])\n",
        "y=df_ps2['performance']\n",
        "x=df_ps2.drop(\"performance\",axis='columns')\n",
        "X_arr=x.to_numpy()\n",
        "y_arr=y.to_numpy()\n",
        "r = relief.Relief(n_features=1)\n",
        "matrix= r.fit_transform(X_arr,y_arr)\n",
        "print(r.w_)"
      ],
      "metadata": {
        "colab": {
          "base_uri": "https://localhost:8080/"
        },
        "id": "DQfR1FbFi-Xb",
        "outputId": "ace34dd8-75d0-4df1-b328-87e7dbe6ad09"
      },
      "execution_count": null,
      "outputs": [
        {
          "output_type": "stream",
          "name": "stdout",
          "text": [
            "[0.08881817 0.10239964 0.06914432 0.00831014 0.00270303]\n"
          ]
        }
      ]
    },
    {
      "cell_type": "code",
      "source": [
        "x=r.w_\n",
        "y=['Mean','RMS','STD','Kurtosis','skew']\n",
        "plt.barh(y, x)\n",
        "plt.ylabel(\"feature\")\n",
        "plt.xlabel(\"feature_importance\")\n",
        "plt.show() "
      ],
      "metadata": {
        "colab": {
          "base_uri": "https://localhost:8080/",
          "height": 280
        },
        "id": "eo4w85h_i-aF",
        "outputId": "a23d482b-a75b-4f7c-d283-153606812c1e"
      },
      "execution_count": null,
      "outputs": [
        {
          "output_type": "display_data",
          "data": {
            "text/plain": [
              "<Figure size 432x288 with 1 Axes>"
            ],
            "image/png": "[encoded data removed]"
          },
          "metadata": {
            "needs_background": "light"
          }
        }
      ]
    },
    {
      "cell_type": "code",
      "source": [
        "df_ps3['performance'] =target[2]\n",
        "enc=LabelEncoder()\n",
        "df_ps3['performance']=enc.fit_transform(df_ps3['performance'])\n",
        "y=df_ps3['performance']\n",
        "x=df_ps3.drop(\"performance\",axis='columns')\n",
        "X_arr=x.to_numpy()\n",
        "y_arr=y.to_numpy()\n",
        "r = relief.Relief(n_features=1)\n",
        "matrix= r.fit_transform(X_arr,y_arr)\n",
        "print(r.w_)"
      ],
      "metadata": {
        "colab": {
          "base_uri": "https://localhost:8080/"
        },
        "id": "Esh2XCVojezw",
        "outputId": "d8f452e4-7c42-48a1-c41b-eb70f37bd97e"
      },
      "execution_count": null,
      "outputs": [
        {
          "output_type": "stream",
          "name": "stdout",
          "text": [
            "[0.03261471 0.03560583 0.01515652 0.0373841  0.02962127]\n"
          ]
        }
      ]
    },
    {
      "cell_type": "code",
      "source": [
        "x=r.w_\n",
        "y=['Mean','RMS','STD','Kurtosis','skew']\n",
        "plt.barh(y, x)\n",
        "plt.ylabel(\"feature\")\n",
        "plt.xlabel(\"feature_importance\")\n",
        "plt.show() "
      ],
      "metadata": {
        "colab": {
          "base_uri": "https://localhost:8080/",
          "height": 280
        },
        "id": "zxIfC_R6je4-",
        "outputId": "c6694620-98f0-4869-ca61-86dbe95f3090"
      },
      "execution_count": null,
      "outputs": [
        {
          "output_type": "display_data",
          "data": {
            "text/plain": [
              "<Figure size 432x288 with 1 Axes>"
            ],
            "image/png": "[encoded data removed]"
          },
          "metadata": {
            "needs_background": "light"
          }
        }
      ]
    },
    {
      "cell_type": "code",
      "source": [
        "df_ps4['performance'] =target[2]\n",
        "enc=LabelEncoder()\n",
        "df_ps4['performance']=enc.fit_transform(df_ps4['performance'])\n",
        "y=df_ps4['performance']\n",
        "x=df_ps4.drop(\"performance\",axis='columns')\n",
        "X_arr=x.to_numpy()\n",
        "y_arr=y.to_numpy()\n",
        "r = relief.Relief(n_features=1)\n",
        "matrix= r.fit_transform(X_arr,y_arr)\n",
        "print(r.w_)"
      ],
      "metadata": {
        "colab": {
          "base_uri": "https://localhost:8080/"
        },
        "id": "3Wh-t_IRjflJ",
        "outputId": "70be7367-b5a4-4c4e-fdc5-3d4a12c7d28a"
      },
      "execution_count": null,
      "outputs": [
        {
          "output_type": "stream",
          "name": "stdout",
          "text": [
            "[0.06448686 0.0813575  0.09768237 3.81657021 0.17699284]\n"
          ]
        }
      ]
    },
    {
      "cell_type": "code",
      "source": [
        "x=r.w_\n",
        "y=['Mean','RMS','STD','Kurtosis','skew']\n",
        "plt.barh(y, x)\n",
        "plt.ylabel(\"feature\")\n",
        "plt.xlabel(\"feature_importance\")\n",
        "plt.show() "
      ],
      "metadata": {
        "colab": {
          "base_uri": "https://localhost:8080/",
          "height": 280
        },
        "id": "XKxlW0a2jfp6",
        "outputId": "01acfc33-4d61-4dfa-d6c4-0d85d5dc9eec"
      },
      "execution_count": null,
      "outputs": [
        {
          "output_type": "display_data",
          "data": {
            "text/plain": [
              "<Figure size 432x288 with 1 Axes>"
            ],
            "image/png": "[encoded data removed]"
          },
          "metadata": {
            "needs_background": "light"
          }
        }
      ]
    },
    {
      "cell_type": "code",
      "source": [
        "df_ps5['performance'] =target[2]\n",
        "enc=LabelEncoder()\n",
        "df_ps5['performance']=enc.fit_transform(df_ps5['performance'])\n",
        "y=df_ps5['performance']\n",
        "x=df_ps5.drop(\"performance\",axis='columns')\n",
        "X_arr=x.to_numpy()\n",
        "y_arr=y.to_numpy()\n",
        "r = relief.Relief(n_features=1)\n",
        "matrix= r.fit_transform(X_arr,y_arr)\n",
        "print(r.w_)"
      ],
      "metadata": {
        "colab": {
          "base_uri": "https://localhost:8080/"
        },
        "id": "SEQW_eTtjgJ1",
        "outputId": "0767ad09-54b2-4a38-f8fa-bc331d54368e"
      },
      "execution_count": null,
      "outputs": [
        {
          "output_type": "stream",
          "name": "stdout",
          "text": [
            "[0.02065823 0.02065842 0.00037161 0.01349386 0.01158456]\n"
          ]
        }
      ]
    },
    {
      "cell_type": "code",
      "source": [
        "x=r.w_\n",
        "y=['Mean','RMS','STD','Kurtosis','skew']\n",
        "plt.barh(y, x)\n",
        "plt.ylabel(\"feature\")\n",
        "plt.xlabel(\"feature_importance\")\n",
        "plt.show() "
      ],
      "metadata": {
        "colab": {
          "base_uri": "https://localhost:8080/",
          "height": 280
        },
        "id": "pQHkGopHjgOk",
        "outputId": "8c4eda77-61a8-4f07-83af-04a67cf45ce8"
      },
      "execution_count": null,
      "outputs": [
        {
          "output_type": "display_data",
          "data": {
            "text/plain": [
              "<Figure size 432x288 with 1 Axes>"
            ],
            "image/png": "[encoded data removed]"
          },
          "metadata": {
            "needs_background": "light"
          }
        }
      ]
    },
    {
      "cell_type": "code",
      "source": [
        "df_ps6['performance'] =target[2]\n",
        "enc=LabelEncoder()\n",
        "df_ps6['performance']=enc.fit_transform(df_ps6['performance'])\n",
        "y=df_ps6['performance']\n",
        "x=df_ps6.drop(\"performance\",axis='columns')\n",
        "X_arr=x.to_numpy()\n",
        "y_arr=y.to_numpy()\n",
        "r = relief.Relief(n_features=1)\n",
        "matrix= r.fit_transform(X_arr,y_arr)\n",
        "print(r.w_)"
      ],
      "metadata": {
        "colab": {
          "base_uri": "https://localhost:8080/"
        },
        "id": "JGC5sJjMjgvR",
        "outputId": "d4abc067-b788-45d1-e1cc-da226417b7c0"
      },
      "execution_count": null,
      "outputs": [
        {
          "output_type": "stream",
          "name": "stdout",
          "text": [
            "[0.01416176 0.01416206 0.00034413 0.01195622 0.01553159]\n"
          ]
        }
      ]
    },
    {
      "cell_type": "code",
      "source": [
        "x=r.w_\n",
        "y=['Mean','RMS','STD','Kurtosis','skew']\n",
        "plt.barh(y, x)\n",
        "plt.ylabel(\"feature\")\n",
        "plt.xlabel(\"feature_importance\")\n",
        "plt.show() "
      ],
      "metadata": {
        "colab": {
          "base_uri": "https://localhost:8080/",
          "height": 280
        },
        "id": "g3hb3mK8jgzf",
        "outputId": "c1589356-2450-4437-f2c4-8dc7fd9110ba"
      },
      "execution_count": null,
      "outputs": [
        {
          "output_type": "display_data",
          "data": {
            "text/plain": [
              "<Figure size 432x288 with 1 Axes>"
            ],
            "image/png": "[encoded data removed]"
          },
          "metadata": {
            "needs_background": "light"
          }
        }
      ]
    },
    {
      "cell_type": "markdown",
      "source": [
        "#Leakage check with GBDTC"
      ],
      "metadata": {
        "id": "c6E2eHB5j3Wv"
      }
    },
    {
      "cell_type": "code",
      "source": [
        "df_final=pd.DataFrame()\n",
        "df_final['PS1_f']=df_ps1['Mean']\n",
        "df_final['PS2_f']=df_ps2['RMS']\n",
        "df_final['PS3_f']=df_ps3['Kurtosis']\n",
        "df_final['PS4_f']=df_ps4['Kurtosis']\n",
        "df_final['PS5_f']=df_ps5['RMS']\n",
        "df_final['PS6_f']=df_ps6['Skew']\n",
        "df_final['performance']=target[2]"
      ],
      "metadata": {
        "id": "YbHXODWqj7sz"
      },
      "execution_count": null,
      "outputs": []
    },
    {
      "cell_type": "code",
      "source": [
        "enc=LabelEncoder()\n",
        "df_final['performance']=enc.fit_transform(df_final['performance'])"
      ],
      "metadata": {
        "id": "ZMn9t2A6j7vR"
      },
      "execution_count": null,
      "outputs": []
    },
    {
      "cell_type": "code",
      "source": [
        "#performing train test split 80:20\n",
        "y=df_final['performance']\n",
        "del df_final['performance']\n",
        "x=df_final\n",
        "from sklearn.model_selection import train_test_split\n",
        "X_train,X_test,y_train,y_test=train_test_split(x,y,test_size=0.2,random_state=42)"
      ],
      "metadata": {
        "id": "j0cZXEgYj7yD"
      },
      "execution_count": null,
      "outputs": []
    },
    {
      "cell_type": "code",
      "source": [
        "#Checking whether data is balanced or not\n",
        "risk_flag_sum=pd.value_counts(y_train,sort=True)\n",
        "risk_flag_sum.plot(kind='bar',rot=0)\n",
        "plt.title('For contaminators value')\n",
        "\n",
        "plt.xlabel('each category')\n",
        "plt.ylabel('Frequency')\n",
        "#We can observe data is imbalanced from below figure"
      ],
      "metadata": {
        "colab": {
          "base_uri": "https://localhost:8080/",
          "height": 312
        },
        "id": "kWcacWFMj70x",
        "outputId": "2a8b9845-5670-486e-d1d5-29e6b3bb0aed"
      },
      "execution_count": null,
      "outputs": [
        {
          "output_type": "execute_result",
          "data": {
            "text/plain": [
              "Text(0, 0.5, 'Frequency')"
            ]
          },
          "metadata": {},
          "execution_count": 62
        },
        {
          "output_type": "display_data",
          "data": {
            "text/plain": [
              "<Figure size 432x288 with 1 Axes>"
            ],
            "image/png": "[encoded data removed]"
          },
          "metadata": {
            "needs_background": "light"
          }
        }
      ]
    },
    {
      "cell_type": "code",
      "source": [
        "#Now we are using Synthetic Minority OverSampling Technique(SMOTE) on Training data\n",
        "#We use SMOTE to overcome Class Imbalance\n",
        "from collections import Counter\n",
        "from imblearn.combine import SMOTETomek\n",
        "counter=Counter(y_train)\n",
        "print('before',counter)\n",
        "smtom=SMOTETomek()\n",
        "X,Y=smtom.fit_resample(X_train,y_train)\n",
        "counter=Counter(Y)\n",
        "print('after',counter)"
      ],
      "metadata": {
        "colab": {
          "base_uri": "https://localhost:8080/"
        },
        "id": "NcKZiVG1j73b",
        "outputId": "2576e86e-e3eb-4756-e58d-7b45cfb8e599"
      },
      "execution_count": null,
      "outputs": [
        {
          "output_type": "stream",
          "name": "stdout",
          "text": [
            "before Counter({0: 993, 1: 391, 2: 380})\n",
            "after Counter({0: 975, 1: 966, 2: 958})\n"
          ]
        }
      ]
    },
    {
      "cell_type": "code",
      "source": [
        "#We use correlation matrix to observe relations among different features\n",
        "corrmat=df_final.corr()\n",
        "top_corr_features=corrmat.index\n",
        "plt.figure(figsize=(6,6))\n",
        "c=sns.heatmap(df_final[top_corr_features].corr(),annot=True,cmap=\"RdYlGn\")"
      ],
      "metadata": {
        "colab": {
          "base_uri": "https://localhost:8080/",
          "height": 379
        },
        "id": "-ZmjUJ5Fj76H",
        "outputId": "860ae1c3-dcbc-4a61-b20c-f2a0fdfbf61a"
      },
      "execution_count": null,
      "outputs": [
        {
          "output_type": "display_data",
          "data": {
            "text/plain": [
              "<Figure size 432x432 with 2 Axes>"
            ],
            "image/png": "[encoded data removed]"
          },
          "metadata": {
            "needs_background": "light"
          }
        }
      ]
    },
    {
      "cell_type": "code",
      "source": [
        "from sklearn.ensemble import GradientBoostingClassifier\n",
        "classifier=GradientBoostingClassifier()\n",
        "random_grid={'learning_rate':[0.001,0.005,0.01,0.05,0.1,0.15],'n_estimators':[50,100,200,250],'max_features':[1,3,5,7],'min_samples_split':[2,5,10],'min_samples_leaf':[1,2,4],'max_depth':[1,3,5,7,10,30]}"
      ],
      "metadata": {
        "id": "BH3t0L0zj78C"
      },
      "execution_count": null,
      "outputs": []
    },
    {
      "cell_type": "code",
      "source": [
        "from sklearn.model_selection import RandomizedSearchCV\n",
        "classifier_random=RandomizedSearchCV(estimator=classifier,param_distributions=random_grid,n_iter=100,n_jobs=-1,cv=5,verbose=3)\n",
        "classifier_random.fit(X_train,y_train)"
      ],
      "metadata": {
        "colab": {
          "base_uri": "https://localhost:8080/"
        },
        "id": "EbBZz3NbymAl",
        "outputId": "fbda5e33-2b06-4239-a3de-43ed238fde93"
      },
      "execution_count": null,
      "outputs": [
        {
          "output_type": "stream",
          "name": "stdout",
          "text": [
            "Fitting 5 folds for each of 100 candidates, totalling 500 fits\n"
          ]
        },
        {
          "output_type": "stream",
          "name": "stderr",
          "text": [
            "/usr/local/lib/python3.7/dist-packages/sklearn/model_selection/_validation.py:372: FitFailedWarning: \n",
            "110 fits failed out of a total of 500.\n",
            "The score on these train-test partitions for these parameters will be set to nan.\n",
            "If these failures are not expected, you can try to debug them by setting error_score='raise'.\n",
            "\n",
            "Below are more details about the failures:\n",
            "--------------------------------------------------------------------------------\n",
            "110 fits failed with the following error:\n",
            "Traceback (most recent call last):\n",
            "  File \"/usr/local/lib/python3.7/dist-packages/sklearn/model_selection/_validation.py\", line 680, in _fit_and_score\n",
            "    estimator.fit(X_train, y_train, **fit_params)\n",
            "  File \"/usr/local/lib/python3.7/dist-packages/sklearn/ensemble/_gb.py\", line 596, in fit\n",
            "    monitor,\n",
            "  File \"/usr/local/lib/python3.7/dist-packages/sklearn/ensemble/_gb.py\", line 672, in _fit_stages\n",
            "    X_csr,\n",
            "  File \"/usr/local/lib/python3.7/dist-packages/sklearn/ensemble/_gb.py\", line 246, in _fit_stage\n",
            "    tree.fit(X, residual, sample_weight=sample_weight, check_input=False)\n",
            "  File \"/usr/local/lib/python3.7/dist-packages/sklearn/tree/_classes.py\", line 1320, in fit\n",
            "    X_idx_sorted=X_idx_sorted,\n",
            "  File \"/usr/local/lib/python3.7/dist-packages/sklearn/tree/_classes.py\", line 308, in fit\n",
            "    raise ValueError(\"max_features must be in (0, n_features]\")\n",
            "ValueError: max_features must be in (0, n_features]\n",
            "\n",
            "  warnings.warn(some_fits_failed_message, FitFailedWarning)\n",
            "/usr/local/lib/python3.7/dist-packages/sklearn/model_selection/_search.py:972: UserWarning: One or more of the test scores are non-finite: [0.96939383 0.9603158  0.96825908 0.91780357 0.89627221 0.96202356\n",
            " 0.96542139 0.96485482 0.65361834 0.96882726 0.56292493 0.56292493\n",
            " 0.96825908 0.81690703 0.56292493 0.96542461        nan 0.72618304\n",
            "        nan 0.9699604  0.9705302  0.56292493 0.75169328 0.97279488\n",
            " 0.56292493 0.56292493 0.61847959        nan 0.96995879 0.62981104\n",
            " 0.90192989        nan        nan        nan 0.56292493 0.97392802\n",
            " 0.96882726 0.56292493        nan        nan        nan 0.96428985\n",
            "        nan 0.90759239 0.94728625 0.9563514         nan 0.70974601\n",
            " 0.56292493 0.78685778        nan 0.96882404 0.6615423  0.9699604\n",
            " 0.96712915 0.96542783 0.72561808 0.63094579 0.9416157  0.97222669\n",
            " 0.81067313        nan 0.7562339  0.56292493        nan        nan\n",
            "        nan        nan        nan 0.56292493 0.89342969 0.96089042\n",
            "        nan 0.9523854         nan 0.65532932 0.96656097 0.95012233\n",
            " 0.96485804        nan 0.96655936 0.96712432 0.96939544 0.96485804\n",
            " 0.96542461 0.96599601 0.96089364 0.71088076 0.96258853 0.56292493\n",
            " 0.96826069        nan 0.56292493 0.56292493 0.96939544 0.96315832\n",
            " 0.6462529  0.56292493 0.965423   0.56292493]\n",
            "  category=UserWarning,\n"
          ]
        },
        {
          "output_type": "execute_result",
          "data": {
            "text/plain": [
              "RandomizedSearchCV(cv=5, estimator=GradientBoostingClassifier(), n_iter=100,\n",
              "                   n_jobs=-1,\n",
              "                   param_distributions={'learning_rate': [0.001, 0.005, 0.01,\n",
              "                                                          0.05, 0.1, 0.15],\n",
              "                                        'max_depth': [1, 3, 5, 7, 10, 30],\n",
              "                                        'max_features': [1, 3, 5, 7],\n",
              "                                        'min_samples_leaf': [1, 2, 4],\n",
              "                                        'min_samples_split': [2, 5, 10],\n",
              "                                        'n_estimators': [50, 100, 200, 250]},\n",
              "                   verbose=3)"
            ]
          },
          "metadata": {},
          "execution_count": 66
        }
      ]
    },
    {
      "cell_type": "code",
      "source": [
        "classifier_random.best_estimator_"
      ],
      "metadata": {
        "colab": {
          "base_uri": "https://localhost:8080/"
        },
        "id": "74n3RBl8-hqq",
        "outputId": "6818382f-32b2-4fc7-9dc0-0cbe220334e1"
      },
      "execution_count": null,
      "outputs": [
        {
          "output_type": "execute_result",
          "data": {
            "text/plain": [
              "GradientBoostingClassifier(max_depth=10, max_features=3, min_samples_split=10)"
            ]
          },
          "metadata": {},
          "execution_count": 67
        }
      ]
    },
    {
      "cell_type": "code",
      "source": [
        "classifier=GradientBoostingClassifier(max_depth=10, max_features=3, min_samples_split=10)\n",
        "classifier.fit(X_train,y_train)"
      ],
      "metadata": {
        "colab": {
          "base_uri": "https://localhost:8080/"
        },
        "id": "i-Ly_ndlkfAs",
        "outputId": "fa2b59e5-15d3-4c51-a148-126c1b7a82c6"
      },
      "execution_count": null,
      "outputs": [
        {
          "output_type": "execute_result",
          "data": {
            "text/plain": [
              "GradientBoostingClassifier(max_depth=10, max_features=3, min_samples_split=10)"
            ]
          },
          "metadata": {},
          "execution_count": 68
        }
      ]
    },
    {
      "cell_type": "code",
      "source": [
        "y_testpred=classifier.predict(X_test)\n",
        "df_testpred=y_testpred\n",
        "df_testpred=df_testpred.reshape(-1,1)\n",
        "accuracy_score(y_test, y_testpred)"
      ],
      "metadata": {
        "colab": {
          "base_uri": "https://localhost:8080/"
        },
        "id": "W2RYNaEGkfDb",
        "outputId": "f399a54c-2d6a-4d85-df2b-55234f0f02e8"
      },
      "execution_count": null,
      "outputs": [
        {
          "output_type": "execute_result",
          "data": {
            "text/plain": [
              "0.9841269841269841"
            ]
          },
          "metadata": {},
          "execution_count": 69
        }
      ]
    },
    {
      "cell_type": "markdown",
      "source": [
        "#Important features for accumulator pressure"
      ],
      "metadata": {
        "id": "HkD3ef84kpjp"
      }
    },
    {
      "cell_type": "code",
      "source": [
        "df_ps1['performance'] =target[3]\n",
        "enc=LabelEncoder()\n",
        "df_ps1['performance']=enc.fit_transform(df_ps1['performance'])\n",
        "y=df_ps1['performance']\n",
        "x=df_ps1.drop(\"performance\",axis='columns')\n",
        "X_arr=x.to_numpy()\n",
        "y_arr=y.to_numpy()\n",
        "r = relief.Relief(n_features=1)\n",
        "matrix= r.fit_transform(X_arr,y_arr)"
      ],
      "metadata": {
        "id": "o-7m_sERkfGK"
      },
      "execution_count": null,
      "outputs": []
    },
    {
      "cell_type": "code",
      "source": [
        "x=r.w_\n",
        "y=['Mean','RMS','STD','Kurtosis','skew']\n",
        "plt.barh(y, x)\n",
        "plt.ylabel(\"feature\")\n",
        "plt.xlabel(\"feature_importance\")\n",
        "plt.show() "
      ],
      "metadata": {
        "colab": {
          "base_uri": "https://localhost:8080/",
          "height": 280
        },
        "id": "EZ4L3Ig0kfNs",
        "outputId": "f8355986-5e35-46aa-8de6-0f096d17c8c7"
      },
      "execution_count": null,
      "outputs": [
        {
          "output_type": "display_data",
          "data": {
            "text/plain": [
              "<Figure size 432x288 with 1 Axes>"
            ],
            "image/png": "[encoded data removed]"
          },
          "metadata": {
            "needs_background": "light"
          }
        }
      ]
    },
    {
      "cell_type": "code",
      "source": [
        "df_ps2['performance'] =target[3]\n",
        "enc=LabelEncoder()\n",
        "df_ps2['performance']=enc.fit_transform(df_ps2['performance'])\n",
        "y=df_ps2['performance']\n",
        "x=df_ps2.drop(\"performance\",axis='columns')\n",
        "X_arr=x.to_numpy()\n",
        "y_arr=y.to_numpy()\n",
        "r = relief.Relief(n_features=1)\n",
        "matrix= r.fit_transform(X_arr,y_arr)\n",
        "print(r.w_)"
      ],
      "metadata": {
        "colab": {
          "base_uri": "https://localhost:8080/"
        },
        "id": "xsqznEbwkfQT",
        "outputId": "78910b16-cc15-4134-98d8-2942c3ad0d90"
      },
      "execution_count": null,
      "outputs": [
        {
          "output_type": "stream",
          "name": "stdout",
          "text": [
            "[0.01965751 0.01966567 0.01534229 0.0023469  0.00099496]\n"
          ]
        }
      ]
    },
    {
      "cell_type": "code",
      "source": [
        "x=r.w_\n",
        "y=['Mean','RMS','STD','Kurtosis','skew']\n",
        "plt.barh(y, x)\n",
        "plt.ylabel(\"feature\")\n",
        "plt.xlabel(\"feature_importance\")\n",
        "plt.show() "
      ],
      "metadata": {
        "colab": {
          "base_uri": "https://localhost:8080/",
          "height": 280
        },
        "id": "YxTMUqARkfS8",
        "outputId": "565e0a51-6ddf-4cf3-d886-109b72aca820"
      },
      "execution_count": null,
      "outputs": [
        {
          "output_type": "display_data",
          "data": {
            "text/plain": [
              "<Figure size 432x288 with 1 Axes>"
            ],
            "image/png": "[encoded data removed]"
          },
          "metadata": {
            "needs_background": "light"
          }
        }
      ]
    },
    {
      "cell_type": "code",
      "source": [
        "df_ps3['performance'] =target[3]\n",
        "enc=LabelEncoder()\n",
        "df_ps3['performance']=enc.fit_transform(df_ps3['performance'])\n",
        "y=df_ps3['performance']\n",
        "x=df_ps3.drop(\"performance\",axis='columns')\n",
        "X_arr=x.to_numpy()\n",
        "y_arr=y.to_numpy()\n",
        "r = relief.Relief(n_features=1)\n",
        "matrix= r.fit_transform(X_arr,y_arr)\n",
        "print(r.w_)"
      ],
      "metadata": {
        "colab": {
          "base_uri": "https://localhost:8080/"
        },
        "id": "HxrVPAYokfVf",
        "outputId": "a2a33c0f-e236-428c-a2a5-f2305659e91a"
      },
      "execution_count": null,
      "outputs": [
        {
          "output_type": "stream",
          "name": "stdout",
          "text": [
            "[0.02434329 0.02598987 0.01239209 0.11675318 0.04751621]\n"
          ]
        }
      ]
    },
    {
      "cell_type": "code",
      "source": [
        "x=r.w_\n",
        "y=['Mean','RMS','STD','Kurtosis','skew']\n",
        "plt.barh(y, x)\n",
        "plt.ylabel(\"feature\")\n",
        "plt.xlabel(\"feature_importance\")\n",
        "plt.show() "
      ],
      "metadata": {
        "colab": {
          "base_uri": "https://localhost:8080/",
          "height": 280
        },
        "id": "KqI3TsJRkfYD",
        "outputId": "4e0387c1-9059-4a77-aa27-8b6bdb2b4529"
      },
      "execution_count": null,
      "outputs": [
        {
          "output_type": "display_data",
          "data": {
            "text/plain": [
              "<Figure size 432x288 with 1 Axes>"
            ],
            "image/png": "[encoded data removed]"
          },
          "metadata": {
            "needs_background": "light"
          }
        }
      ]
    },
    {
      "cell_type": "code",
      "source": [
        "df_ps4['performance'] =target[3]\n",
        "enc=LabelEncoder()\n",
        "df_ps4['performance']=enc.fit_transform(df_ps4['performance'])\n",
        "y=df_ps4['performance']\n",
        "x=df_ps4.drop(\"performance\",axis='columns')\n",
        "X_arr=x.to_numpy()\n",
        "y_arr=y.to_numpy()\n",
        "r = relief.Relief(n_features=1)\n",
        "matrix= r.fit_transform(X_arr,y_arr)\n",
        "print(r.w_)"
      ],
      "metadata": {
        "colab": {
          "base_uri": "https://localhost:8080/"
        },
        "id": "pRW4Vdizk93B",
        "outputId": "f67f5c44-9c69-4eb8-9dfe-aee5e12a8b83"
      },
      "execution_count": null,
      "outputs": [
        {
          "output_type": "stream",
          "name": "stdout",
          "text": [
            "[0.12692601 0.1313068  0.05177281 2.82168339 0.22809626]\n"
          ]
        }
      ]
    },
    {
      "cell_type": "code",
      "source": [
        "x=r.w_\n",
        "y=['Mean','RMS','STD','Kurtosis','skew']\n",
        "plt.barh(y, x)\n",
        "plt.ylabel(\"feature\")\n",
        "plt.xlabel(\"feature_importance\")\n",
        "plt.show() "
      ],
      "metadata": {
        "colab": {
          "base_uri": "https://localhost:8080/",
          "height": 280
        },
        "id": "fSHamjKbk95e",
        "outputId": "7d781689-d2ba-4487-819f-e43a35ebeb37"
      },
      "execution_count": null,
      "outputs": [
        {
          "output_type": "display_data",
          "data": {
            "text/plain": [
              "<Figure size 432x288 with 1 Axes>"
            ],
            "image/png": "[encoded data removed]"
          },
          "metadata": {
            "needs_background": "light"
          }
        }
      ]
    },
    {
      "cell_type": "code",
      "source": [
        "df_ps5['performance'] =target[3]\n",
        "enc=LabelEncoder()\n",
        "df_ps5['performance']=enc.fit_transform(df_ps5['performance'])\n",
        "y=df_ps5['performance']\n",
        "x=df_ps5.drop(\"performance\",axis='columns')\n",
        "X_arr=x.to_numpy()\n",
        "y_arr=y.to_numpy()\n",
        "r = relief.Relief(n_features=1)\n",
        "matrix= r.fit_transform(X_arr,y_arr)\n",
        "print(r.w_)"
      ],
      "metadata": {
        "colab": {
          "base_uri": "https://localhost:8080/"
        },
        "id": "hAi0xZLQk-a_",
        "outputId": "5d9a02a1-d03f-4d5e-a5ea-487883591888"
      },
      "execution_count": null,
      "outputs": [
        {
          "output_type": "stream",
          "name": "stdout",
          "text": [
            "[0.01184063 0.01184081 0.00058052 0.01901923 0.01639008]\n"
          ]
        }
      ]
    },
    {
      "cell_type": "code",
      "source": [
        "x=r.w_\n",
        "y=['Mean','RMS','STD','Kurtosis','skew']\n",
        "plt.barh(y, x)\n",
        "plt.ylabel(\"feature\")\n",
        "plt.xlabel(\"feature_importance\")\n",
        "plt.show() "
      ],
      "metadata": {
        "colab": {
          "base_uri": "https://localhost:8080/",
          "height": 280
        },
        "id": "7Y-8WWbEk-do",
        "outputId": "3989df30-f9e0-4acf-fae1-9444463473c3"
      },
      "execution_count": null,
      "outputs": [
        {
          "output_type": "display_data",
          "data": {
            "text/plain": [
              "<Figure size 432x288 with 1 Axes>"
            ],
            "image/png": "[encoded data removed]"
          },
          "metadata": {
            "needs_background": "light"
          }
        }
      ]
    },
    {
      "cell_type": "code",
      "source": [
        "df_ps6['performance'] =target[3]\n",
        "enc=LabelEncoder()\n",
        "df_ps6['performance']=enc.fit_transform(df_ps6['performance'])\n",
        "y=df_ps6['performance']\n",
        "x=df_ps6.drop(\"performance\",axis='columns')\n",
        "X_arr=x.to_numpy()\n",
        "y_arr=y.to_numpy()\n",
        "r = relief.Relief(n_features=1)\n",
        "matrix= r.fit_transform(X_arr,y_arr)\n",
        "print(r.w_)"
      ],
      "metadata": {
        "colab": {
          "base_uri": "https://localhost:8080/"
        },
        "id": "m2M0JYEYk-2U",
        "outputId": "52e7f933-6d30-4d13-f72a-b02943add849"
      },
      "execution_count": null,
      "outputs": [
        {
          "output_type": "stream",
          "name": "stdout",
          "text": [
            "[0.00791908 0.00791906 0.00047576 0.01461624 0.01551099]\n"
          ]
        }
      ]
    },
    {
      "cell_type": "code",
      "source": [
        "x=r.w_\n",
        "y=['Mean','RMS','STD','Kurtosis','skew']\n",
        "plt.barh(y, x)\n",
        "plt.ylabel(\"feature\")\n",
        "plt.xlabel(\"feature_importance\")\n",
        "plt.show() "
      ],
      "metadata": {
        "colab": {
          "base_uri": "https://localhost:8080/",
          "height": 280
        },
        "id": "jm-kQyKgk-4z",
        "outputId": "c512d4e4-a5bd-41e4-d0d3-236af5ca5e68"
      },
      "execution_count": null,
      "outputs": [
        {
          "output_type": "display_data",
          "data": {
            "text/plain": [
              "<Figure size 432x288 with 1 Axes>"
            ],
            "image/png": "[encoded data removed]"
          },
          "metadata": {
            "needs_background": "light"
          }
        }
      ]
    },
    {
      "cell_type": "markdown",
      "source": [
        "#accumulator pressure check with GBDTC"
      ],
      "metadata": {
        "id": "2S-IiDfElcjA"
      }
    },
    {
      "cell_type": "code",
      "source": [
        "df_final=pd.DataFrame()\n",
        "df_final['PS1_f']=df_ps1['STD']\n",
        "df_final['PS2_f']=df_ps2['RMS']\n",
        "df_final['PS3_f']=df_ps3['Kurtosis']\n",
        "df_final['PS4_f']=df_ps4['Kurtosis']\n",
        "df_final['PS5_f']=df_ps5['Kurtosis']\n",
        "df_final['PS6_f']=df_ps6['Skew']\n",
        "df_final['performance']=target[3]"
      ],
      "metadata": {
        "id": "3jZ70iD2lanO"
      },
      "execution_count": null,
      "outputs": []
    },
    {
      "cell_type": "code",
      "source": [
        "enc=LabelEncoder()\n",
        "df_final['performance']=enc.fit_transform(df_final['performance'])"
      ],
      "metadata": {
        "id": "nQGx50IUlap8"
      },
      "execution_count": null,
      "outputs": []
    },
    {
      "cell_type": "code",
      "source": [
        "#performing train test split 80:20\n",
        "y=df_final['performance']\n",
        "del df_final['performance']\n",
        "x=df_final\n",
        "from sklearn.model_selection import train_test_split\n",
        "X_train,X_test,y_train,y_test=train_test_split(x,y,test_size=0.2,random_state=42)"
      ],
      "metadata": {
        "id": "cPxpBiVUlasu"
      },
      "execution_count": null,
      "outputs": []
    },
    {
      "cell_type": "code",
      "source": [
        "#Checking whether data is balanced or not\n",
        "risk_flag_sum=pd.value_counts(y_train,sort=True)\n",
        "risk_flag_sum.plot(kind='bar',rot=0)\n",
        "plt.title('For contaminators value')\n",
        "\n",
        "plt.xlabel('each category')\n",
        "plt.ylabel('Frequency')\n",
        "#We can observe data is imbalanced from below figure"
      ],
      "metadata": {
        "colab": {
          "base_uri": "https://localhost:8080/",
          "height": 312
        },
        "id": "x4QOoUv5lavF",
        "outputId": "5ce64798-5961-489f-bcbb-2f4f2aed1fe1"
      },
      "execution_count": null,
      "outputs": [
        {
          "output_type": "execute_result",
          "data": {
            "text/plain": [
              "Text(0, 0.5, 'Frequency')"
            ]
          },
          "metadata": {},
          "execution_count": 85
        },
        {
          "output_type": "display_data",
          "data": {
            "text/plain": [
              "<Figure size 432x288 with 1 Axes>"
            ],
            "image/png": "[encoded data removed]"
          },
          "metadata": {
            "needs_background": "light"
          }
        }
      ]
    },
    {
      "cell_type": "code",
      "source": [
        "#Now we are using Synthetic Minority OverSampling Technique(SMOTE) on Training data\n",
        "#We use SMOTE to overcome Class Imbalance\n",
        "from collections import Counter\n",
        "from imblearn.combine import SMOTETomek\n",
        "counter=Counter(y_train)\n",
        "print('before',counter)\n",
        "smtom=SMOTETomek()\n",
        "X,Y=smtom.fit_resample(X_train,y_train)\n",
        "counter=Counter(Y)\n",
        "print('after',counter)"
      ],
      "metadata": {
        "colab": {
          "base_uri": "https://localhost:8080/"
        },
        "id": "fxVycKJIlaxg",
        "outputId": "acc3de59-893f-4202-95bb-ecf2e72da713"
      },
      "execution_count": null,
      "outputs": [
        {
          "output_type": "stream",
          "name": "stdout",
          "text": [
            "before Counter({0: 656, 3: 476, 1: 324, 2: 308})\n",
            "after Counter({3: 633, 2: 604, 1: 603, 0: 602})\n"
          ]
        }
      ]
    },
    {
      "cell_type": "code",
      "source": [
        "#We use correlation matrix to observe relations among different features\n",
        "corrmat=df_final.corr()\n",
        "top_corr_features=corrmat.index\n",
        "plt.figure(figsize=(6,6))\n",
        "c=sns.heatmap(df_final[top_corr_features].corr(),annot=True,cmap=\"RdYlGn\")"
      ],
      "metadata": {
        "colab": {
          "base_uri": "https://localhost:8080/",
          "height": 379
        },
        "id": "SYL_ZmAzlaz8",
        "outputId": "ea049f51-a632-4264-a8a2-fa8eb869345f"
      },
      "execution_count": null,
      "outputs": [
        {
          "output_type": "display_data",
          "data": {
            "text/plain": [
              "<Figure size 432x432 with 2 Axes>"
            ],
            "image/png": "[encoded data removed]"
          },
          "metadata": {
            "needs_background": "light"
          }
        }
      ]
    },
    {
      "cell_type": "code",
      "source": [
        "from sklearn.ensemble import GradientBoostingClassifier\n",
        "classifier=GradientBoostingClassifier()\n",
        "random_grid={'learning_rate':[0.001,0.005,0.01,0.05,0.1,0.15],'n_estimators':[50,100,200,250],'max_features':[1,3,5,7],'min_samples_split':[2,5,10],'min_samples_leaf':[1,2,4],'max_depth':[1,3,5,7,10,30]}"
      ],
      "metadata": {
        "id": "VU8alx3ala2d"
      },
      "execution_count": null,
      "outputs": []
    },
    {
      "cell_type": "code",
      "source": [
        "from sklearn.model_selection import RandomizedSearchCV\n",
        "classifier_random=RandomizedSearchCV(estimator=classifier,param_distributions=random_grid,n_iter=100,n_jobs=-1,cv=5,verbose=3)\n",
        "classifier_random.fit(X_train,y_train)"
      ],
      "metadata": {
        "colab": {
          "base_uri": "https://localhost:8080/"
        },
        "id": "dW8TWbD1_e9e",
        "outputId": "a81cafb2-d8b2-4fca-8c37-cd6d7bc32a60"
      },
      "execution_count": null,
      "outputs": [
        {
          "output_type": "stream",
          "name": "stdout",
          "text": [
            "Fitting 5 folds for each of 100 candidates, totalling 500 fits\n"
          ]
        },
        {
          "output_type": "stream",
          "name": "stderr",
          "text": [
            "/usr/local/lib/python3.7/dist-packages/sklearn/model_selection/_validation.py:372: FitFailedWarning: \n",
            "130 fits failed out of a total of 500.\n",
            "The score on these train-test partitions for these parameters will be set to nan.\n",
            "If these failures are not expected, you can try to debug them by setting error_score='raise'.\n",
            "\n",
            "Below are more details about the failures:\n",
            "--------------------------------------------------------------------------------\n",
            "130 fits failed with the following error:\n",
            "Traceback (most recent call last):\n",
            "  File \"/usr/local/lib/python3.7/dist-packages/sklearn/model_selection/_validation.py\", line 680, in _fit_and_score\n",
            "    estimator.fit(X_train, y_train, **fit_params)\n",
            "  File \"/usr/local/lib/python3.7/dist-packages/sklearn/ensemble/_gb.py\", line 596, in fit\n",
            "    monitor,\n",
            "  File \"/usr/local/lib/python3.7/dist-packages/sklearn/ensemble/_gb.py\", line 672, in _fit_stages\n",
            "    X_csr,\n",
            "  File \"/usr/local/lib/python3.7/dist-packages/sklearn/ensemble/_gb.py\", line 246, in _fit_stage\n",
            "    tree.fit(X, residual, sample_weight=sample_weight, check_input=False)\n",
            "  File \"/usr/local/lib/python3.7/dist-packages/sklearn/tree/_classes.py\", line 1320, in fit\n",
            "    X_idx_sorted=X_idx_sorted,\n",
            "  File \"/usr/local/lib/python3.7/dist-packages/sklearn/tree/_classes.py\", line 308, in fit\n",
            "    raise ValueError(\"max_features must be in (0, n_features]\")\n",
            "ValueError: max_features must be in (0, n_features]\n",
            "\n",
            "  warnings.warn(some_fits_failed_message, FitFailedWarning)\n",
            "/usr/local/lib/python3.7/dist-packages/sklearn/model_selection/_search.py:972: UserWarning: One or more of the test scores are non-finite: [       nan 0.79534348        nan 0.59125354        nan 0.80612123\n",
            " 0.46371845 0.75962368 0.63150753 0.79760977        nan 0.78116952\n",
            " 0.60316283        nan        nan 0.78004442 0.41043008 0.81009529\n",
            " 0.58275335        nan 0.76926346        nan 0.77549575 0.37188224\n",
            " 0.37188224 0.79364377 0.80554983 0.37188224 0.80724955 0.77777331\n",
            "        nan 0.69329127 0.5175734  0.82256149        nan        nan\n",
            " 0.79364538 0.58843034 0.37188224 0.81008885 0.65191862 0.52721317\n",
            " 0.79817956 0.49036344        nan 0.80159348 0.80554822 0.63490858\n",
            " 0.79250901 0.52322785 0.77550702        nan 0.6592905         nan\n",
            " 0.78967454        nan 0.78627511 0.81745912 0.37188224 0.65531483\n",
            " 0.78002994 0.70974279 0.78854945 0.50680048        nan 0.78400077\n",
            " 0.74886042 0.77550702 0.76700039        nan 0.74376127 0.52833505\n",
            " 0.79760173 0.80724955 0.49999839 0.79024433        nan 0.7533946\n",
            "        nan 0.72845577 0.64624646 0.79647502 0.59238508 0.81292815\n",
            "        nan        nan 0.73864441 0.49943182 0.76246942 0.79817796\n",
            "        nan 0.79478013 0.80611801        nan 0.53287246        nan\n",
            " 0.37188224        nan        nan 0.80668781]\n",
            "  category=UserWarning,\n"
          ]
        },
        {
          "output_type": "execute_result",
          "data": {
            "text/plain": [
              "RandomizedSearchCV(cv=5, estimator=GradientBoostingClassifier(), n_iter=100,\n",
              "                   n_jobs=-1,\n",
              "                   param_distributions={'learning_rate': [0.001, 0.005, 0.01,\n",
              "                                                          0.05, 0.1, 0.15],\n",
              "                                        'max_depth': [1, 3, 5, 7, 10, 30],\n",
              "                                        'max_features': [1, 3, 5, 7],\n",
              "                                        'min_samples_leaf': [1, 2, 4],\n",
              "                                        'min_samples_split': [2, 5, 10],\n",
              "                                        'n_estimators': [50, 100, 200, 250]},\n",
              "                   verbose=3)"
            ]
          },
          "metadata": {},
          "execution_count": 89
        }
      ]
    },
    {
      "cell_type": "code",
      "source": [
        "classifier_random.best_estimator_"
      ],
      "metadata": {
        "colab": {
          "base_uri": "https://localhost:8080/"
        },
        "id": "U8gO90ud_fAf",
        "outputId": "de8c2da6-0446-43eb-f36a-7b58ebfe8087"
      },
      "execution_count": null,
      "outputs": [
        {
          "output_type": "execute_result",
          "data": {
            "text/plain": [
              "GradientBoostingClassifier(learning_rate=0.05, max_depth=30, max_features=5,\n",
              "                           min_samples_leaf=4, min_samples_split=10,\n",
              "                           n_estimators=250)"
            ]
          },
          "metadata": {},
          "execution_count": 90
        }
      ]
    },
    {
      "cell_type": "code",
      "source": [
        "classifier=GradientBoostingClassifier(learning_rate=0.05, max_depth=30, max_features=5,\n",
        "                           min_samples_leaf=4, min_samples_split=10,\n",
        "                           n_estimators=250)\n",
        "classifier.fit(X_train,y_train)"
      ],
      "metadata": {
        "colab": {
          "base_uri": "https://localhost:8080/"
        },
        "id": "6LnEZevYla48",
        "outputId": "35b31590-7f62-4502-95e8-680f8f815efe"
      },
      "execution_count": null,
      "outputs": [
        {
          "output_type": "execute_result",
          "data": {
            "text/plain": [
              "GradientBoostingClassifier(learning_rate=0.05, max_depth=30, max_features=5,\n",
              "                           min_samples_leaf=4, min_samples_split=10,\n",
              "                           n_estimators=250)"
            ]
          },
          "metadata": {},
          "execution_count": 91
        }
      ]
    },
    {
      "cell_type": "code",
      "source": [
        "y_testpred=classifier.predict(X_test)\n",
        "df_testpred=y_testpred\n",
        "df_testpred=df_testpred.reshape(-1,1)\n",
        "accuracy_score(y_test, y_testpred)"
      ],
      "metadata": {
        "colab": {
          "base_uri": "https://localhost:8080/"
        },
        "id": "dHqSoNtCl_q-",
        "outputId": "d5922a73-5f78-4f5e-8fa6-a77121dfa763"
      },
      "execution_count": null,
      "outputs": [
        {
          "output_type": "stream",
          "name": "stdout",
          "text": [
            "0.9480725623582767\n"
          ]
        }
      ]
    },
    {
      "cell_type": "markdown",
      "source": [
        "#Important features to check stable condition"
      ],
      "metadata": {
        "id": "cUGb9MbWmCOQ"
      }
    },
    {
      "cell_type": "code",
      "source": [
        "df_ps1['performance'] =target[4]\n",
        "from sklearn.preprocessing import LabelEncoder\n",
        "enc=LabelEncoder()\n",
        "df_ps1['performance']=enc.fit_transform(df_ps1['performance'])\n",
        "y=df_ps1['performance']\n",
        "x=df_ps1.drop(\"performance\",axis='columns')\n",
        "X_arr=x.to_numpy()\n",
        "y_arr=y.to_numpy()\n",
        "r = relief.Relief(n_features=1)\n",
        "matrix= r.fit_transform(X_arr,y_arr)"
      ],
      "metadata": {
        "id": "ZFP1vcBAmKqi"
      },
      "execution_count": null,
      "outputs": []
    },
    {
      "cell_type": "code",
      "source": [
        "x=r.w_\n",
        "y=['Mean','RMS','STD','Kurtosis','skew']\n",
        "plt.barh(y, x)\n",
        "plt.ylabel(\"feature\")\n",
        "plt.xlabel(\"feature_importance\")\n",
        "plt.show() "
      ],
      "metadata": {
        "colab": {
          "base_uri": "https://localhost:8080/",
          "height": 280
        },
        "id": "CQgKogcvmKtT",
        "outputId": "3596fda9-e5c6-409e-c40a-d13361330cc5"
      },
      "execution_count": null,
      "outputs": [
        {
          "output_type": "display_data",
          "data": {
            "text/plain": [
              "<Figure size 432x288 with 1 Axes>"
            ],
            "image/png": "[encoded data removed]"
          },
          "metadata": {
            "needs_background": "light"
          }
        }
      ]
    },
    {
      "cell_type": "code",
      "source": [
        "df_ps2['performance'] =target[4]\n",
        "enc=LabelEncoder()\n",
        "df_ps2['performance']=enc.fit_transform(df_ps2['performance'])\n",
        "y=df_ps2['performance']\n",
        "x=df_ps2.drop(\"performance\",axis='columns')\n",
        "X_arr=x.to_numpy()\n",
        "y_arr=y.to_numpy()\n",
        "r = relief.Relief(n_features=1)\n",
        "matrix= r.fit_transform(X_arr,y_arr)\n",
        "print(r.w_)"
      ],
      "metadata": {
        "colab": {
          "base_uri": "https://localhost:8080/"
        },
        "id": "G8c0O2ZEmKvx",
        "outputId": "ad6d75c7-8b09-4ff7-ea4f-884253fdb0d6"
      },
      "execution_count": null,
      "outputs": [
        {
          "output_type": "stream",
          "name": "stdout",
          "text": [
            "[0.34046082 0.27693068 0.33844121 0.06176021 0.01782687]\n"
          ]
        }
      ]
    },
    {
      "cell_type": "code",
      "source": [
        "x=r.w_\n",
        "y=['Mean','RMS','STD','Kurtosis','skew']\n",
        "plt.barh(y, x)\n",
        "plt.ylabel(\"feature\")\n",
        "plt.xlabel(\"feature_importance\")\n",
        "plt.show() "
      ],
      "metadata": {
        "colab": {
          "base_uri": "https://localhost:8080/",
          "height": 280
        },
        "id": "_6n9UXCFmKyi",
        "outputId": "57452f5e-c572-48aa-ec15-c61b55e19dc4"
      },
      "execution_count": null,
      "outputs": [
        {
          "output_type": "display_data",
          "data": {
            "text/plain": [
              "<Figure size 432x288 with 1 Axes>"
            ],
            "image/png": "[encoded data removed]"
          },
          "metadata": {
            "needs_background": "light"
          }
        }
      ]
    },
    {
      "cell_type": "code",
      "source": [
        "df_ps3['performance'] =target[4]\n",
        "enc=LabelEncoder()\n",
        "df_ps3['performance']=enc.fit_transform(df_ps3['performance'])\n",
        "y=df_ps3['performance']\n",
        "x=df_ps3.drop(\"performance\",axis='columns')\n",
        "X_arr=x.to_numpy()\n",
        "y_arr=y.to_numpy()\n",
        "r = relief.Relief(n_features=1)\n",
        "matrix= r.fit_transform(X_arr,y_arr)\n",
        "print(r.w_)"
      ],
      "metadata": {
        "colab": {
          "base_uri": "https://localhost:8080/"
        },
        "id": "4AQc25MpmK00",
        "outputId": "5dc34d33-ba19-4431-e88a-e4e1c647ec4a"
      },
      "execution_count": null,
      "outputs": [
        {
          "output_type": "stream",
          "name": "stdout",
          "text": [
            "[0.03050947 0.03216371 0.013375   0.14989258 0.06715563]\n"
          ]
        }
      ]
    },
    {
      "cell_type": "code",
      "source": [
        "x=r.w_\n",
        "y=['Mean','RMS','STD','Kurtosis','skew']\n",
        "plt.barh(y, x)\n",
        "plt.ylabel(\"feature\")\n",
        "plt.xlabel(\"feature_importance\")\n",
        "plt.show() "
      ],
      "metadata": {
        "colab": {
          "base_uri": "https://localhost:8080/",
          "height": 280
        },
        "id": "Nb3xhZeumLS7",
        "outputId": "a4f5018f-fbf6-4b65-b110-2ed322f16db8"
      },
      "execution_count": null,
      "outputs": [
        {
          "output_type": "display_data",
          "data": {
            "text/plain": [
              "<Figure size 432x288 with 1 Axes>"
            ],
            "image/png": "[encoded data removed]"
          },
          "metadata": {
            "needs_background": "light"
          }
        }
      ]
    },
    {
      "cell_type": "code",
      "source": [
        "df_ps4['performance'] =target[4]\n",
        "enc=LabelEncoder()\n",
        "df_ps4['performance']=enc.fit_transform(df_ps4['performance'])\n",
        "y=df_ps4['performance']\n",
        "x=df_ps4.drop(\"performance\",axis='columns')\n",
        "X_arr=x.to_numpy()\n",
        "y_arr=y.to_numpy()\n",
        "r = relief.Relief(n_features=1)\n",
        "matrix= r.fit_transform(X_arr,y_arr)\n",
        "print(r.w_)"
      ],
      "metadata": {
        "colab": {
          "base_uri": "https://localhost:8080/"
        },
        "id": "yr4WRM0VmLVb",
        "outputId": "1af61d44-d547-43c7-e17a-c8b4152ffc9c"
      },
      "execution_count": null,
      "outputs": [
        {
          "output_type": "stream",
          "name": "stdout",
          "text": [
            "[0.02946528 0.02824991 0.01112255 0.12989378 0.06636573]\n"
          ]
        }
      ]
    },
    {
      "cell_type": "code",
      "source": [
        "x=r.w_\n",
        "y=['Mean','RMS','STD','Kurtosis','skew']\n",
        "plt.barh(y, x)\n",
        "plt.ylabel(\"feature\")\n",
        "plt.xlabel(\"feature_importance\")\n",
        "plt.show() "
      ],
      "metadata": {
        "colab": {
          "base_uri": "https://localhost:8080/",
          "height": 280
        },
        "id": "W2J2WnF9mLYN",
        "outputId": "809d9daf-ff03-4fb6-bd9e-20d3fd887436"
      },
      "execution_count": null,
      "outputs": [
        {
          "output_type": "display_data",
          "data": {
            "text/plain": [
              "<Figure size 432x288 with 1 Axes>"
            ],
            "image/png": "[encoded data removed]"
          },
          "metadata": {
            "needs_background": "light"
          }
        }
      ]
    },
    {
      "cell_type": "code",
      "source": [
        "df_ps5['performance'] =target[4]\n",
        "enc=LabelEncoder()\n",
        "df_ps5['performance']=enc.fit_transform(df_ps5['performance'])\n",
        "y=df_ps5['performance']\n",
        "x=df_ps5.drop(\"performance\",axis='columns')\n",
        "X_arr=x.to_numpy()\n",
        "y_arr=y.to_numpy()\n",
        "r = relief.Relief(n_features=1)\n",
        "matrix= r.fit_transform(X_arr,y_arr)\n",
        "print(r.w_)"
      ],
      "metadata": {
        "colab": {
          "base_uri": "https://localhost:8080/"
        },
        "id": "_9K97ximmLbC",
        "outputId": "903c963a-a693-4f91-a883-8ab6c954715f"
      },
      "execution_count": null,
      "outputs": [
        {
          "output_type": "stream",
          "name": "stdout",
          "text": [
            "[0.0179348  0.01793485 0.00041197 0.01311329 0.01045071]\n"
          ]
        }
      ]
    },
    {
      "cell_type": "code",
      "source": [
        "x=r.w_\n",
        "y=['Mean','RMS','STD','Kurtosis','skew']\n",
        "plt.barh(y, x)\n",
        "plt.ylabel(\"feature\")\n",
        "plt.xlabel(\"feature_importance\")\n",
        "plt.show() "
      ],
      "metadata": {
        "colab": {
          "base_uri": "https://localhost:8080/",
          "height": 280
        },
        "id": "25FapNFWoP_H",
        "outputId": "96e6f8f8-9b8a-47a1-f7b5-3102e4084536"
      },
      "execution_count": null,
      "outputs": [
        {
          "output_type": "display_data",
          "data": {
            "text/plain": [
              "<Figure size 432x288 with 1 Axes>"
            ],
            "image/png": "[encoded data removed]"
          },
          "metadata": {
            "needs_background": "light"
          }
        }
      ]
    },
    {
      "cell_type": "code",
      "source": [
        "df_ps6['performance'] =target[4]\n",
        "enc=LabelEncoder()\n",
        "df_ps6['performance']=enc.fit_transform(df_ps6['performance'])\n",
        "y=df_ps6['performance']\n",
        "x=df_ps6.drop(\"performance\",axis='columns')\n",
        "X_arr=x.to_numpy()\n",
        "y_arr=y.to_numpy()\n",
        "r = relief.Relief(n_features=1)\n",
        "matrix= r.fit_transform(X_arr,y_arr)\n",
        "print(r.w_)"
      ],
      "metadata": {
        "colab": {
          "base_uri": "https://localhost:8080/"
        },
        "id": "EW9Fg9iWoRtS",
        "outputId": "2fb62737-ec87-4177-f33d-5ad002c6b7da"
      },
      "execution_count": null,
      "outputs": [
        {
          "output_type": "stream",
          "name": "stdout",
          "text": [
            "[0.019491   0.01949137 0.00036361 0.01264242 0.01340234]\n"
          ]
        }
      ]
    },
    {
      "cell_type": "code",
      "source": [
        "x=r.w_\n",
        "y=['Mean','RMS','STD','Kurtosis','skew']\n",
        "plt.barh(y, x)\n",
        "plt.ylabel(\"feature\")\n",
        "plt.xlabel(\"feature_importance\")\n",
        "plt.show() "
      ],
      "metadata": {
        "colab": {
          "base_uri": "https://localhost:8080/",
          "height": 280
        },
        "id": "IzO_bcuGoRv1",
        "outputId": "933f6132-903e-4dc9-8bbb-a72e39582f77"
      },
      "execution_count": null,
      "outputs": [
        {
          "output_type": "display_data",
          "data": {
            "text/plain": [
              "<Figure size 432x288 with 1 Axes>"
            ],
            "image/png": "[encoded data removed]"
          },
          "metadata": {
            "needs_background": "light"
          }
        }
      ]
    },
    {
      "cell_type": "markdown",
      "source": [
        "#Checking stability with GBDTC"
      ],
      "metadata": {
        "id": "PdemRBzeoncW"
      }
    },
    {
      "cell_type": "code",
      "source": [
        "df_final=pd.DataFrame()\n",
        "df_final['PS1_f']=df_ps1['Mean']\n",
        "df_final['PS2_f']=df_ps2['Mean']\n",
        "df_final['PS3_f']=df_ps3['Kurtosis']\n",
        "df_final['PS4_f']=df_ps4['Kurtosis']\n",
        "df_final['PS5_f']=df_ps5['RMS']\n",
        "df_final['PS6_f']=df_ps6['RMS']\n",
        "df_final['performance']=target[4]"
      ],
      "metadata": {
        "id": "I8O4Wrh0ouLU"
      },
      "execution_count": null,
      "outputs": []
    },
    {
      "cell_type": "code",
      "source": [
        "enc=LabelEncoder()\n",
        "df_final['performance']=enc.fit_transform(df_final['performance'])"
      ],
      "metadata": {
        "id": "phgtkG1do00-"
      },
      "execution_count": null,
      "outputs": []
    },
    {
      "cell_type": "code",
      "source": [
        "#performing train test split 80:20\n",
        "y=df_final['performance']\n",
        "del df_final['performance']\n",
        "x=df_final\n",
        "from sklearn.model_selection import train_test_split\n",
        "X_train,X_test,y_train,y_test=train_test_split(x,y,test_size=0.2,random_state=42)"
      ],
      "metadata": {
        "id": "JarqjalFo03c"
      },
      "execution_count": null,
      "outputs": []
    },
    {
      "cell_type": "code",
      "source": [
        "#Checking whether data is balanced or not\n",
        "risk_flag_sum=pd.value_counts(y_train,sort=True)\n",
        "risk_flag_sum.plot(kind='bar',rot=0)\n",
        "plt.title('For contaminators value')\n",
        "\n",
        "plt.xlabel('each category')\n",
        "plt.ylabel('Frequency')\n",
        "#We can observe data is imbalanced from below figure"
      ],
      "metadata": {
        "colab": {
          "base_uri": "https://localhost:8080/",
          "height": 312
        },
        "id": "qoHPLJd2o06N",
        "outputId": "5c1300fc-5e0a-4c58-e38e-cbd2aebab67f"
      },
      "execution_count": null,
      "outputs": [
        {
          "output_type": "execute_result",
          "data": {
            "text/plain": [
              "Text(0, 0.5, 'Frequency')"
            ]
          },
          "metadata": {},
          "execution_count": 55
        },
        {
          "output_type": "display_data",
          "data": {
            "text/plain": [
              "<Figure size 432x288 with 1 Axes>"
            ],
            "image/png": "[encoded data removed]"
          },
          "metadata": {
            "needs_background": "light"
          }
        }
      ]
    },
    {
      "cell_type": "code",
      "source": [
        "#Now we are using Synthetic Minority OverSampling Technique(SMOTE) on Training data\n",
        "#We use SMOTE to overcome Class Imbalance\n",
        "from collections import Counter\n",
        "from imblearn.combine import SMOTETomek\n",
        "counter=Counter(y_train)\n",
        "print('before',counter)\n",
        "smtom=SMOTETomek()\n",
        "X,Y=smtom.fit_resample(X_train,y_train)\n",
        "counter=Counter(Y)\n",
        "print('after',counter)"
      ],
      "metadata": {
        "colab": {
          "base_uri": "https://localhost:8080/"
        },
        "id": "Kj_u4Qu6o08s",
        "outputId": "f6d2b78a-a772-4734-bcd2-218fe30a6f1e"
      },
      "execution_count": null,
      "outputs": [
        {
          "output_type": "stream",
          "name": "stdout",
          "text": [
            "before Counter({0: 1155, 1: 609})\n",
            "after Counter({0: 1135, 1: 1135})\n"
          ]
        }
      ]
    },
    {
      "cell_type": "code",
      "source": [
        "#We use correlation matrix to observe relations among different features\n",
        "corrmat=df_final.corr()\n",
        "top_corr_features=corrmat.index\n",
        "plt.figure(figsize=(6,6))\n",
        "c=sns.heatmap(df_final[top_corr_features].corr(),annot=True,cmap=\"RdYlGn\")"
      ],
      "metadata": {
        "colab": {
          "base_uri": "https://localhost:8080/",
          "height": 379
        },
        "id": "RzDBAYaMo0_R",
        "outputId": "bad8a7a0-73de-47ab-ef2e-543492f91b93"
      },
      "execution_count": null,
      "outputs": [
        {
          "output_type": "display_data",
          "data": {
            "text/plain": [
              "<Figure size 432x432 with 2 Axes>"
            ],
            "image/png": "[encoded data removed]"
          },
          "metadata": {
            "needs_background": "light"
          }
        }
      ]
    },
    {
      "cell_type": "code",
      "source": [
        "from sklearn.ensemble import GradientBoostingClassifier\n",
        "classifier=GradientBoostingClassifier()\n",
        "random_grid={'learning_rate':[0.001,0.005,0.01,0.05,0.1,0.15],'n_estimators':[50,100,200,250],'max_features':[1,3,5,7],'min_samples_split':[2,5,10],'min_samples_leaf':[1,2,4],'max_depth':[1,3,5,7,10,30]}"
      ],
      "metadata": {
        "id": "p965SJG3pAx0"
      },
      "execution_count": null,
      "outputs": []
    },
    {
      "cell_type": "code",
      "source": [
        "from sklearn.model_selection import RandomizedSearchCV\n",
        "classifier_random=RandomizedSearchCV(estimator=classifier,param_distributions=random_grid,n_iter=100,n_jobs=-1,cv=5,verbose=3)\n",
        "classifier_random.fit(X_train,y_train)"
      ],
      "metadata": {
        "colab": {
          "base_uri": "https://localhost:8080/"
        },
        "id": "ZhXGk6X-_vie",
        "outputId": "66115b40-1692-4c98-b55f-e0e6db2e5d61"
      },
      "execution_count": null,
      "outputs": [
        {
          "output_type": "stream",
          "name": "stdout",
          "text": [
            "Fitting 5 folds for each of 100 candidates, totalling 500 fits\n"
          ]
        },
        {
          "output_type": "stream",
          "name": "stderr",
          "text": [
            "/usr/local/lib/python3.7/dist-packages/sklearn/model_selection/_validation.py:372: FitFailedWarning: \n",
            "105 fits failed out of a total of 500.\n",
            "The score on these train-test partitions for these parameters will be set to nan.\n",
            "If these failures are not expected, you can try to debug them by setting error_score='raise'.\n",
            "\n",
            "Below are more details about the failures:\n",
            "--------------------------------------------------------------------------------\n",
            "105 fits failed with the following error:\n",
            "Traceback (most recent call last):\n",
            "  File \"/usr/local/lib/python3.7/dist-packages/sklearn/model_selection/_validation.py\", line 680, in _fit_and_score\n",
            "    estimator.fit(X_train, y_train, **fit_params)\n",
            "  File \"/usr/local/lib/python3.7/dist-packages/sklearn/ensemble/_gb.py\", line 596, in fit\n",
            "    monitor,\n",
            "  File \"/usr/local/lib/python3.7/dist-packages/sklearn/ensemble/_gb.py\", line 672, in _fit_stages\n",
            "    X_csr,\n",
            "  File \"/usr/local/lib/python3.7/dist-packages/sklearn/ensemble/_gb.py\", line 246, in _fit_stage\n",
            "    tree.fit(X, residual, sample_weight=sample_weight, check_input=False)\n",
            "  File \"/usr/local/lib/python3.7/dist-packages/sklearn/tree/_classes.py\", line 1320, in fit\n",
            "    X_idx_sorted=X_idx_sorted,\n",
            "  File \"/usr/local/lib/python3.7/dist-packages/sklearn/tree/_classes.py\", line 308, in fit\n",
            "    raise ValueError(\"max_features must be in (0, n_features]\")\n",
            "ValueError: max_features must be in (0, n_features]\n",
            "\n",
            "  warnings.warn(some_fits_failed_message, FitFailedWarning)\n",
            "/usr/local/lib/python3.7/dist-packages/sklearn/model_selection/_search.py:972: UserWarning: One or more of the test scores are non-finite: [       nan 0.9625837  0.96372328 0.95748455 0.65476275        nan\n",
            "        nan 0.9189351  0.65476275        nan        nan 0.65476275\n",
            "        nan 0.65476275 0.95408351 0.94841134 0.92913984 0.95294714\n",
            "        nan 0.85088527 0.96768446 0.65476275 0.96372167 0.65476275\n",
            " 0.65476275        nan        nan        nan 0.96145377 0.97109355\n",
            "        nan 0.65476275 0.65476275 0.9665497  0.65476275 0.65476275\n",
            " 0.65476275        nan 0.65476275 0.97165851 0.68252479 0.65476275\n",
            "        nan 0.97279327 0.96882082 0.65476275 0.65476275 0.86168394\n",
            " 0.68252479        nan 0.93877801 0.65476275 0.65476275 0.97222669\n",
            " 0.9671211  0.969389   0.90986512 0.95919553        nan 0.9688176\n",
            "        nan 0.97279327        nan        nan 0.9399031  0.92233775\n",
            " 0.65476275 0.65476275 0.96825103 0.65476275 0.94897953 0.96825747\n",
            " 0.90872714 0.96145699 0.93764325 0.92460565 0.96428824 0.94161087\n",
            " 0.97109516        nan 0.97052376 0.91894315 0.96598796 0.65476275\n",
            " 0.9637265  0.96032063        nan 0.65476275        nan 0.93537696\n",
            " 0.89853367 0.65476275 0.93594676 0.96202035 0.93026977 0.97109194\n",
            " 0.96882082 0.95181561 0.94671163 0.65476275]\n",
            "  category=UserWarning,\n"
          ]
        },
        {
          "output_type": "execute_result",
          "data": {
            "text/plain": [
              "RandomizedSearchCV(cv=5, estimator=GradientBoostingClassifier(), n_iter=100,\n",
              "                   n_jobs=-1,\n",
              "                   param_distributions={'learning_rate': [0.001, 0.005, 0.01,\n",
              "                                                          0.05, 0.1, 0.15],\n",
              "                                        'max_depth': [1, 3, 5, 7, 10, 30],\n",
              "                                        'max_features': [1, 3, 5, 7],\n",
              "                                        'min_samples_leaf': [1, 2, 4],\n",
              "                                        'min_samples_split': [2, 5, 10],\n",
              "                                        'n_estimators': [50, 100, 200, 250]},\n",
              "                   verbose=3)"
            ]
          },
          "metadata": {},
          "execution_count": 58
        }
      ]
    },
    {
      "cell_type": "code",
      "source": [
        "classifier_random.best_estimator_"
      ],
      "metadata": {
        "colab": {
          "base_uri": "https://localhost:8080/"
        },
        "id": "IF5h8ML-_vk_",
        "outputId": "216ec777-4fc2-4259-e4e6-86a5bf962b81"
      },
      "execution_count": null,
      "outputs": [
        {
          "output_type": "execute_result",
          "data": {
            "text/plain": [
              "GradientBoostingClassifier(learning_rate=0.15, max_depth=10, max_features=3,\n",
              "                           min_samples_leaf=4, min_samples_split=10,\n",
              "                           n_estimators=250)"
            ]
          },
          "metadata": {},
          "execution_count": 59
        }
      ]
    },
    {
      "cell_type": "code",
      "source": [
        "classifier=GradientBoostingClassifier(learning_rate=0.15, max_depth=10, max_features=3,\n",
        "                           min_samples_leaf=4, min_samples_split=10,\n",
        "                           n_estimators=250)\n",
        "classifier.fit(X_train,y_train)"
      ],
      "metadata": {
        "colab": {
          "base_uri": "https://localhost:8080/"
        },
        "id": "L-c0mu3DpA0c",
        "outputId": "277ec31d-cde6-4cb3-f1af-58abb6816599"
      },
      "execution_count": null,
      "outputs": [
        {
          "output_type": "execute_result",
          "data": {
            "text/plain": [
              "GradientBoostingClassifier(learning_rate=0.15, max_depth=10, max_features=3,\n",
              "                           min_samples_leaf=4, min_samples_split=10,\n",
              "                           n_estimators=250)"
            ]
          },
          "metadata": {},
          "execution_count": 60
        }
      ]
    },
    {
      "cell_type": "code",
      "source": [
        "y_testpred=classifier.predict(X_test)\n",
        "df_testpred=y_testpred\n",
        "df_testpred=df_testpred.reshape(-1,1)\n",
        "accuracy_score(y_test, y_testpred)"
      ],
      "metadata": {
        "colab": {
          "base_uri": "https://localhost:8080/"
        },
        "id": "MFW6m3bP1mSS",
        "outputId": "785fb3eb-6bc9-4bae-863c-38908162e637"
      },
      "execution_count": null,
      "outputs": [
        {
          "output_type": "execute_result",
          "data": {
            "text/plain": [
              "0.9773242630385488"
            ]
          },
          "metadata": {},
          "execution_count": 63
        }
      ]
    }
  ]
}